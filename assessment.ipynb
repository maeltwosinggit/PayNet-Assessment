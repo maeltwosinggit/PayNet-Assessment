{
 "cells": [
  {
   "cell_type": "markdown",
   "id": "e2c029db",
   "metadata": {},
   "source": [
    "Downloading Kaggle dataset and store it in this repo"
   ]
  },
  {
   "cell_type": "code",
   "execution_count": 1,
   "id": "4a9534cb",
   "metadata": {},
   "outputs": [
    {
     "name": "stdout",
     "output_type": "stream",
     "text": [
      "Path to dataset files: C:\\Users\\MSI\\.cache\\kagglehub\\datasets\\jinquan\\cc-sample-data\\versions\\1\n",
      "Files moved to: ./datasets/cc-sample-data\n"
     ]
    }
   ],
   "source": [
    "import kagglehub\n",
    "import shutil\n",
    "import os\n",
    "\n",
    "# Download latest version\n",
    "path = kagglehub.dataset_download(\"jinquan/cc-sample-data\")\n",
    "print(\"Path to dataset files:\", path)\n",
    "\n",
    "target_path = \"./datasets/cc-sample-data\"\n",
    "\n",
    "os.makedirs(target_path, exist_ok=True)\n",
    "for filename in os.listdir(path):\n",
    "    full_file_name = os.path.join(path, filename)\n",
    "    if os.path.isfile(full_file_name):\n",
    "        shutil.copy(full_file_name, target_path)\n",
    "\n",
    "print(\"Files moved to:\", target_path)"
   ]
  },
  {
   "cell_type": "markdown",
   "id": "4f75e95d",
   "metadata": {},
   "source": [
    "Setting Up Spark"
   ]
  },
  {
   "cell_type": "code",
   "execution_count": 2,
   "id": "f28a8704",
   "metadata": {},
   "outputs": [],
   "source": [
    "import pyspark\n",
    "import pandas as pd\n",
    "import matplotlib.pyplot as plt\n",
    "from pyspark.sql import SparkSession\n",
    "\n",
    "spark = SparkSession.builder \\\n",
    "    .appName(\"CreditCardFraud\") \\\n",
    "    .master(\"local[*]\") \\\n",
    "    .getOrCreate()\n"
   ]
  },
  {
   "cell_type": "markdown",
   "id": "e975da3d",
   "metadata": {},
   "source": [
    "Dynamically get the downloaded file path and store in variable"
   ]
  },
  {
   "cell_type": "code",
   "execution_count": 3,
   "id": "3f3b143d",
   "metadata": {},
   "outputs": [
    {
     "name": "stdout",
     "output_type": "stream",
     "text": [
      "Reading JSON from: ./datasets/cc-sample-data\\cc_sample_transaction.json\n"
     ]
    }
   ],
   "source": [
    "json_files = [f for f in os.listdir(target_path) if f.endswith(\".json\")]\n",
    "if not json_files:\n",
    "    raise FileNotFoundError(\"No JSON file found in downloaded dataset\")\n",
    "\n",
    "json_path = os.path.join(target_path, json_files[0])  # Use first JSON file found\n",
    "print(\"Reading JSON from:\", json_path)"
   ]
  },
  {
   "cell_type": "markdown",
   "id": "477955fe",
   "metadata": {},
   "source": [
    "Read json file using Spark"
   ]
  },
  {
   "cell_type": "code",
   "execution_count": 4,
   "id": "4d610144",
   "metadata": {},
   "outputs": [
    {
     "name": "stdout",
     "output_type": "stream",
     "text": [
      "root\n",
      " |-- Unnamed: 0: string (nullable = true)\n",
      " |-- amt: string (nullable = true)\n",
      " |-- category: string (nullable = true)\n",
      " |-- cc_bic: string (nullable = true)\n",
      " |-- cc_num: string (nullable = true)\n",
      " |-- is_fraud: string (nullable = true)\n",
      " |-- merch_eff_time: string (nullable = true)\n",
      " |-- merch_last_update_time: string (nullable = true)\n",
      " |-- merch_lat: string (nullable = true)\n",
      " |-- merch_long: string (nullable = true)\n",
      " |-- merch_zipcode: string (nullable = true)\n",
      " |-- merchant: string (nullable = true)\n",
      " |-- personal_detail: string (nullable = true)\n",
      " |-- trans_date_trans_time: string (nullable = true)\n",
      " |-- trans_num: string (nullable = true)\n",
      "\n",
      "+----------+------+-------------+-----------+----------------+--------+----------------+----------------------+------------------+-----------+-------------+--------------------+--------------------+---------------------+--------------------+\n",
      "|Unnamed: 0|   amt|     category|     cc_bic|          cc_num|is_fraud|  merch_eff_time|merch_last_update_time|         merch_lat| merch_long|merch_zipcode|            merchant|     personal_detail|trans_date_trans_time|           trans_num|\n",
      "+----------+------+-------------+-----------+----------------+--------+----------------+----------------------+------------------+-----------+-------------+--------------------+--------------------+---------------------+--------------------+\n",
      "|         0|  4.97|     misc_net|CITIUS33CHI|2703186189652095|       0|1325376018798532|         1325376018666|         36.011293| -82.048315|        28705|fraud_Rippin, Kub...|{\"person_name\":\"J...|  2019-01-01 00:00:18|0b242abb623afc578...|\n",
      "|         1|107.23|  grocery_pos|   ADMDUS41|    630423337322|       0|1325376044867960|          132537604479|49.159046999999994|-118.186462|         NULL|fraud_Heller, Gut...|{\"person_name\":\"S...|  2019-01-01 00:00:44|1f76529f857473494...|\n",
      "|         2|220.11|entertainment|       Null|  38859492057661|       0|1325376051506840|         1325376051286|         43.150704|-112.154481|        83236|fraud_Lind-Buckridge|{\"person_name\":\"E...|  2019-01-01 00:00:51|a1a22d70485983eac...|\n",
      "|         3|  45.0|gas_transport|DEUTUS33TRF|3534093764340240|       0|1325376076794698|         1325376076365|         47.034331|-112.561071|         NULL|fraud_Kutch, Herm...|{\"person_name\":\"J...|  2019-01-01 00:01:16|6b849c168bdad6f86...|\n",
      "|         4| 41.96|     misc_pos|   APBCUS61| 375534208663984|       0|1325376186746376|          132537618681|         38.674999| -78.632459|        22844| fraud_Keeling-Crist|{\"person_name\":\"T...|  2019-01-01 00:03:06|a41d7549acf907893...|\n",
      "+----------+------+-------------+-----------+----------------+--------+----------------+----------------------+------------------+-----------+-------------+--------------------+--------------------+---------------------+--------------------+\n",
      "only showing top 5 rows\n"
     ]
    }
   ],
   "source": [
    "from pyspark.sql.functions import col\n",
    "\n",
    "df_raw = spark.read.json(json_path)  # Replace with actual path to JSON file\n",
    "df_raw.printSchema()\n",
    "df_raw.show(5)\n"
   ]
  },
  {
   "cell_type": "code",
   "execution_count": 9,
   "id": "f9501b85",
   "metadata": {},
   "outputs": [],
   "source": [
    "from pyspark.sql.functions import col\n",
    "\n",
    "df = df_raw.select(\n",
    "    col(\"Unnamed: 0\").cast(\"int\"),\n",
    "    col(\"amt\").cast(\"double\"),\n",
    "    col(\"category\"),\n",
    "    col(\"cc_bic\"),\n",
    "    col(\"cc_num\").cast(\"long\"),\n",
    "    col(\"is_fraud\").cast(\"int\"),\n",
    "    col(\"merch_eff_time\").cast(\"bigint\"),\n",
    "    col(\"merch_last_update_time\").cast(\"bigint\"),\n",
    "    col(\"merch_lat\").cast(\"double\"),\n",
    "    col(\"merch_long\").cast(\"double\"),\n",
    "    col(\"merch_zipcode\"),\n",
    "    col(\"merchant\"),\n",
    "    col(\"personal_detail\"),\n",
    "    col(\"trans_date_trans_time\"),\n",
    "    col(\"trans_num\")\n",
    ")\n"
   ]
  },
  {
   "cell_type": "code",
   "execution_count": 14,
   "id": "76d2b659",
   "metadata": {},
   "outputs": [],
   "source": [
    "# df_raw.select(\"personal_detail\").show(truncate=False)\n",
    "# after viewing a sample of the available dataset, i need redefine my schema to flatten all json columns: address, personal_detail\n",
    "\n",
    "from pyspark.sql.functions import from_json, col\n",
    "from pyspark.sql.types import StructType, StringType\n",
    "\n",
    "# Define schema for nested address\n",
    "address_schema = StructType() \\\n",
    "    .add(\"street\", StringType()) \\\n",
    "    .add(\"city\", StringType()) \\\n",
    "    .add(\"state\", StringType()) \\\n",
    "    .add(\"zip\", StringType())\n",
    "\n",
    "# Define schema for personal_detail\n",
    "personal_schema = StructType() \\\n",
    "    .add(\"person_name\", StringType()) \\\n",
    "    .add(\"dob\", StringType()) \\\n",
    "    .add(\"gender\", StringType()) \\\n",
    "    .add(\"job\", StringType()) \\\n",
    "    .add(\"address\", StringType()) \\\n",
    "    .add(\"lat\", StringType()) \\\n",
    "    .add(\"long\", StringType()) \\\n",
    "    .add(\"city_pop\", StringType())\n",
    "# # note: address still a string, we'll parse next\n",
    "\n",
    "# First parse the personal_detail JSON\n",
    "df = df.withColumn(\"personal_json\", from_json(col(\"personal_detail\"), personal_schema))\n",
    "\n",
    "# Now parse the stringified address JSON\n",
    "df = df.withColumn(\"address_json\", from_json(col(\"personal_json.address\"), address_schema))\n",
    "\n",
    "# Flatten personal fields\n",
    "for field in [\"person_name\", \"dob\", \"gender\", \"job\", \"lat\", \"long\", \"city_pop\"]:\n",
    "    df = df.withColumn(field, col(\"personal_json\")[field])\n",
    "\n",
    "# Flatten address fields\n",
    "for field in [\"street\", \"city\", \"state\", \"zip\"]:\n",
    "    df = df.withColumn(field, col(\"address_json\")[field])\n",
    "\n",
    "df = df.drop(\"personal_detail\", \"personal_json\", \"address_json\")\n"
   ]
  },
  {
   "cell_type": "markdown",
   "id": "a37d0956",
   "metadata": {},
   "source": [
    "Successfully Flatten the df (yay!)"
   ]
  },
  {
   "cell_type": "code",
   "execution_count": 15,
   "id": "c56528f9",
   "metadata": {},
   "outputs": [
    {
     "name": "stdout",
     "output_type": "stream",
     "text": [
      "+----------+------+-------------+-----------+-------------------+--------+----------------+----------------------+------------------+------------------+-------------+--------------------+---------------------+--------------------+--------------------+----------+------+--------------------+-------+------------------+--------+--------------------+--------------------+-----+-----+\n",
      "|Unnamed: 0|   amt|     category|     cc_bic|             cc_num|is_fraud|  merch_eff_time|merch_last_update_time|         merch_lat|        merch_long|merch_zipcode|            merchant|trans_date_trans_time|           trans_num|         person_name|       dob|gender|                 job|    lat|              long|city_pop|              street|                city|state|  zip|\n",
      "+----------+------+-------------+-----------+-------------------+--------+----------------+----------------------+------------------+------------------+-------------+--------------------+---------------------+--------------------+--------------------+----------+------+--------------------+-------+------------------+--------+--------------------+--------------------+-----+-----+\n",
      "|         0|  4.97|     misc_net|CITIUS33CHI|   2703186189652095|       0|1325376018798532|         1325376018666|         36.011293|        -82.048315|        28705|fraud_Rippin, Kub...|  2019-01-01 00:00:18|0b242abb623afc578...|Jennifer,Banks,eeeee|1988-03-09|     F|Psychologist, cou...|36.0788|          -81.1781|    3495|      561 Perry Cove|      Moravian Falls|   NC|28654|\n",
      "|         1|107.23|  grocery_pos|   ADMDUS41|       630423337322|       0|1325376044867960|          132537604479|49.159046999999994|       -118.186462|         NULL|fraud_Heller, Gut...|  2019-01-01 00:00:44|1f76529f857473494...|Stephanie,Gill,eeeee|1978-06-21|     F|Special education...|48.8878|         -118.2105|     149|43039 Riley Green...|              Orient|   WA|99160|\n",
      "|         2|220.11|entertainment|       Null|     38859492057661|       0|1325376051506840|         1325376051286|         43.150704|       -112.154481|        83236|fraud_Lind-Buckridge|  2019-01-01 00:00:51|a1a22d70485983eac...|      Edward@Sanchez|1962-01-19|     M|Nature conservati...|42.1808|          -112.262|    4154|594 White Dale Su...|          Malad City|   ID|83252|\n",
      "|         3|  45.0|gas_transport|DEUTUS33TRF|   3534093764340240|       0|1325376076794698|         1325376076365|         47.034331|       -112.561071|         NULL|fraud_Kutch, Herm...|  2019-01-01 00:01:16|6b849c168bdad6f86...|     Jeremy/White, !|1967-01-12|     M|     Patent attorney|46.2306|         -112.1138|    1939|9443 Cynthia Cour...|             Boulder|   MT|59632|\n",
      "|         4| 41.96|     misc_pos|   APBCUS61|    375534208663984|       0|1325376186746376|          132537618681|         38.674999|        -78.632459|        22844| fraud_Keeling-Crist|  2019-01-01 00:03:06|a41d7549acf907893...|        Tyler@Garcia|1986-03-28|     M|Dance movement ps...|38.4207|          -79.4629|      99|    408 Bradley Rest|            Doe Hill|   VA|24433|\n",
      "|         5| 94.63|gas_transport|   APBCUS61|   4767265376804500|       0|1325376248271406|         1325376248483|         40.653382|-76.15266700000001|        17972|fraud_Stroman, Hu...|  2019-01-01 00:04:08|189a841a0a8ba0305...|Jennifer,Conner,e...|1961-06-19|     F|   Transport planner| 40.375|          -75.2045|    2158|   4655 David Island|              Dublin|   PA|18917|\n",
      "|         6| 44.54|  grocery_net|   APBCUS61|     30074693890476|       0|1325376282274130|         1325376282247|37.162704999999995|        -100.15337|         NULL|fraud_Rowe-Vander...|  2019-01-01 00:04:42|83ec1cc84142af6e2...|Kelsey, , Richard...|1993-08-16|     F|     Arboriculturist|37.9931|         -100.9893|    2691|889 Sarah Station...|             Holcomb|   KS|67851|\n",
      "|         7| 71.65|gas_transport|         NA|   6011360759745864|       0|1325376308837349|         1325376308152|         38.948089|        -78.540296|        22644|fraud_Corwin-Collins|  2019-01-01 00:05:08|6d294ed2cc447d2c7...|    Steven, Williams|1947-08-21|     M|Designer, multimedia|38.8432|          -78.6003|    6018|231 Flores Pass S...|            Edinburg|   VA|22824|\n",
      "|         8|  4.27|     misc_pos|   ACEEUS31|   4922710831011201|       0|1325376318245892|         1325376318278|         40.351813|        -79.958146|        15236|    fraud_Herzog Ltd|  2019-01-01 00:05:18|fc28024ce480f8ef2...|Heather, , Chase ...|1941-03-07|     F|Public affairs co...|40.3359|          -79.6607|    1472|6888 Hicks Stream...|               Manor|   PA|15665|\n",
      "|         9|198.39|  grocery_pos|DEUTUS33TRF|   2720830304681674|       0|1325376361965234|         1325376361857|         37.179198|        -87.485381|        42442|fraud_Schoen, Kup...|  2019-01-01 00:06:01|3b9014ea8fb80bd65...|     Melissa@Aguilar|1974-03-28|     F|         Pathologist| 36.522|-87.34899999999999|  151785|21326 Taylor Squa...|         Clarksville|   TN|37040|\n",
      "|        10| 24.74|  grocery_pos|           |      4642894980163|       0|1325376383967287|         1325376383455|40.275890999999994|        -96.011548|        68348|fraud_Rutherford-...|  2019-01-01 00:06:23|d71c95ab6b7356dd7...|     Eddie|Mendez!!!|1990-07-13|     M|          IT trainer|40.7491|           -95.038|    7297|1831 Faith View S...|            Clarinda|   IA|51632|\n",
      "|        11|  7.77| shopping_net|DEUTUS33TRF|    377234009633447|       0|1325376413912233|         1325376413859|         40.103866|        -78.624459|        15554|fraud_Kerluke-Abs...|  2019-01-01 00:06:53|3c74776e558f1499a...|   Theresa@Blackwell|1966-02-14|     F|   Systems developer|39.3716|          -77.8229|    1925|43576 Kristina Is...| Shenandoah Junction|   WV|25442|\n",
      "|        12| 71.22|  grocery_pos|DEUTUS33TRF|    180042946491150|       0|1325376416569264|         1325376416443|         27.630593|        -82.308891|        33598|   fraud_Lockman Ltd|  2019-01-01 00:06:56|c1d9a7ddb1e34639f...|   Charles|Robles!!!|1989-02-28|     M|      Engineer, land|27.7898|          -82.7243|  341043|    3337 Lisa Divide|    Saint Petersburg|   FL|33710|\n",
      "|        13| 96.29|  grocery_pos|   ACEEUS31|   5559857416065248|       0|1325376447442465|         1325376447771|          41.65752|       -122.230347|         NULL|     fraud_Kiehn Inc|  2019-01-01 00:07:27|413636e759663f264...|           Jack@Hill|1945-12-21|     M|     Systems analyst|41.6125|         -122.5258|     589|5916 Susan Bridge...|             Grenada|   CA|96038|\n",
      "|        14|  7.77| shopping_pos|   ACEEUS31|   3514865930894695|       0| 132537654399153|         1325376543282|         32.863258|       -106.520205|         NULL|   fraud_Beier-Hyatt|  2019-01-01 00:09:03|8a6293af5ed278dea...|Christopher@Casta...|1967-08-30|     M|     Naval architect|32.9396|         -105.8189|     899|1632 Cohen Drive ...|High Rolls Mounta...|   NM|88325|\n",
      "|        15|  3.26| shopping_net|CITIUS33CHI|   6011999606625827|       0|1325376560448213|         1325376560435|         41.831174|        -74.335559|        12446|fraud_Schmidt and...|  2019-01-01 00:09:20|baae0b096835c9758...|       Ronald@Carson|1965-06-30|     M|Radiographer, dia...|40.9918|            -73.98|    4664|     870 Rocha Drive|     Harrington Park|   NJ| 7640|\n",
      "|        16| 327.0|     misc_net|CITIUS33CHI|   6011860238257910|       0| 132537664977977|         1325376649369|36.384091999999995|        -99.048472|        73852|fraud_Lebsack and...|  2019-01-01 00:10:49|991c04803b4d4eeab...|        Lisa, Mendez|1952-07-06|     F|Programme researc...| 36.385|          -98.0727|    1078|44259 Beth Statio...|              Lahoma|   OK|73754|\n",
      "|        17|341.67| shopping_pos|           |   3565423334076143|       0|1325376658780653|         1325376658125|         38.674491|        -88.305767|        62824|  fraud_Mayert Group|  2019-01-01 00:10:58|f12cf52be2175703d...| Nathan,Thomas,eeeee|1938-03-15|     M|     Energy engineer|38.9763|          -87.3667|    4081|4923 Campbell Pin...|            Carlisle|   IN|47838|\n",
      "|        18| 63.07|  food_dining|   APBCUS61|   2348245054386329|       0|1325376674645606|         1325376674800|         41.430274|        -79.492553|        16364|fraud_Konopelski,...|  2019-01-01 00:11:14|8500f3d459047eac8...|         Justin, Gay|1946-02-02|     M|     Event organiser|42.1767|          -79.9416|    2518|268 Hayes Rue Sui...|         Harborcreek|   PA|16421|\n",
      "|        19| 44.71|  grocery_pos|           |4956828990005111019|       0| 132537675433224|         1325376754863|         40.079588|-74.84808699999999|        08016|fraud_Schultz, Si...|  2019-01-01 00:12:34|09eff9c806365e2a6...|Kenneth, , Robins...|1980-12-21|     M|Operational resea...|40.6747|          -74.2239|  124967|  269 Sanchez Rapids|           Elizabeth|   NJ| 7208|\n",
      "+----------+------+-------------+-----------+-------------------+--------+----------------+----------------------+------------------+------------------+-------------+--------------------+---------------------+--------------------+--------------------+----------+------+--------------------+-------+------------------+--------+--------------------+--------------------+-----+-----+\n",
      "only showing top 20 rows\n"
     ]
    }
   ],
   "source": [
    "df.show()"
   ]
  },
  {
   "cell_type": "markdown",
   "id": "ae4b8931",
   "metadata": {},
   "source": [
    "Let's go to the Data Cleaning Part"
   ]
  },
  {
   "cell_type": "code",
   "execution_count": null,
   "id": "6cdaf484",
   "metadata": {},
   "outputs": [],
   "source": [
    "# Handling PII Data\n"
   ]
  },
  {
   "cell_type": "markdown",
   "id": "6c0db445",
   "metadata": {},
   "source": [
    "Testing Grounds"
   ]
  },
  {
   "cell_type": "code",
   "execution_count": 1,
   "id": "e067d8a7",
   "metadata": {},
   "outputs": [
    {
     "name": "stdout",
     "output_type": "stream",
     "text": [
      "JAVA_HOME: C:\\Program Files\\Eclipse Adoptium\\jdk-17.0.15.6-hotspot\\\n"
     ]
    }
   ],
   "source": [
    "# to test JAVA_HOME\n",
    "import os\n",
    "print(\"JAVA_HOME:\", os.environ.get(\"JAVA_HOME\"))\n"
   ]
  }
 ],
 "metadata": {
  "kernelspec": {
   "display_name": "Python 3",
   "language": "python",
   "name": "python3"
  },
  "language_info": {
   "codemirror_mode": {
    "name": "ipython",
    "version": 3
   },
   "file_extension": ".py",
   "mimetype": "text/x-python",
   "name": "python",
   "nbconvert_exporter": "python",
   "pygments_lexer": "ipython3",
   "version": "3.12.2"
  }
 },
 "nbformat": 4,
 "nbformat_minor": 5
}
