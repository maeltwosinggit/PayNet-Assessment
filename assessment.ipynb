{
 "cells": [
  {
   "cell_type": "markdown",
   "id": "e2c029db",
   "metadata": {},
   "source": [
    "Downloading Kaggle dataset and store it in this repo"
   ]
  },
  {
   "cell_type": "code",
   "execution_count": null,
   "id": "cca30a3d",
   "metadata": {},
   "outputs": [],
   "source": [
    "# Install in Jupyter cell (inside Python 3.10 kernel)\n",
    "# %pip install pyspark pandas kagglehub[pandas-datasets] matplotlib PyArrow plotly nbformat>=4.2.0 pgeocode geopy geopandas\n",
    "\n",
    "# If IDE still showing error lines due to unresolved imports, most likely linting errors only. \n",
    "# Simple fix is to CTRL+Shift+P and find Python: Select Interpreter. You may select the proper Python version\n",
    "# don't forget to install nbformat>=4.2.0 to avoid bunch of useless warning when calling plotly "
   ]
  },
  {
   "cell_type": "code",
   "execution_count": 2,
   "id": "4a9534cb",
   "metadata": {},
   "outputs": [
    {
     "name": "stderr",
     "output_type": "stream",
     "text": [
      "c:\\Users\\uadrian\\AppData\\Local\\Programs\\Python\\Python310\\lib\\site-packages\\tqdm\\auto.py:21: TqdmWarning: IProgress not found. Please update jupyter and ipywidgets. See https://ipywidgets.readthedocs.io/en/stable/user_install.html\n",
      "  from .autonotebook import tqdm as notebook_tqdm\n"
     ]
    },
    {
     "name": "stdout",
     "output_type": "stream",
     "text": [
      "Path to dataset files: C:\\Users\\uadrian\\.cache\\kagglehub\\datasets\\jinquan\\cc-sample-data\\versions\\1\n",
      "Files moved to: ./datasets/cc-sample-data\n"
     ]
    }
   ],
   "source": [
    "#if not yet install, please run: pip install kagglehub[pandas-datasets]\n",
    "\n",
    "import kagglehub\n",
    "import shutil\n",
    "import os\n",
    "\n",
    "# Download latest version\n",
    "path = kagglehub.dataset_download(\"jinquan/cc-sample-data\")\n",
    "print(\"Path to dataset files:\", path)\n",
    "\n",
    "target_path = \"./datasets/cc-sample-data\"\n",
    "\n",
    "os.makedirs(target_path, exist_ok=True)\n",
    "for filename in os.listdir(path):\n",
    "    full_file_name = os.path.join(path, filename)\n",
    "    if os.path.isfile(full_file_name):\n",
    "        shutil.copy(full_file_name, target_path)\n",
    "\n",
    "print(\"Files moved to:\", target_path)"
   ]
  },
  {
   "cell_type": "markdown",
   "id": "4f75e95d",
   "metadata": {},
   "source": [
    "Setting Up Spark"
   ]
  },
  {
   "cell_type": "code",
   "execution_count": 3,
   "id": "e53b170e",
   "metadata": {},
   "outputs": [
    {
     "name": "stdout",
     "output_type": "stream",
     "text": [
      "c:\\Users\\uadrian\\AppData\\Local\\Programs\\Python\\Python310\\python.exe\n"
     ]
    }
   ],
   "source": [
    "import sys\n",
    "print(sys.executable)"
   ]
  },
  {
   "cell_type": "code",
   "execution_count": 4,
   "id": "f42b112d",
   "metadata": {},
   "outputs": [],
   "source": [
    "import os\n",
    "os.environ[\"HADOOP_HOME\"] = \"C:/hadoop\"\n",
    "os.environ[\"PYSPARK_PYTHON\"] = r\"c:\\Users\\uadrian\\AppData\\Local\\Programs\\Python\\Python310\\python.exe\"\n",
    "os.environ[\"PYSPARK_DRIVER_PYTHON\"] = r\"c:\\Users\\uadrian\\AppData\\Local\\Programs\\Python\\Python310\\python.exe\""
   ]
  },
  {
   "cell_type": "code",
   "execution_count": 5,
   "id": "f28a8704",
   "metadata": {},
   "outputs": [],
   "source": [
    "import pyspark\n",
    "import pandas as pd\n",
    "import matplotlib.pyplot as plt\n",
    "from pyspark.sql import SparkSession\n",
    "\n",
    "spark = SparkSession.builder \\\n",
    "    .appName(\"CreditCardFraud\") \\\n",
    "    .master(\"local[*]\") \\\n",
    "    .config(\"spark.sql.ansi.enabled\", \"false\") \\\n",
    "    .getOrCreate()\n",
    "\n",
    "# fun fact, after u run this script, try open your browser with this url: http://localhost:4040/"
   ]
  },
  {
   "cell_type": "markdown",
   "id": "e975da3d",
   "metadata": {},
   "source": [
    "Dynamically get the downloaded file path and store in variable"
   ]
  },
  {
   "cell_type": "code",
   "execution_count": 6,
   "id": "3f3b143d",
   "metadata": {},
   "outputs": [
    {
     "name": "stdout",
     "output_type": "stream",
     "text": [
      "Reading JSON from: ./datasets/cc-sample-data\\cc_sample_transaction.json\n"
     ]
    }
   ],
   "source": [
    "json_files = [f for f in os.listdir(target_path) if f.endswith(\".json\")]\n",
    "if not json_files:\n",
    "    raise FileNotFoundError(\"No JSON file found in downloaded dataset\")\n",
    "\n",
    "json_path = os.path.join(target_path, json_files[0])  # Use first JSON file found\n",
    "print(\"Reading JSON from:\", json_path)"
   ]
  },
  {
   "cell_type": "markdown",
   "id": "477955fe",
   "metadata": {},
   "source": [
    "Read json file using Spark"
   ]
  },
  {
   "cell_type": "code",
   "execution_count": 7,
   "id": "4d610144",
   "metadata": {},
   "outputs": [
    {
     "name": "stdout",
     "output_type": "stream",
     "text": [
      "root\n",
      " |-- Unnamed: 0: string (nullable = true)\n",
      " |-- amt: string (nullable = true)\n",
      " |-- category: string (nullable = true)\n",
      " |-- cc_bic: string (nullable = true)\n",
      " |-- cc_num: string (nullable = true)\n",
      " |-- is_fraud: string (nullable = true)\n",
      " |-- merch_eff_time: string (nullable = true)\n",
      " |-- merch_last_update_time: string (nullable = true)\n",
      " |-- merch_lat: string (nullable = true)\n",
      " |-- merch_long: string (nullable = true)\n",
      " |-- merch_zipcode: string (nullable = true)\n",
      " |-- merchant: string (nullable = true)\n",
      " |-- personal_detail: string (nullable = true)\n",
      " |-- trans_date_trans_time: string (nullable = true)\n",
      " |-- trans_num: string (nullable = true)\n",
      "\n",
      "+----------+------+-------------+-----------+----------------+--------+----------------+----------------------+------------------+-----------+-------------+--------------------+--------------------+---------------------+--------------------+\n",
      "|Unnamed: 0|   amt|     category|     cc_bic|          cc_num|is_fraud|  merch_eff_time|merch_last_update_time|         merch_lat| merch_long|merch_zipcode|            merchant|     personal_detail|trans_date_trans_time|           trans_num|\n",
      "+----------+------+-------------+-----------+----------------+--------+----------------+----------------------+------------------+-----------+-------------+--------------------+--------------------+---------------------+--------------------+\n",
      "|         0|  4.97|     misc_net|CITIUS33CHI|2703186189652095|       0|1325376018798532|         1325376018666|         36.011293| -82.048315|        28705|fraud_Rippin, Kub...|{\"person_name\":\"J...|  2019-01-01 00:00:18|0b242abb623afc578...|\n",
      "|         1|107.23|  grocery_pos|   ADMDUS41|    630423337322|       0|1325376044867960|          132537604479|49.159046999999994|-118.186462|         NULL|fraud_Heller, Gut...|{\"person_name\":\"S...|  2019-01-01 00:00:44|1f76529f857473494...|\n",
      "|         2|220.11|entertainment|       Null|  38859492057661|       0|1325376051506840|         1325376051286|         43.150704|-112.154481|        83236|fraud_Lind-Buckridge|{\"person_name\":\"E...|  2019-01-01 00:00:51|a1a22d70485983eac...|\n",
      "|         3|  45.0|gas_transport|DEUTUS33TRF|3534093764340240|       0|1325376076794698|         1325376076365|         47.034331|-112.561071|         NULL|fraud_Kutch, Herm...|{\"person_name\":\"J...|  2019-01-01 00:01:16|6b849c168bdad6f86...|\n",
      "|         4| 41.96|     misc_pos|   APBCUS61| 375534208663984|       0|1325376186746376|          132537618681|         38.674999| -78.632459|        22844| fraud_Keeling-Crist|{\"person_name\":\"T...|  2019-01-01 00:03:06|a41d7549acf907893...|\n",
      "+----------+------+-------------+-----------+----------------+--------+----------------+----------------------+------------------+-----------+-------------+--------------------+--------------------+---------------------+--------------------+\n",
      "only showing top 5 rows\n"
     ]
    }
   ],
   "source": [
    "from pyspark.sql.functions import col\n",
    "\n",
    "df_raw = spark.read.json(json_path)  # Replace with actual path to JSON file\n",
    "df_raw.printSchema()\n",
    "df_raw.show(5)\n"
   ]
  },
  {
   "cell_type": "markdown",
   "id": "84dc5f80",
   "metadata": {},
   "source": [
    "JSON Flattening"
   ]
  },
  {
   "cell_type": "code",
   "execution_count": 8,
   "id": "f9501b85",
   "metadata": {},
   "outputs": [],
   "source": [
    "from pyspark.sql.functions import col\n",
    "\n",
    "df = df_raw.select(\n",
    "    col(\"Unnamed: 0\").cast(\"int\"),\n",
    "    col(\"amt\").cast(\"double\"),\n",
    "    col(\"category\"),\n",
    "    col(\"cc_bic\"),\n",
    "    col(\"cc_num\").cast(\"long\"),\n",
    "    col(\"is_fraud\").cast(\"int\"),\n",
    "    col(\"merch_eff_time\").cast(\"bigint\"),\n",
    "    col(\"merch_last_update_time\").cast(\"bigint\"),\n",
    "    col(\"merch_lat\").cast(\"double\"),\n",
    "    col(\"merch_long\").cast(\"double\"),\n",
    "    col(\"merch_zipcode\"),\n",
    "    col(\"merchant\"),\n",
    "    col(\"personal_detail\"),\n",
    "    col(\"trans_date_trans_time\"),\n",
    "    col(\"trans_num\")\n",
    ")\n"
   ]
  },
  {
   "cell_type": "code",
   "execution_count": 9,
   "id": "76d2b659",
   "metadata": {},
   "outputs": [],
   "source": [
    "# df_raw.select(\"personal_detail\").show(truncate=False)\n",
    "# after viewing a sample of the available dataset, i need redefine my schema to flatten all json columns: address, personal_detail\n",
    "\n",
    "from pyspark.sql.functions import from_json, col\n",
    "from pyspark.sql.types import StructType, StringType\n",
    "\n",
    "# Define schema for nested address\n",
    "address_schema = StructType() \\\n",
    "    .add(\"street\", StringType()) \\\n",
    "    .add(\"city\", StringType()) \\\n",
    "    .add(\"state\", StringType()) \\\n",
    "    .add(\"zip\", StringType())\n",
    "\n",
    "# Define schema for personal_detail\n",
    "personal_schema = StructType() \\\n",
    "    .add(\"person_name\", StringType()) \\\n",
    "    .add(\"dob\", StringType()) \\\n",
    "    .add(\"gender\", StringType()) \\\n",
    "    .add(\"job\", StringType()) \\\n",
    "    .add(\"address\", StringType()) \\\n",
    "    .add(\"lat\", StringType()) \\\n",
    "    .add(\"long\", StringType()) \\\n",
    "    .add(\"city_pop\", StringType())\n",
    "# # note: address still a string, we'll parse next\n",
    "\n",
    "# First parse the personal_detail JSON\n",
    "df = df.withColumn(\"personal_json\", from_json(col(\"personal_detail\"), personal_schema))\n",
    "\n",
    "# Now parse the stringified address JSON\n",
    "df = df.withColumn(\"address_json\", from_json(col(\"personal_json.address\"), address_schema))\n",
    "\n",
    "# Flatten personal fields\n",
    "for field in [\"person_name\", \"dob\", \"gender\", \"job\", \"lat\", \"long\", \"city_pop\"]:\n",
    "    df = df.withColumn(field, col(\"personal_json\")[field])\n",
    "\n",
    "# Flatten address fields\n",
    "for field in [\"street\", \"city\", \"state\", \"zip\"]:\n",
    "    df = df.withColumn(field, col(\"address_json\")[field])\n",
    "\n",
    "df = df.drop(\"personal_detail\", \"personal_json\", \"address_json\")\n"
   ]
  },
  {
   "cell_type": "markdown",
   "id": "a37d0956",
   "metadata": {},
   "source": [
    "Successfully Flatten the df, but not handling First/Last Name yet"
   ]
  },
  {
   "cell_type": "code",
   "execution_count": 10,
   "id": "c56528f9",
   "metadata": {},
   "outputs": [
    {
     "name": "stdout",
     "output_type": "stream",
     "text": [
      "+----------+------+-------------+-----------+-------------------+--------+----------------+----------------------+------------------+------------------+-------------+--------------------+---------------------+--------------------+--------------------+----------+------+--------------------+-------+------------------+--------+--------------------+--------------------+-----+-----+\n",
      "|Unnamed: 0|   amt|     category|     cc_bic|             cc_num|is_fraud|  merch_eff_time|merch_last_update_time|         merch_lat|        merch_long|merch_zipcode|            merchant|trans_date_trans_time|           trans_num|         person_name|       dob|gender|                 job|    lat|              long|city_pop|              street|                city|state|  zip|\n",
      "+----------+------+-------------+-----------+-------------------+--------+----------------+----------------------+------------------+------------------+-------------+--------------------+---------------------+--------------------+--------------------+----------+------+--------------------+-------+------------------+--------+--------------------+--------------------+-----+-----+\n",
      "|         0|  4.97|     misc_net|CITIUS33CHI|   2703186189652095|       0|1325376018798532|         1325376018666|         36.011293|        -82.048315|        28705|fraud_Rippin, Kub...|  2019-01-01 00:00:18|0b242abb623afc578...|Jennifer,Banks,eeeee|1988-03-09|     F|Psychologist, cou...|36.0788|          -81.1781|    3495|      561 Perry Cove|      Moravian Falls|   NC|28654|\n",
      "|         1|107.23|  grocery_pos|   ADMDUS41|       630423337322|       0|1325376044867960|          132537604479|49.159046999999994|       -118.186462|         NULL|fraud_Heller, Gut...|  2019-01-01 00:00:44|1f76529f857473494...|Stephanie,Gill,eeeee|1978-06-21|     F|Special education...|48.8878|         -118.2105|     149|43039 Riley Green...|              Orient|   WA|99160|\n",
      "|         2|220.11|entertainment|       Null|     38859492057661|       0|1325376051506840|         1325376051286|         43.150704|       -112.154481|        83236|fraud_Lind-Buckridge|  2019-01-01 00:00:51|a1a22d70485983eac...|      Edward@Sanchez|1962-01-19|     M|Nature conservati...|42.1808|          -112.262|    4154|594 White Dale Su...|          Malad City|   ID|83252|\n",
      "|         3|  45.0|gas_transport|DEUTUS33TRF|   3534093764340240|       0|1325376076794698|         1325376076365|         47.034331|       -112.561071|         NULL|fraud_Kutch, Herm...|  2019-01-01 00:01:16|6b849c168bdad6f86...|     Jeremy/White, !|1967-01-12|     M|     Patent attorney|46.2306|         -112.1138|    1939|9443 Cynthia Cour...|             Boulder|   MT|59632|\n",
      "|         4| 41.96|     misc_pos|   APBCUS61|    375534208663984|       0|1325376186746376|          132537618681|         38.674999|        -78.632459|        22844| fraud_Keeling-Crist|  2019-01-01 00:03:06|a41d7549acf907893...|        Tyler@Garcia|1986-03-28|     M|Dance movement ps...|38.4207|          -79.4629|      99|    408 Bradley Rest|            Doe Hill|   VA|24433|\n",
      "|         5| 94.63|gas_transport|   APBCUS61|   4767265376804500|       0|1325376248271406|         1325376248483|         40.653382|-76.15266700000001|        17972|fraud_Stroman, Hu...|  2019-01-01 00:04:08|189a841a0a8ba0305...|Jennifer,Conner,e...|1961-06-19|     F|   Transport planner| 40.375|          -75.2045|    2158|   4655 David Island|              Dublin|   PA|18917|\n",
      "|         6| 44.54|  grocery_net|   APBCUS61|     30074693890476|       0|1325376282274130|         1325376282247|37.162704999999995|        -100.15337|         NULL|fraud_Rowe-Vander...|  2019-01-01 00:04:42|83ec1cc84142af6e2...|Kelsey, , Richard...|1993-08-16|     F|     Arboriculturist|37.9931|         -100.9893|    2691|889 Sarah Station...|             Holcomb|   KS|67851|\n",
      "|         7| 71.65|gas_transport|         NA|   6011360759745864|       0|1325376308837349|         1325376308152|         38.948089|        -78.540296|        22644|fraud_Corwin-Collins|  2019-01-01 00:05:08|6d294ed2cc447d2c7...|    Steven, Williams|1947-08-21|     M|Designer, multimedia|38.8432|          -78.6003|    6018|231 Flores Pass S...|            Edinburg|   VA|22824|\n",
      "|         8|  4.27|     misc_pos|   ACEEUS31|   4922710831011201|       0|1325376318245892|         1325376318278|         40.351813|        -79.958146|        15236|    fraud_Herzog Ltd|  2019-01-01 00:05:18|fc28024ce480f8ef2...|Heather, , Chase ...|1941-03-07|     F|Public affairs co...|40.3359|          -79.6607|    1472|6888 Hicks Stream...|               Manor|   PA|15665|\n",
      "|         9|198.39|  grocery_pos|DEUTUS33TRF|   2720830304681674|       0|1325376361965234|         1325376361857|         37.179198|        -87.485381|        42442|fraud_Schoen, Kup...|  2019-01-01 00:06:01|3b9014ea8fb80bd65...|     Melissa@Aguilar|1974-03-28|     F|         Pathologist| 36.522|-87.34899999999999|  151785|21326 Taylor Squa...|         Clarksville|   TN|37040|\n",
      "|        10| 24.74|  grocery_pos|           |      4642894980163|       0|1325376383967287|         1325376383455|40.275890999999994|        -96.011548|        68348|fraud_Rutherford-...|  2019-01-01 00:06:23|d71c95ab6b7356dd7...|     Eddie|Mendez!!!|1990-07-13|     M|          IT trainer|40.7491|           -95.038|    7297|1831 Faith View S...|            Clarinda|   IA|51632|\n",
      "|        11|  7.77| shopping_net|DEUTUS33TRF|    377234009633447|       0|1325376413912233|         1325376413859|         40.103866|        -78.624459|        15554|fraud_Kerluke-Abs...|  2019-01-01 00:06:53|3c74776e558f1499a...|   Theresa@Blackwell|1966-02-14|     F|   Systems developer|39.3716|          -77.8229|    1925|43576 Kristina Is...| Shenandoah Junction|   WV|25442|\n",
      "|        12| 71.22|  grocery_pos|DEUTUS33TRF|    180042946491150|       0|1325376416569264|         1325376416443|         27.630593|        -82.308891|        33598|   fraud_Lockman Ltd|  2019-01-01 00:06:56|c1d9a7ddb1e34639f...|   Charles|Robles!!!|1989-02-28|     M|      Engineer, land|27.7898|          -82.7243|  341043|    3337 Lisa Divide|    Saint Petersburg|   FL|33710|\n",
      "|        13| 96.29|  grocery_pos|   ACEEUS31|   5559857416065248|       0|1325376447442465|         1325376447771|          41.65752|       -122.230347|         NULL|     fraud_Kiehn Inc|  2019-01-01 00:07:27|413636e759663f264...|           Jack@Hill|1945-12-21|     M|     Systems analyst|41.6125|         -122.5258|     589|5916 Susan Bridge...|             Grenada|   CA|96038|\n",
      "|        14|  7.77| shopping_pos|   ACEEUS31|   3514865930894695|       0| 132537654399153|         1325376543282|         32.863258|       -106.520205|         NULL|   fraud_Beier-Hyatt|  2019-01-01 00:09:03|8a6293af5ed278dea...|Christopher@Casta...|1967-08-30|     M|     Naval architect|32.9396|         -105.8189|     899|1632 Cohen Drive ...|High Rolls Mounta...|   NM|88325|\n",
      "|        15|  3.26| shopping_net|CITIUS33CHI|   6011999606625827|       0|1325376560448213|         1325376560435|         41.831174|        -74.335559|        12446|fraud_Schmidt and...|  2019-01-01 00:09:20|baae0b096835c9758...|       Ronald@Carson|1965-06-30|     M|Radiographer, dia...|40.9918|            -73.98|    4664|     870 Rocha Drive|     Harrington Park|   NJ| 7640|\n",
      "|        16| 327.0|     misc_net|CITIUS33CHI|   6011860238257910|       0| 132537664977977|         1325376649369|36.384091999999995|        -99.048472|        73852|fraud_Lebsack and...|  2019-01-01 00:10:49|991c04803b4d4eeab...|        Lisa, Mendez|1952-07-06|     F|Programme researc...| 36.385|          -98.0727|    1078|44259 Beth Statio...|              Lahoma|   OK|73754|\n",
      "|        17|341.67| shopping_pos|           |   3565423334076143|       0|1325376658780653|         1325376658125|         38.674491|        -88.305767|        62824|  fraud_Mayert Group|  2019-01-01 00:10:58|f12cf52be2175703d...| Nathan,Thomas,eeeee|1938-03-15|     M|     Energy engineer|38.9763|          -87.3667|    4081|4923 Campbell Pin...|            Carlisle|   IN|47838|\n",
      "|        18| 63.07|  food_dining|   APBCUS61|   2348245054386329|       0|1325376674645606|         1325376674800|         41.430274|        -79.492553|        16364|fraud_Konopelski,...|  2019-01-01 00:11:14|8500f3d459047eac8...|         Justin, Gay|1946-02-02|     M|     Event organiser|42.1767|          -79.9416|    2518|268 Hayes Rue Sui...|         Harborcreek|   PA|16421|\n",
      "|        19| 44.71|  grocery_pos|           |4956828990005111019|       0| 132537675433224|         1325376754863|         40.079588|-74.84808699999999|        08016|fraud_Schultz, Si...|  2019-01-01 00:12:34|09eff9c806365e2a6...|Kenneth, , Robins...|1980-12-21|     M|Operational resea...|40.6747|          -74.2239|  124967|  269 Sanchez Rapids|           Elizabeth|   NJ| 7208|\n",
      "+----------+------+-------------+-----------+-------------------+--------+----------------+----------------------+------------------+------------------+-------------+--------------------+---------------------+--------------------+--------------------+----------+------+--------------------+-------+------------------+--------+--------------------+--------------------+-----+-----+\n",
      "only showing top 20 rows\n"
     ]
    }
   ],
   "source": [
    "df.show()"
   ]
  },
  {
   "cell_type": "markdown",
   "id": "ae4b8931",
   "metadata": {},
   "source": [
    "Let's handle the First/Last Name"
   ]
  },
  {
   "cell_type": "code",
   "execution_count": 11,
   "id": "eb10d7f9",
   "metadata": {},
   "outputs": [
    {
     "name": "stdout",
     "output_type": "stream",
     "text": [
      "+-------------------------+\n",
      "|person_name              |\n",
      "+-------------------------+\n",
      "|Jennifer,Banks,eeeee     |\n",
      "|Stephanie,Gill,eeeee     |\n",
      "|Edward@Sanchez           |\n",
      "|Jeremy/White, !          |\n",
      "|Tyler@Garcia             |\n",
      "|Jennifer,Conner,eeeee    |\n",
      "|Kelsey, , Richards NOOOO |\n",
      "|Steven, Williams         |\n",
      "|Heather, , Chase NOOOO   |\n",
      "|Melissa@Aguilar          |\n",
      "|Eddie|Mendez!!!          |\n",
      "|Theresa@Blackwell        |\n",
      "|Charles|Robles!!!        |\n",
      "|Jack@Hill                |\n",
      "|Christopher@Castaneda    |\n",
      "|Ronald@Carson            |\n",
      "|Lisa, Mendez             |\n",
      "|Nathan,Thomas,eeeee      |\n",
      "|Justin, Gay              |\n",
      "|Kenneth, , Robinson NOOOO|\n",
      "+-------------------------+\n",
      "only showing top 20 rows\n"
     ]
    }
   ],
   "source": [
    "df.select(\"person_name\").show(truncate=False) # to view more rows, replace with show(100,truncate=False). to show all (CAUTION), replace 100 with df.count()\n",
    "\n",
    "# OR if u fancy Spark SQL\n",
    "# df.createOrReplaceTempView(\"transactions\")\n",
    "# spark.sql(\"SELECT person_name FROM transactions\").show(truncate=False)"
   ]
  },
  {
   "cell_type": "markdown",
   "id": "d9607623",
   "metadata": {},
   "source": [
    "converted to pandas dataframe because i love to use the built-in Data Wrangler feature to view all records"
   ]
  },
  {
   "cell_type": "code",
   "execution_count": 12,
   "id": "7cb6630e",
   "metadata": {},
   "outputs": [
    {
     "data": {
      "application/vnd.microsoft.datawrangler.viewer.v0+json": {
       "columns": [
        {
         "name": "index",
         "rawType": "int64",
         "type": "integer"
        },
        {
         "name": "person_name",
         "rawType": "object",
         "type": "string"
        }
       ],
       "ref": "b3620f46-ae59-4b06-8940-9fe08b8488b8",
       "rows": [
        [
         "0",
         "Jennifer,Banks,eeeee"
        ],
        [
         "1",
         "Stephanie,Gill,eeeee"
        ],
        [
         "2",
         "Edward@Sanchez"
        ],
        [
         "3",
         "Jeremy/White, !"
        ],
        [
         "4",
         "Tyler@Garcia"
        ],
        [
         "5",
         "Jennifer,Conner,eeeee"
        ],
        [
         "6",
         "Kelsey, , Richards NOOOO"
        ],
        [
         "7",
         "Steven, Williams"
        ],
        [
         "8",
         "Heather, , Chase NOOOO"
        ],
        [
         "9",
         "Melissa@Aguilar"
        ],
        [
         "10",
         "Eddie|Mendez!!!"
        ],
        [
         "11",
         "Theresa@Blackwell"
        ],
        [
         "12",
         "Charles|Robles!!!"
        ],
        [
         "13",
         "Jack@Hill"
        ],
        [
         "14",
         "Christopher@Castaneda"
        ],
        [
         "15",
         "Ronald@Carson"
        ],
        [
         "16",
         "Lisa, Mendez"
        ],
        [
         "17",
         "Nathan,Thomas,eeeee"
        ],
        [
         "18",
         "Justin, Gay"
        ],
        [
         "19",
         "Kenneth, , Robinson NOOOO"
        ],
        [
         "20",
         "Gregory|Graham!!!"
        ],
        [
         "21",
         "Jeffrey@Rice"
        ],
        [
         "22",
         "Mary,Wall,eeeee"
        ],
        [
         "23",
         "Susan, , Washington NOOOO"
        ],
        [
         "24",
         "Richard@Waters"
        ],
        [
         "25",
         "Jodi/Foster, !"
        ],
        [
         "26",
         "Daniel/Escobar, !"
        ],
        [
         "27",
         "Scott/Martin, !"
        ],
        [
         "28",
         "Brian@Simpson"
        ],
        [
         "29",
         "Aaron@Rogers"
        ],
        [
         "30",
         "Tammie@Harper"
        ],
        [
         "31",
         "Mary/Myers, !"
        ],
        [
         "32",
         "Heather@Stanton"
        ],
        [
         "33",
         "Jenna,Brooks,eeeee"
        ],
        [
         "34",
         "Christopher@Gilbert"
        ],
        [
         "35",
         "Xavier, , Beltran NOOOO"
        ],
        [
         "36",
         "Ashley, Lopez"
        ],
        [
         "37",
         "Margaret|Curtis!!!"
        ],
        [
         "38",
         "Gina, Morrison"
        ],
        [
         "39",
         "Dorothy@Zuniga"
        ],
        [
         "40",
         "Vicki/Mendoza, !"
        ],
        [
         "41",
         "Lisa|Garcia!!!"
        ],
        [
         "42",
         "Sabrina@Johnson"
        ],
        [
         "43",
         "Kelsey@Richards"
        ],
        [
         "44",
         "Mary,Juarez,eeeee"
        ],
        [
         "45",
         "Christopher@Luna"
        ],
        [
         "46",
         "Carlos, , Chung NOOOO"
        ],
        [
         "47",
         "Sharon, , Johnson NOOOO"
        ],
        [
         "48",
         "Briana, Santos"
        ],
        [
         "49",
         "Sandra, , Schwartz NOOOO"
        ]
       ],
       "shape": {
        "columns": 1,
        "rows": 1296675
       }
      },
      "text/html": [
       "<div>\n",
       "<style scoped>\n",
       "    .dataframe tbody tr th:only-of-type {\n",
       "        vertical-align: middle;\n",
       "    }\n",
       "\n",
       "    .dataframe tbody tr th {\n",
       "        vertical-align: top;\n",
       "    }\n",
       "\n",
       "    .dataframe thead th {\n",
       "        text-align: right;\n",
       "    }\n",
       "</style>\n",
       "<table border=\"1\" class=\"dataframe\">\n",
       "  <thead>\n",
       "    <tr style=\"text-align: right;\">\n",
       "      <th></th>\n",
       "      <th>person_name</th>\n",
       "    </tr>\n",
       "  </thead>\n",
       "  <tbody>\n",
       "    <tr>\n",
       "      <th>0</th>\n",
       "      <td>Jennifer,Banks,eeeee</td>\n",
       "    </tr>\n",
       "    <tr>\n",
       "      <th>1</th>\n",
       "      <td>Stephanie,Gill,eeeee</td>\n",
       "    </tr>\n",
       "    <tr>\n",
       "      <th>2</th>\n",
       "      <td>Edward@Sanchez</td>\n",
       "    </tr>\n",
       "    <tr>\n",
       "      <th>3</th>\n",
       "      <td>Jeremy/White, !</td>\n",
       "    </tr>\n",
       "    <tr>\n",
       "      <th>4</th>\n",
       "      <td>Tyler@Garcia</td>\n",
       "    </tr>\n",
       "    <tr>\n",
       "      <th>...</th>\n",
       "      <td>...</td>\n",
       "    </tr>\n",
       "    <tr>\n",
       "      <th>1296670</th>\n",
       "      <td>Erik@Patterson</td>\n",
       "    </tr>\n",
       "    <tr>\n",
       "      <th>1296671</th>\n",
       "      <td>Jeffrey, , White NOOOO</td>\n",
       "    </tr>\n",
       "    <tr>\n",
       "      <th>1296672</th>\n",
       "      <td>Christopher/Castaneda, !</td>\n",
       "    </tr>\n",
       "    <tr>\n",
       "      <th>1296673</th>\n",
       "      <td>Joseph,Murray,eeeee</td>\n",
       "    </tr>\n",
       "    <tr>\n",
       "      <th>1296674</th>\n",
       "      <td>Jeffrey/Smith, !</td>\n",
       "    </tr>\n",
       "  </tbody>\n",
       "</table>\n",
       "<p>1296675 rows × 1 columns</p>\n",
       "</div>"
      ],
      "text/plain": [
       "                      person_name\n",
       "0            Jennifer,Banks,eeeee\n",
       "1            Stephanie,Gill,eeeee\n",
       "2                  Edward@Sanchez\n",
       "3                 Jeremy/White, !\n",
       "4                    Tyler@Garcia\n",
       "...                           ...\n",
       "1296670            Erik@Patterson\n",
       "1296671    Jeffrey, , White NOOOO\n",
       "1296672  Christopher/Castaneda, !\n",
       "1296673       Joseph,Murray,eeeee\n",
       "1296674          Jeffrey/Smith, !\n",
       "\n",
       "[1296675 rows x 1 columns]"
      ]
     },
     "execution_count": 12,
     "metadata": {},
     "output_type": "execute_result"
    }
   ],
   "source": [
    "# converted to pandas dataframe because i love to use the built-in Data Wrangler feature to view all records\n",
    "df_pd = df.select(\"person_name\").toPandas()\n",
    "df_pd"
   ]
  },
  {
   "cell_type": "markdown",
   "id": "ad288052",
   "metadata": {},
   "source": [
    "Based on sample data, we can identify mixed-style of concatenation between First & Last name (including some noise at the suffix)\n",
    "\n",
    "So, let's handle it by using Regular Expressions to tackle them"
   ]
  },
  {
   "cell_type": "code",
   "execution_count": 13,
   "id": "6cdaf484",
   "metadata": {},
   "outputs": [
    {
     "name": "stdout",
     "output_type": "stream",
     "text": [
      "+-------------------------+-----------+---------+\n",
      "|person_name              |first_name |last_name|\n",
      "+-------------------------+-----------+---------+\n",
      "|Jennifer,Banks,eeeee     |Jennifer   |Banks    |\n",
      "|Stephanie,Gill,eeeee     |Stephanie  |Gill     |\n",
      "|Edward@Sanchez           |Edward     |Sanchez  |\n",
      "|Jeremy/White, !          |Jeremy     |White    |\n",
      "|Tyler@Garcia             |Tyler      |Garcia   |\n",
      "|Jennifer,Conner,eeeee    |Jennifer   |Conner   |\n",
      "|Kelsey, , Richards NOOOO |Kelsey     |Richards |\n",
      "|Steven, Williams         |Steven     |Williams |\n",
      "|Heather, , Chase NOOOO   |Heather    |Chase    |\n",
      "|Melissa@Aguilar          |Melissa    |Aguilar  |\n",
      "|Eddie|Mendez!!!          |Eddie      |Mendez   |\n",
      "|Theresa@Blackwell        |Theresa    |Blackwell|\n",
      "|Charles|Robles!!!        |Charles    |Robles   |\n",
      "|Jack@Hill                |Jack       |Hill     |\n",
      "|Christopher@Castaneda    |Christopher|Castaneda|\n",
      "|Ronald@Carson            |Ronald     |Carson   |\n",
      "|Lisa, Mendez             |Lisa       |Mendez   |\n",
      "|Nathan,Thomas,eeeee      |Nathan     |Thomas   |\n",
      "|Justin, Gay              |Justin     |Gay      |\n",
      "|Kenneth, , Robinson NOOOO|Kenneth    |Robinson |\n",
      "+-------------------------+-----------+---------+\n",
      "only showing top 20 rows\n"
     ]
    }
   ],
   "source": [
    "from pyspark.sql.functions import col, udf\n",
    "from pyspark.sql.types import StructType, StructField, StringType\n",
    "import re\n",
    "\n",
    "# Define a function to clean and split names\n",
    "def clean_split_name(name):\n",
    "    if not name:\n",
    "        return (\"\", \"\")\n",
    "    \n",
    "    # Remove noisy tokens (e.g. \"NOOOO\", \"eeeee\", \"!!!\", extra spaces)\n",
    "    name = re.sub(r\"\\b(?:NO+|e{3,}|!+)\\b\", \"\", name, flags=re.IGNORECASE)\n",
    "    name = re.sub(r\"[^\\w\\s,|/@]\", \"\", name)  # Remove unnecessary punctuation\n",
    "    name = re.sub(r\"\\s+\", \" \", name).strip()  # Normalize spaces\n",
    "\n",
    "    # Split using common delimiters\n",
    "    tokens = re.split(r\"[,|/@]+\", name)\n",
    "    tokens = [t.strip() for t in tokens if t.strip()]\n",
    "\n",
    "    # Return first and last if available\n",
    "    if len(tokens) >= 2:\n",
    "        return (tokens[0], tokens[1])\n",
    "    elif len(tokens) == 1:\n",
    "        return (tokens[0], \"\")\n",
    "    else:\n",
    "        return (\"\", \"\")\n",
    "\n",
    "# Define a schema for the returned struct\n",
    "name_schema = StructType([\n",
    "    StructField(\"first_name\", StringType(), True),\n",
    "    StructField(\"last_name\", StringType(), True)\n",
    "])\n",
    "\n",
    "# Register as UDF\n",
    "split_name_udf = udf(clean_split_name, name_schema)\n",
    "\n",
    "# Apply transformation\n",
    "df_cleaned = df.withColumn(\"name_struct\", split_name_udf(col(\"person_name\"))) \\\n",
    "               .withColumn(\"first_name\", col(\"name_struct.first_name\")) \\\n",
    "               .withColumn(\"last_name\", col(\"name_struct.last_name\")) \\\n",
    "               .drop(\"name_struct\")\n",
    "\n",
    "# View result\n",
    "df_cleaned.select(\"person_name\", \"first_name\", \"last_name\").show(truncate=False)\n"
   ]
  },
  {
   "cell_type": "markdown",
   "id": "16cb5a14",
   "metadata": {},
   "source": [
    "Let's do some Sanity Check, samples 0.1% of the data to check whether any issues can be spotted"
   ]
  },
  {
   "cell_type": "code",
   "execution_count": 14,
   "id": "b81e21e5",
   "metadata": {},
   "outputs": [
    {
     "name": "stdout",
     "output_type": "stream",
     "text": [
      "+--------------------------+----------+---------+\n",
      "|person_name               |first_name|last_name|\n",
      "+--------------------------+----------+---------+\n",
      "|Vincent/Waller, !         |Vincent   |Waller   |\n",
      "|Terrance|Mckinney!!!      |Terrance  |Mckinney |\n",
      "|Phillip, Delacruz         |Phillip   |Delacruz |\n",
      "|James@Baldwin             |James     |Baldwin  |\n",
      "|Frank@Key                 |Frank     |Key      |\n",
      "|April@Johnson             |April     |Johnson  |\n",
      "|Lawrence, Davis           |Lawrence  |Davis    |\n",
      "|Jennifer@Black            |Jennifer  |Black    |\n",
      "|Nathan, , Mendoza NOOOO   |Nathan    |Mendoza  |\n",
      "|Sharon,Johnson,eeeee      |Sharon    |Johnson  |\n",
      "|Steven, Brooks            |Steven    |Brooks   |\n",
      "|Joseph/Morgan, !          |Joseph    |Morgan   |\n",
      "|Jackie,Davis,eeeee        |Jackie    |Davis    |\n",
      "|Amanda,Smith,eeeee        |Amanda    |Smith    |\n",
      "|Gregory, , Graham NOOOO   |Gregory   |Graham   |\n",
      "|Benjamin, Kim             |Benjamin  |Kim      |\n",
      "|Veronica@Burton           |Veronica  |Burton   |\n",
      "|Michael|Orozco!!!         |Michael   |Orozco   |\n",
      "|Kyle@Park                 |Kyle      |Park     |\n",
      "|Erika, , Mason NOOOO      |Erika     |Mason    |\n",
      "|Teresa|Stein!!!           |Teresa    |Stein    |\n",
      "|Kayla, Jones              |Kayla     |Jones    |\n",
      "|Maria@Roy                 |Maria     |Roy      |\n",
      "|David|Serrano!!!          |David     |Serrano  |\n",
      "|Matthew|Lambert!!!        |Matthew   |Lambert  |\n",
      "|Catherine@Weber           |Catherine |Weber    |\n",
      "|Brian, , Williams NOOOO   |Brian     |Williams |\n",
      "|Melissa@Krause            |Melissa   |Krause   |\n",
      "|Erin/Chavez, !            |Erin      |Chavez   |\n",
      "|Bryan/Torres, !           |Bryan     |Torres   |\n",
      "|Christine,Leblanc,eeeee   |Christine |Leblanc  |\n",
      "|Nicholas, , Thornton NOOOO|Nicholas  |Thornton |\n",
      "|Joseph|Gonzalez!!!        |Joseph    |Gonzalez |\n",
      "|Matthew, , Russell NOOOO  |Matthew   |Russell  |\n",
      "|Adam|Riddle!!!            |Adam      |Riddle   |\n",
      "|Zachary, Boone            |Zachary   |Boone    |\n",
      "|Jennifer,Carrillo,eeeee   |Jennifer  |Carrillo |\n",
      "|Jeffrey/Rice, !           |Jeffrey   |Rice     |\n",
      "|Kevin/Elliott, !          |Kevin     |Elliott  |\n",
      "|Michelle,Anderson,eeeee   |Michelle  |Anderson |\n",
      "|Lauren@Anderson           |Lauren    |Anderson |\n",
      "|Diane|Jackson!!!          |Diane     |Jackson  |\n",
      "|Danielle, , Yu NOOOO      |Danielle  |Yu       |\n",
      "|Patrick, Vaughan          |Patrick   |Vaughan  |\n",
      "|Adam@Stark                |Adam      |Stark    |\n",
      "|Samuel@Jenkins            |Samuel    |Jenkins  |\n",
      "|Andrew|Mcgee!!!           |Andrew    |Mcgee    |\n",
      "|Jared|Walters!!!          |Jared     |Walters  |\n",
      "|Amanda, , Spencer NOOOO   |Amanda    |Spencer  |\n",
      "|James|Stephens!!!         |James     |Stephens |\n",
      "+--------------------------+----------+---------+\n",
      "only showing top 50 rows\n"
     ]
    }
   ],
   "source": [
    "df_cleaned.select(\"person_name\", \"first_name\", \"last_name\").sample(fraction=0.001).show(50, truncate=False)"
   ]
  },
  {
   "cell_type": "markdown",
   "id": "d71d8853",
   "metadata": {},
   "source": [
    "Just in case, for fun, let's view whether there are some rows with missing first/last names"
   ]
  },
  {
   "cell_type": "code",
   "execution_count": 15,
   "id": "e13205dd",
   "metadata": {},
   "outputs": [
    {
     "name": "stdout",
     "output_type": "stream",
     "text": [
      "+------------------------+-----------------------+\n",
      "|null_or_empty_first_name|null_or_empty_last_name|\n",
      "+------------------------+-----------------------+\n",
      "|                       0|                      0|\n",
      "+------------------------+-----------------------+\n",
      "\n"
     ]
    }
   ],
   "source": [
    "# Checking whether all records have proper first name last name or any missing first/last names\n",
    "from pyspark.sql.functions import col, count, when\n",
    "\n",
    "df_cleaned.select([\n",
    "    count(when(col(\"first_name\").isNull() | (col(\"first_name\") == \"\"), \"first_name\")).alias(\"null_or_empty_first_name\"),\n",
    "    count(when(col(\"last_name\").isNull() | (col(\"last_name\") == \"\"), \"last_name\")).alias(\"null_or_empty_last_name\")\n",
    "]).show()\n"
   ]
  },
  {
   "cell_type": "markdown",
   "id": "5bc4359d",
   "metadata": {},
   "source": [
    "All seems good, Assessment check:\n",
    "\n",
    "✅JSON Flattening\n",
    "✅Name Derivation"
   ]
  },
  {
   "cell_type": "code",
   "execution_count": 16,
   "id": "3496d838",
   "metadata": {},
   "outputs": [
    {
     "name": "stdout",
     "output_type": "stream",
     "text": [
      "+----------+------+-------------+-----------+-------------------+--------+----------------+----------------------+------------------+------------------+-------------+--------------------+---------------------+--------------------+--------------------+----------+------+--------------------+-------+------------------+--------+--------------------+--------------------+-----+-----+-----------+---------+\n",
      "|Unnamed: 0|   amt|     category|     cc_bic|             cc_num|is_fraud|  merch_eff_time|merch_last_update_time|         merch_lat|        merch_long|merch_zipcode|            merchant|trans_date_trans_time|           trans_num|         person_name|       dob|gender|                 job|    lat|              long|city_pop|              street|                city|state|  zip| first_name|last_name|\n",
      "+----------+------+-------------+-----------+-------------------+--------+----------------+----------------------+------------------+------------------+-------------+--------------------+---------------------+--------------------+--------------------+----------+------+--------------------+-------+------------------+--------+--------------------+--------------------+-----+-----+-----------+---------+\n",
      "|         0|  4.97|     misc_net|CITIUS33CHI|   2703186189652095|       0|1325376018798532|         1325376018666|         36.011293|        -82.048315|        28705|fraud_Rippin, Kub...|  2019-01-01 00:00:18|0b242abb623afc578...|Jennifer,Banks,eeeee|1988-03-09|     F|Psychologist, cou...|36.0788|          -81.1781|    3495|      561 Perry Cove|      Moravian Falls|   NC|28654|   Jennifer|    Banks|\n",
      "|         1|107.23|  grocery_pos|   ADMDUS41|       630423337322|       0|1325376044867960|          132537604479|49.159046999999994|       -118.186462|         NULL|fraud_Heller, Gut...|  2019-01-01 00:00:44|1f76529f857473494...|Stephanie,Gill,eeeee|1978-06-21|     F|Special education...|48.8878|         -118.2105|     149|43039 Riley Green...|              Orient|   WA|99160|  Stephanie|     Gill|\n",
      "|         2|220.11|entertainment|       Null|     38859492057661|       0|1325376051506840|         1325376051286|         43.150704|       -112.154481|        83236|fraud_Lind-Buckridge|  2019-01-01 00:00:51|a1a22d70485983eac...|      Edward@Sanchez|1962-01-19|     M|Nature conservati...|42.1808|          -112.262|    4154|594 White Dale Su...|          Malad City|   ID|83252|     Edward|  Sanchez|\n",
      "|         3|  45.0|gas_transport|DEUTUS33TRF|   3534093764340240|       0|1325376076794698|         1325376076365|         47.034331|       -112.561071|         NULL|fraud_Kutch, Herm...|  2019-01-01 00:01:16|6b849c168bdad6f86...|     Jeremy/White, !|1967-01-12|     M|     Patent attorney|46.2306|         -112.1138|    1939|9443 Cynthia Cour...|             Boulder|   MT|59632|     Jeremy|    White|\n",
      "|         4| 41.96|     misc_pos|   APBCUS61|    375534208663984|       0|1325376186746376|          132537618681|         38.674999|        -78.632459|        22844| fraud_Keeling-Crist|  2019-01-01 00:03:06|a41d7549acf907893...|        Tyler@Garcia|1986-03-28|     M|Dance movement ps...|38.4207|          -79.4629|      99|    408 Bradley Rest|            Doe Hill|   VA|24433|      Tyler|   Garcia|\n",
      "|         5| 94.63|gas_transport|   APBCUS61|   4767265376804500|       0|1325376248271406|         1325376248483|         40.653382|-76.15266700000001|        17972|fraud_Stroman, Hu...|  2019-01-01 00:04:08|189a841a0a8ba0305...|Jennifer,Conner,e...|1961-06-19|     F|   Transport planner| 40.375|          -75.2045|    2158|   4655 David Island|              Dublin|   PA|18917|   Jennifer|   Conner|\n",
      "|         6| 44.54|  grocery_net|   APBCUS61|     30074693890476|       0|1325376282274130|         1325376282247|37.162704999999995|        -100.15337|         NULL|fraud_Rowe-Vander...|  2019-01-01 00:04:42|83ec1cc84142af6e2...|Kelsey, , Richard...|1993-08-16|     F|     Arboriculturist|37.9931|         -100.9893|    2691|889 Sarah Station...|             Holcomb|   KS|67851|     Kelsey| Richards|\n",
      "|         7| 71.65|gas_transport|         NA|   6011360759745864|       0|1325376308837349|         1325376308152|         38.948089|        -78.540296|        22644|fraud_Corwin-Collins|  2019-01-01 00:05:08|6d294ed2cc447d2c7...|    Steven, Williams|1947-08-21|     M|Designer, multimedia|38.8432|          -78.6003|    6018|231 Flores Pass S...|            Edinburg|   VA|22824|     Steven| Williams|\n",
      "|         8|  4.27|     misc_pos|   ACEEUS31|   4922710831011201|       0|1325376318245892|         1325376318278|         40.351813|        -79.958146|        15236|    fraud_Herzog Ltd|  2019-01-01 00:05:18|fc28024ce480f8ef2...|Heather, , Chase ...|1941-03-07|     F|Public affairs co...|40.3359|          -79.6607|    1472|6888 Hicks Stream...|               Manor|   PA|15665|    Heather|    Chase|\n",
      "|         9|198.39|  grocery_pos|DEUTUS33TRF|   2720830304681674|       0|1325376361965234|         1325376361857|         37.179198|        -87.485381|        42442|fraud_Schoen, Kup...|  2019-01-01 00:06:01|3b9014ea8fb80bd65...|     Melissa@Aguilar|1974-03-28|     F|         Pathologist| 36.522|-87.34899999999999|  151785|21326 Taylor Squa...|         Clarksville|   TN|37040|    Melissa|  Aguilar|\n",
      "|        10| 24.74|  grocery_pos|           |      4642894980163|       0|1325376383967287|         1325376383455|40.275890999999994|        -96.011548|        68348|fraud_Rutherford-...|  2019-01-01 00:06:23|d71c95ab6b7356dd7...|     Eddie|Mendez!!!|1990-07-13|     M|          IT trainer|40.7491|           -95.038|    7297|1831 Faith View S...|            Clarinda|   IA|51632|      Eddie|   Mendez|\n",
      "|        11|  7.77| shopping_net|DEUTUS33TRF|    377234009633447|       0|1325376413912233|         1325376413859|         40.103866|        -78.624459|        15554|fraud_Kerluke-Abs...|  2019-01-01 00:06:53|3c74776e558f1499a...|   Theresa@Blackwell|1966-02-14|     F|   Systems developer|39.3716|          -77.8229|    1925|43576 Kristina Is...| Shenandoah Junction|   WV|25442|    Theresa|Blackwell|\n",
      "|        12| 71.22|  grocery_pos|DEUTUS33TRF|    180042946491150|       0|1325376416569264|         1325376416443|         27.630593|        -82.308891|        33598|   fraud_Lockman Ltd|  2019-01-01 00:06:56|c1d9a7ddb1e34639f...|   Charles|Robles!!!|1989-02-28|     M|      Engineer, land|27.7898|          -82.7243|  341043|    3337 Lisa Divide|    Saint Petersburg|   FL|33710|    Charles|   Robles|\n",
      "|        13| 96.29|  grocery_pos|   ACEEUS31|   5559857416065248|       0|1325376447442465|         1325376447771|          41.65752|       -122.230347|         NULL|     fraud_Kiehn Inc|  2019-01-01 00:07:27|413636e759663f264...|           Jack@Hill|1945-12-21|     M|     Systems analyst|41.6125|         -122.5258|     589|5916 Susan Bridge...|             Grenada|   CA|96038|       Jack|     Hill|\n",
      "|        14|  7.77| shopping_pos|   ACEEUS31|   3514865930894695|       0| 132537654399153|         1325376543282|         32.863258|       -106.520205|         NULL|   fraud_Beier-Hyatt|  2019-01-01 00:09:03|8a6293af5ed278dea...|Christopher@Casta...|1967-08-30|     M|     Naval architect|32.9396|         -105.8189|     899|1632 Cohen Drive ...|High Rolls Mounta...|   NM|88325|Christopher|Castaneda|\n",
      "|        15|  3.26| shopping_net|CITIUS33CHI|   6011999606625827|       0|1325376560448213|         1325376560435|         41.831174|        -74.335559|        12446|fraud_Schmidt and...|  2019-01-01 00:09:20|baae0b096835c9758...|       Ronald@Carson|1965-06-30|     M|Radiographer, dia...|40.9918|            -73.98|    4664|     870 Rocha Drive|     Harrington Park|   NJ| 7640|     Ronald|   Carson|\n",
      "|        16| 327.0|     misc_net|CITIUS33CHI|   6011860238257910|       0| 132537664977977|         1325376649369|36.384091999999995|        -99.048472|        73852|fraud_Lebsack and...|  2019-01-01 00:10:49|991c04803b4d4eeab...|        Lisa, Mendez|1952-07-06|     F|Programme researc...| 36.385|          -98.0727|    1078|44259 Beth Statio...|              Lahoma|   OK|73754|       Lisa|   Mendez|\n",
      "|        17|341.67| shopping_pos|           |   3565423334076143|       0|1325376658780653|         1325376658125|         38.674491|        -88.305767|        62824|  fraud_Mayert Group|  2019-01-01 00:10:58|f12cf52be2175703d...| Nathan,Thomas,eeeee|1938-03-15|     M|     Energy engineer|38.9763|          -87.3667|    4081|4923 Campbell Pin...|            Carlisle|   IN|47838|     Nathan|   Thomas|\n",
      "|        18| 63.07|  food_dining|   APBCUS61|   2348245054386329|       0|1325376674645606|         1325376674800|         41.430274|        -79.492553|        16364|fraud_Konopelski,...|  2019-01-01 00:11:14|8500f3d459047eac8...|         Justin, Gay|1946-02-02|     M|     Event organiser|42.1767|          -79.9416|    2518|268 Hayes Rue Sui...|         Harborcreek|   PA|16421|     Justin|      Gay|\n",
      "|        19| 44.71|  grocery_pos|           |4956828990005111019|       0| 132537675433224|         1325376754863|         40.079588|-74.84808699999999|        08016|fraud_Schultz, Si...|  2019-01-01 00:12:34|09eff9c806365e2a6...|Kenneth, , Robins...|1980-12-21|     M|Operational resea...|40.6747|          -74.2239|  124967|  269 Sanchez Rapids|           Elizabeth|   NJ| 7208|    Kenneth| Robinson|\n",
      "+----------+------+-------------+-----------+-------------------+--------+----------------+----------------------+------------------+------------------+-------------+--------------------+---------------------+--------------------+--------------------+----------+------+--------------------+-------+------------------+--------+--------------------+--------------------+-----+-----+-----------+---------+\n",
      "only showing top 20 rows\n"
     ]
    }
   ],
   "source": [
    "df_cleaned.show()"
   ]
  },
  {
   "cell_type": "markdown",
   "id": "ed269b7e",
   "metadata": {},
   "source": [
    "Now let's handle for all date and timestamps columns"
   ]
  },
  {
   "cell_type": "code",
   "execution_count": null,
   "id": "73135f86",
   "metadata": {},
   "outputs": [
    {
     "name": "stdout",
     "output_type": "stream",
     "text": [
      "+---------------------+----------------------------------+----------------+---------------------------------+----------------------+-----------------------------------------+\n",
      "|trans_date_trans_time|trans_date_trans_time_ts_formatted|merch_eff_time  |merch_eff_time_fixed_ts_formatted|merch_last_update_time|merch_last_update_time_fixed_ts_formatted|\n",
      "+---------------------+----------------------------------+----------------+---------------------------------+----------------------+-----------------------------------------+\n",
      "|2019-01-01 00:00:18  |2019-01-01 05:00:18.000000 +08:00 |1325376018798532|2019-01-01 05:00:18.798532 +08:00|1325376018666         |2019-01-01 05:00:18.666000 +08:00        |\n",
      "|2019-01-01 00:00:44  |2019-01-01 05:00:44.000000 +08:00 |1325376044867960|2019-01-01 05:00:44.867960 +08:00|132537604479          |2019-01-01 05:00:44.790000 +08:00        |\n",
      "|2019-01-01 00:00:51  |2019-01-01 05:00:51.000000 +08:00 |1325376051506840|2019-01-01 05:00:51.506840 +08:00|1325376051286         |2019-01-01 05:00:51.286000 +08:00        |\n",
      "|2019-01-01 00:01:16  |2019-01-01 05:01:16.000000 +08:00 |1325376076794698|2019-01-01 05:01:16.794698 +08:00|1325376076365         |2019-01-01 05:01:16.365000 +08:00        |\n",
      "|2019-01-01 00:03:06  |2019-01-01 05:03:06.000000 +08:00 |1325376186746376|2019-01-01 05:03:06.746376 +08:00|132537618681          |2019-01-01 05:03:06.810000 +08:00        |\n",
      "|2019-01-01 00:04:08  |2019-01-01 05:04:08.000000 +08:00 |1325376248271406|2019-01-01 05:04:08.271406 +08:00|1325376248483         |2019-01-01 05:04:08.483000 +08:00        |\n",
      "|2019-01-01 00:04:42  |2019-01-01 05:04:42.000000 +08:00 |1325376282274130|2019-01-01 05:04:42.274130 +08:00|1325376282247         |2019-01-01 05:04:42.247000 +08:00        |\n",
      "|2019-01-01 00:05:08  |2019-01-01 05:05:08.000000 +08:00 |1325376308837349|2019-01-01 05:05:08.837349 +08:00|1325376308152         |2019-01-01 05:05:08.152000 +08:00        |\n",
      "|2019-01-01 00:05:18  |2019-01-01 05:05:18.000000 +08:00 |1325376318245892|2019-01-01 05:05:18.245892 +08:00|1325376318278         |2019-01-01 05:05:18.278000 +08:00        |\n",
      "|2019-01-01 00:06:01  |2019-01-01 05:06:01.000000 +08:00 |1325376361965234|2019-01-01 05:06:01.965234 +08:00|1325376361857         |2019-01-01 05:06:01.857000 +08:00        |\n",
      "|2019-01-01 00:06:23  |2019-01-01 05:06:23.000000 +08:00 |1325376383967287|2019-01-01 05:06:23.967287 +08:00|1325376383455         |2019-01-01 05:06:23.455000 +08:00        |\n",
      "|2019-01-01 00:06:53  |2019-01-01 05:06:53.000000 +08:00 |1325376413912233|2019-01-01 05:06:53.912233 +08:00|1325376413859         |2019-01-01 05:06:53.859000 +08:00        |\n",
      "|2019-01-01 00:06:56  |2019-01-01 05:06:56.000000 +08:00 |1325376416569264|2019-01-01 05:06:56.569264 +08:00|1325376416443         |2019-01-01 05:06:56.443000 +08:00        |\n",
      "|2019-01-01 00:07:27  |2019-01-01 05:07:27.000000 +08:00 |1325376447442465|2019-01-01 05:07:27.442465 +08:00|1325376447771         |2019-01-01 05:07:27.771000 +08:00        |\n",
      "|2019-01-01 00:09:03  |2019-01-01 05:09:03.000000 +08:00 |132537654399153 |2019-01-01 05:09:03.991530 +08:00|1325376543282         |2019-01-01 05:09:03.282000 +08:00        |\n",
      "|2019-01-01 00:09:20  |2019-01-01 05:09:20.000000 +08:00 |1325376560448213|2019-01-01 05:09:20.448213 +08:00|1325376560435         |2019-01-01 05:09:20.435000 +08:00        |\n",
      "|2019-01-01 00:10:49  |2019-01-01 05:10:49.000000 +08:00 |132537664977977 |2019-01-01 05:10:49.779770 +08:00|1325376649369         |2019-01-01 05:10:49.369000 +08:00        |\n",
      "|2019-01-01 00:10:58  |2019-01-01 05:10:58.000000 +08:00 |1325376658780653|2019-01-01 05:10:58.780653 +08:00|1325376658125         |2019-01-01 05:10:58.125000 +08:00        |\n",
      "|2019-01-01 00:11:14  |2019-01-01 05:11:14.000000 +08:00 |1325376674645606|2019-01-01 05:11:14.645606 +08:00|1325376674800         |2019-01-01 05:11:14.800000 +08:00        |\n",
      "|2019-01-01 00:12:34  |2019-01-01 05:12:34.000000 +08:00 |132537675433224 |2019-01-01 05:12:34.332240 +08:00|1325376754863         |2019-01-01 05:12:34.863000 +08:00        |\n",
      "+---------------------+----------------------------------+----------------+---------------------------------+----------------------+-----------------------------------------+\n",
      "only showing top 20 rows\n"
     ]
    }
   ],
   "source": [
    "# when i run this script and set the TZ to UTC+0 (Africa/Abidjan), i noticed gaps in between the 3 date time columns\n",
    "# logical transaction processing flow\n",
    "# 1. merch_eff_time           → When merchant/service became effective \n",
    "# 2. trans_date_trans_time    → When the actual transaction happened (however, the original format doesn't provide in epoch, hence no milliseconds can be recorded)\n",
    "# 3. merch_last_update_time   → When merchant details were last updated\n",
    "\n",
    "# THE GAPS #1 - Year Gap too far apart; by plus 7 years minus 8 hours\n",
    "# trans_date_trans_time_ts_formatted    2019-01-01 00:00:18.000000 +08:00\n",
    "# merch_eff_time_ts_formatted           2012-01-01 08:00:18.798532 +08:00 (original value - 1325376018798532)\n",
    "# merch_last_update_time_ts_formatted   2012-01-01 08:00:18.666000 +08:00 (original value - 1325376018666)\n",
    "\n",
    "# THE GAPS #2 - last update time became 1974, TZ = 7:30\n",
    "# trans_date_trans_time_ts_formatted    2019-01-01 00:00:44.000000 +08:00\n",
    "# merch_eff_time_ts_formatted           2012-01-01 08:00:44.867960 +08:00 (original value - 1325376044867960)\n",
    "# merch_last_update_time_ts_formatted   1974-03-15 07:30:04.479000 +07:30 (original value - 132537604479)\n",
    "\n",
    "# THE GAPS #2.1 - epoch value is short by 1 digit, this is also noticed in col merch_eff_time\n",
    "# merch_last_update_time_ts_formatted   2012-01-01 08:00:18.666000 +08:00 (original value - 1325376018666)\n",
    "# merch_last_update_time_ts_formatted   1974-03-15 07:30:04.479000 +07:30 (original value - 132537604479)\n",
    "\n",
    "# Assumptions for Gap #1 - may be due to merchant's machine/terminal is not calibrated to the actual year/time\n",
    "# Assumptions for Gap #2 - shortness of single digit may be due to missing zeroes \n",
    "\n",
    "\n",
    "from pyspark.sql.functions import col, from_unixtime, to_utc_timestamp, date_format, when,length,expr\n",
    "\n",
    "from pyspark.sql.types import TimestampType\n",
    "\n",
    "# Constants\n",
    "TARGET_TZ = \"America/New_York\"  # UTC+8; TARGET_TZ can use value from  IANA Time Zone Database, column TZ identifier. url:https://en.wikipedia.org/wiki/List_of_tz_database_time_zones\n",
    "\n",
    "# 1. Parse `trans_date_trans_time` (string format to timestamp and convert timezone)\n",
    "df_cleaned = df_cleaned.withColumn(\n",
    "    \"trans_date_trans_time_ts\",\n",
    "    to_utc_timestamp(col(\"trans_date_trans_time\"), TARGET_TZ)\n",
    ")\n",
    "\n",
    "# Fix merch_eff_time\n",
    "df_cleaned = df_cleaned.withColumn(\n",
    "    \"merch_eff_time_fixed\",\n",
    "    when(length(col(\"merch_eff_time\")) == 13, col(\"merch_eff_time\") / 1000)  # ms\n",
    "    .when(length(col(\"merch_eff_time\")) == 12, col(\"merch_eff_time\") * 10 / 1000)  # likely truncated ms\n",
    "    .when(length(col(\"merch_eff_time\")) == 16, col(\"merch_eff_time\") / 1_000_000)  # µs\n",
    "    .when(length(col(\"merch_eff_time\")) == 15, col(\"merch_eff_time\") * 10 / 1_000_000)  # truncated µs\n",
    "    .otherwise(None)\n",
    ")\n",
    "# Convert to timestamp\n",
    "df_cleaned = df_cleaned.withColumn(\n",
    "    \"merch_eff_time_fixed_ts\",\n",
    "    to_utc_timestamp(col(\"merch_eff_time_fixed\").cast(\"timestamp\"), TARGET_TZ)\n",
    ")\n",
    "\n",
    "# Fix merch_last_update_time\n",
    "df_cleaned = df_cleaned.withColumn(\n",
    "    \"merch_last_update_time_fixed\",\n",
    "    when(length(col(\"merch_last_update_time\")) == 13, col(\"merch_last_update_time\") / 1000)  # ms\n",
    "    .when(length(col(\"merch_last_update_time\")) == 12, col(\"merch_last_update_time\") * 10 / 1000)  # likely truncated ms\n",
    "    .when(length(col(\"merch_last_update_time\")) == 16, col(\"merch_last_update_time\") / 1_000_000)  # µs\n",
    "    .when(length(col(\"merch_last_update_time\")) == 15, col(\"merch_last_update_time\") * 10 / 1_000_000)  # truncated µs\n",
    "    .otherwise(None)\n",
    ")\n",
    "# Convert to timestamp\n",
    "df_cleaned = df_cleaned.withColumn(\n",
    "    \"merch_last_update_time_fixed_ts\",\n",
    "    to_utc_timestamp(col(\"merch_last_update_time_fixed\").cast(\"timestamp\"), TARGET_TZ)\n",
    ")\n",
    "\n",
    "df_cleaned = df_cleaned.withColumn(\n",
    "    \"merch_eff_time_fixed_ts\",\n",
    "    expr(\"merch_eff_time_fixed_ts + INTERVAL 7 YEARS - INTERVAL 8 HOURS\")\n",
    ")\n",
    "\n",
    "df_cleaned = df_cleaned.withColumn(\n",
    "    \"merch_last_update_time_fixed_ts\",\n",
    "    expr(\"merch_last_update_time_fixed_ts + INTERVAL 7 YEARS - INTERVAL 8 HOURS\")\n",
    ")\n",
    "\n",
    "# 3. Format timestamps (optional, but for clear human-readable string)\n",
    "for ts_col in [\"trans_date_trans_time_ts\", \"merch_eff_time_fixed_ts\", \"merch_last_update_time_fixed_ts\"]:\n",
    "    df_cleaned = df_cleaned.withColumn(\n",
    "        f\"{ts_col}_formatted\",\n",
    "        date_format(col(ts_col), \"yyyy-MM-dd HH:mm:ss.SSSSSS XXX\")\n",
    "    )\n",
    "\n",
    "# Preview\n",
    "df_cleaned.select(\n",
    "    \"trans_date_trans_time\", \"trans_date_trans_time_ts_formatted\",\n",
    "    \"merch_eff_time\", \"merch_eff_time_fixed_ts_formatted\",\n",
    "    \"merch_last_update_time\", \"merch_last_update_time_fixed_ts_formatted\"\n",
    ").show(20, truncate=False)\n"
   ]
  },
  {
   "cell_type": "markdown",
   "id": "84740d0a",
   "metadata": {},
   "source": [
    "Assessment check:\n",
    "\n",
    "✅JSON Flattening\n",
    "✅Name Derivation\n",
    "✅Timestamp Conversion"
   ]
  },
  {
   "cell_type": "code",
   "execution_count": 41,
   "id": "d9af1006",
   "metadata": {},
   "outputs": [
    {
     "name": "stdout",
     "output_type": "stream",
     "text": [
      "+----------+------+-------------+-----------+-------------------+--------+----------------+----------------------+------------------+------------------+-------------+----------------------------------------+---------------------+--------------------------------+-------------------------+----------+------+---------------------------------------------+-------+------------------+--------+------------------------------+------------------------+-----+-----+-----------+---------+----------------------------------+---------------------------------+-----------------------------------------+\n",
      "|Unnamed: 0|amt   |category     |cc_bic     |cc_num             |is_fraud|merch_eff_time  |merch_last_update_time|merch_lat         |merch_long        |merch_zipcode|merchant                                |trans_date_trans_time|trans_num                       |person_name              |dob       |gender|job                                          |lat    |long              |city_pop|street                        |city                    |state|zip  |first_name |last_name|trans_date_trans_time_ts_formatted|merch_eff_time_fixed_ts_formatted|merch_last_update_time_fixed_ts_formatted|\n",
      "+----------+------+-------------+-----------+-------------------+--------+----------------+----------------------+------------------+------------------+-------------+----------------------------------------+---------------------+--------------------------------+-------------------------+----------+------+---------------------------------------------+-------+------------------+--------+------------------------------+------------------------+-----+-----+-----------+---------+----------------------------------+---------------------------------+-----------------------------------------+\n",
      "|0         |4.97  |misc_net     |CITIUS33CHI|2703186189652095   |0       |1325376018798532|1325376018666         |36.011293         |-82.048315        |28705        |fraud_Rippin, Kub and Mann              |2019-01-01 00:00:18  |0b242abb623afc578575680df30655b9|Jennifer,Banks,eeeee     |1988-03-09|F     |Psychologist, counselling                    |36.0788|-81.1781          |3495    |561 Perry Cove                |Moravian Falls          |NC   |28654|Jennifer   |Banks    |2019-01-01 05:00:18.000000 +08:00 |2019-01-01 05:00:18.798532 +08:00|2019-01-01 05:00:18.666000 +08:00        |\n",
      "|1         |107.23|grocery_pos  |ADMDUS41   |630423337322       |0       |1325376044867960|132537604479          |49.159046999999994|-118.186462       |NULL         |fraud_Heller, Gutmann and Zieme         |2019-01-01 00:00:44  |1f76529f8574734946361c461b024d99|Stephanie,Gill,eeeee     |1978-06-21|F     |Special educational needs teacher            |48.8878|-118.2105         |149     |43039 Riley Greens Suite 393  |Orient                  |WA   |99160|Stephanie  |Gill     |2019-01-01 05:00:44.000000 +08:00 |2019-01-01 05:00:44.867960 +08:00|2019-01-01 05:00:44.790000 +08:00        |\n",
      "|2         |220.11|entertainment|Null       |38859492057661     |0       |1325376051506840|1325376051286         |43.150704         |-112.154481       |83236        |fraud_Lind-Buckridge                    |2019-01-01 00:00:51  |a1a22d70485983eac12b5b88dad1cf95|Edward@Sanchez           |1962-01-19|M     |Nature conservation officer                  |42.1808|-112.262          |4154    |594 White Dale Suite 530      |Malad City              |ID   |83252|Edward     |Sanchez  |2019-01-01 05:00:51.000000 +08:00 |2019-01-01 05:00:51.506840 +08:00|2019-01-01 05:00:51.286000 +08:00        |\n",
      "|3         |45.0  |gas_transport|DEUTUS33TRF|3534093764340240   |0       |1325376076794698|1325376076365         |47.034331         |-112.561071       |NULL         |fraud_Kutch, Hermiston and Farrell      |2019-01-01 00:01:16  |6b849c168bdad6f867558c3793159a81|Jeremy/White, !          |1967-01-12|M     |Patent attorney                              |46.2306|-112.1138         |1939    |9443 Cynthia Court Apt. 038   |Boulder                 |MT   |59632|Jeremy     |White    |2019-01-01 05:01:16.000000 +08:00 |2019-01-01 05:01:16.794698 +08:00|2019-01-01 05:01:16.365000 +08:00        |\n",
      "|4         |41.96 |misc_pos     |APBCUS61   |375534208663984    |0       |1325376186746376|132537618681          |38.674999         |-78.632459        |22844        |fraud_Keeling-Crist                     |2019-01-01 00:03:06  |a41d7549acf90789359a9aa5346dcb46|Tyler@Garcia             |1986-03-28|M     |Dance movement psychotherapist               |38.4207|-79.4629          |99      |408 Bradley Rest              |Doe Hill                |VA   |24433|Tyler      |Garcia   |2019-01-01 05:03:06.000000 +08:00 |2019-01-01 05:03:06.746376 +08:00|2019-01-01 05:03:06.810000 +08:00        |\n",
      "|5         |94.63 |gas_transport|APBCUS61   |4767265376804500   |0       |1325376248271406|1325376248483         |40.653382         |-76.15266700000001|17972        |fraud_Stroman, Hudson and Erdman        |2019-01-01 00:04:08  |189a841a0a8ba03058526bcfe566aab5|Jennifer,Conner,eeeee    |1961-06-19|F     |Transport planner                            |40.375 |-75.2045          |2158    |4655 David Island             |Dublin                  |PA   |18917|Jennifer   |Conner   |2019-01-01 05:04:08.000000 +08:00 |2019-01-01 05:04:08.271406 +08:00|2019-01-01 05:04:08.483000 +08:00        |\n",
      "|6         |44.54 |grocery_net  |APBCUS61   |30074693890476     |0       |1325376282274130|1325376282247         |37.162704999999995|-100.15337        |NULL         |fraud_Rowe-Vandervort                   |2019-01-01 00:04:42  |83ec1cc84142af6e2acf10c44949e720|Kelsey, , Richards NOOOO |1993-08-16|F     |Arboriculturist                              |37.9931|-100.9893         |2691    |889 Sarah Station Suite 624   |Holcomb                 |KS   |67851|Kelsey     |Richards |2019-01-01 05:04:42.000000 +08:00 |2019-01-01 05:04:42.274130 +08:00|2019-01-01 05:04:42.247000 +08:00        |\n",
      "|7         |71.65 |gas_transport|NA         |6011360759745864   |0       |1325376308837349|1325376308152         |38.948089         |-78.540296        |22644        |fraud_Corwin-Collins                    |2019-01-01 00:05:08  |6d294ed2cc447d2c71c7171a3d54967c|Steven, Williams         |1947-08-21|M     |Designer, multimedia                         |38.8432|-78.6003          |6018    |231 Flores Pass Suite 720     |Edinburg                |VA   |22824|Steven     |Williams |2019-01-01 05:05:08.000000 +08:00 |2019-01-01 05:05:08.837349 +08:00|2019-01-01 05:05:08.152000 +08:00        |\n",
      "|8         |4.27  |misc_pos     |ACEEUS31   |4922710831011201   |0       |1325376318245892|1325376318278         |40.351813         |-79.958146        |15236        |fraud_Herzog Ltd                        |2019-01-01 00:05:18  |fc28024ce480f8ef21a32d64c93a29f5|Heather, , Chase NOOOO   |1941-03-07|F     |Public affairs consultant                    |40.3359|-79.6607          |1472    |6888 Hicks Stream Suite 954   |Manor                   |PA   |15665|Heather    |Chase    |2019-01-01 05:05:18.000000 +08:00 |2019-01-01 05:05:18.245892 +08:00|2019-01-01 05:05:18.278000 +08:00        |\n",
      "|9         |198.39|grocery_pos  |DEUTUS33TRF|2720830304681674   |0       |1325376361965234|1325376361857         |37.179198         |-87.485381        |42442        |fraud_Schoen, Kuphal and Nitzsche       |2019-01-01 00:06:01  |3b9014ea8fb80bd65de0b1463b00b00e|Melissa@Aguilar          |1974-03-28|F     |Pathologist                                  |36.522 |-87.34899999999999|151785  |21326 Taylor Squares Suite 708|Clarksville             |TN   |37040|Melissa    |Aguilar  |2019-01-01 05:06:01.000000 +08:00 |2019-01-01 05:06:01.965234 +08:00|2019-01-01 05:06:01.857000 +08:00        |\n",
      "|10        |24.74 |grocery_pos  |           |4642894980163      |0       |1325376383967287|1325376383455         |40.275890999999994|-96.011548        |68348        |fraud_Rutherford-Mertz                  |2019-01-01 00:06:23  |d71c95ab6b7356dd74389d41df429c87|Eddie|Mendez!!!          |1990-07-13|M     |IT trainer                                   |40.7491|-95.038           |7297    |1831 Faith View Suite 653     |Clarinda                |IA   |51632|Eddie      |Mendez   |2019-01-01 05:06:23.000000 +08:00 |2019-01-01 05:06:23.967287 +08:00|2019-01-01 05:06:23.455000 +08:00        |\n",
      "|11        |7.77  |shopping_net |DEUTUS33TRF|377234009633447    |0       |1325376413912233|1325376413859         |40.103866         |-78.624459        |15554        |fraud_Kerluke-Abshire                   |2019-01-01 00:06:53  |3c74776e558f1499a7824b556e474b1d|Theresa@Blackwell        |1966-02-14|F     |Systems developer                            |39.3716|-77.8229          |1925    |43576 Kristina Islands        |Shenandoah Junction     |WV   |25442|Theresa    |Blackwell|2019-01-01 05:06:53.000000 +08:00 |2019-01-01 05:06:53.912233 +08:00|2019-01-01 05:06:53.859000 +08:00        |\n",
      "|12        |71.22 |grocery_pos  |DEUTUS33TRF|180042946491150    |0       |1325376416569264|1325376416443         |27.630593         |-82.308891        |33598        |fraud_Lockman Ltd                       |2019-01-01 00:06:56  |c1d9a7ddb1e34639fe82758de97f4abf|Charles|Robles!!!        |1989-02-28|M     |Engineer, land                               |27.7898|-82.7243          |341043  |3337 Lisa Divide              |Saint Petersburg        |FL   |33710|Charles    |Robles   |2019-01-01 05:06:56.000000 +08:00 |2019-01-01 05:06:56.569264 +08:00|2019-01-01 05:06:56.443000 +08:00        |\n",
      "|13        |96.29 |grocery_pos  |ACEEUS31   |5559857416065248   |0       |1325376447442465|1325376447771         |41.65752          |-122.230347       |NULL         |fraud_Kiehn Inc                         |2019-01-01 00:07:27  |413636e759663f264aae1819a4d4f231|Jack@Hill                |1945-12-21|M     |Systems analyst                              |41.6125|-122.5258         |589     |5916 Susan Bridge Apt. 939    |Grenada                 |CA   |96038|Jack       |Hill     |2019-01-01 05:07:27.000000 +08:00 |2019-01-01 05:07:27.442465 +08:00|2019-01-01 05:07:27.771000 +08:00        |\n",
      "|14        |7.77  |shopping_pos |ACEEUS31   |3514865930894695   |0       |132537654399153 |1325376543282         |32.863258         |-106.520205       |NULL         |fraud_Beier-Hyatt                       |2019-01-01 00:09:03  |8a6293af5ed278dea14448ded2685fea|Christopher@Castaneda    |1967-08-30|M     |Naval architect                              |32.9396|-105.8189         |899     |1632 Cohen Drive Suite 639    |High Rolls Mountain Park|NM   |88325|Christopher|Castaneda|2019-01-01 05:09:03.000000 +08:00 |2019-01-01 05:09:03.991530 +08:00|2019-01-01 05:09:03.282000 +08:00        |\n",
      "|15        |3.26  |shopping_net |CITIUS33CHI|6011999606625827   |0       |1325376560448213|1325376560435         |41.831174         |-74.335559        |12446        |fraud_Schmidt and Sons                  |2019-01-01 00:09:20  |baae0b096835c975857eea7e28dde3dc|Ronald@Carson            |1965-06-30|M     |Radiographer, diagnostic                     |40.9918|-73.98            |4664    |870 Rocha Drive               |Harrington Park         |NJ   |7640 |Ronald     |Carson   |2019-01-01 05:09:20.000000 +08:00 |2019-01-01 05:09:20.448213 +08:00|2019-01-01 05:09:20.435000 +08:00        |\n",
      "|16        |327.0 |misc_net     |CITIUS33CHI|6011860238257910   |0       |132537664977977 |1325376649369         |36.384091999999995|-99.048472        |73852        |fraud_Lebsack and Sons                  |2019-01-01 00:10:49  |991c04803b4d4eeab30d6245a872e3d3|Lisa, Mendez             |1952-07-06|F     |Programme researcher, broadcasting/film/video|36.385 |-98.0727          |1078    |44259 Beth Station Suite 215  |Lahoma                  |OK   |73754|Lisa       |Mendez   |2019-01-01 05:10:49.000000 +08:00 |2019-01-01 05:10:49.779770 +08:00|2019-01-01 05:10:49.369000 +08:00        |\n",
      "|17        |341.67|shopping_pos |           |3565423334076143   |0       |1325376658780653|1325376658125         |38.674491         |-88.305767        |62824        |fraud_Mayert Group                      |2019-01-01 00:10:58  |f12cf52be2175703db789a4644c32f25|Nathan,Thomas,eeeee      |1938-03-15|M     |Energy engineer                              |38.9763|-87.3667          |4081    |4923 Campbell Pines Suite 717 |Carlisle                |IN   |47838|Nathan     |Thomas   |2019-01-01 05:10:58.000000 +08:00 |2019-01-01 05:10:58.780653 +08:00|2019-01-01 05:10:58.125000 +08:00        |\n",
      "|18        |63.07 |food_dining  |APBCUS61   |2348245054386329   |0       |1325376674645606|1325376674800         |41.430274         |-79.492553        |16364        |fraud_Konopelski, Schneider and Hartmann|2019-01-01 00:11:14  |8500f3d459047eac8443307b1e8296e5|Justin, Gay              |1946-02-02|M     |Event organiser                              |42.1767|-79.9416          |2518    |268 Hayes Rue Suite 811       |Harborcreek             |PA   |16421|Justin     |Gay      |2019-01-01 05:11:14.000000 +08:00 |2019-01-01 05:11:14.645606 +08:00|2019-01-01 05:11:14.800000 +08:00        |\n",
      "|19        |44.71 |grocery_pos  |           |4956828990005111019|0       |132537675433224 |1325376754863         |40.079588         |-74.84808699999999|08016        |fraud_Schultz, Simonis and Little       |2019-01-01 00:12:34  |09eff9c806365e2a6be12c1bbab3d70e|Kenneth, , Robinson NOOOO|1980-12-21|M     |Operational researcher                       |40.6747|-74.2239          |124967  |269 Sanchez Rapids            |Elizabeth               |NJ   |7208 |Kenneth    |Robinson |2019-01-01 05:12:34.000000 +08:00 |2019-01-01 05:12:34.332240 +08:00|2019-01-01 05:12:34.863000 +08:00        |\n",
      "+----------+------+-------------+-----------+-------------------+--------+----------------+----------------------+------------------+------------------+-------------+----------------------------------------+---------------------+--------------------------------+-------------------------+----------+------+---------------------------------------------+-------+------------------+--------+------------------------------+------------------------+-----+-----+-----------+---------+----------------------------------+---------------------------------+-----------------------------------------+\n",
      "only showing top 20 rows\n"
     ]
    }
   ],
   "source": [
    "df_cleaned = df_cleaned.drop(\"merch_eff_time_fixed_ts\",\"merch_last_update_time_fixed\",\"merch_last_update_time_fixed_ts\",\"trans_date_trans_time_ts\",\"merch_eff_time_fixed\")\n",
    "df_cleaned.show(truncate=False)"
   ]
  },
  {
   "cell_type": "markdown",
   "id": "dbe79510",
   "metadata": {},
   "source": [
    "Passing to pandas dataframe [COMMENTED DUE TO VERY SLOW PROCESS, PLEASE PROCEED TO NEXT CELL]"
   ]
  },
  {
   "cell_type": "code",
   "execution_count": 19,
   "id": "fa4ff610",
   "metadata": {},
   "outputs": [],
   "source": [
    "# # Commented this piece of working code because: VERY SLOW\n",
    "# from pyspark.sql.functions import monotonically_increasing_id, col\n",
    "# import math\n",
    "\n",
    "# # 💡 Step 1: Add a unique row number to simulate index\n",
    "# print(\"🔢 Adding row index using `monotonically_increasing_id`...\")\n",
    "# df_indexed = df_cleaned.withColumn(\"index\", monotonically_increasing_id())\n",
    "\n",
    "# # 💡 Step 2: Define chunk size\n",
    "# chunk_size = 10000\n",
    "\n",
    "# # 💡 Step 3: Count total rows and compute number of chunks\n",
    "# total_rows = df_indexed.count()\n",
    "# num_chunks = math.ceil(total_rows / chunk_size)\n",
    "# print(f\"📊 Total rows: {total_rows}, Chunk size: {chunk_size}, Total chunks: {num_chunks}\")\n",
    "\n",
    "# # 💡 Step 4: Process each chunk\n",
    "# for i in range(num_chunks):\n",
    "#     print(f\"\\n🧩 Processing chunk {i+1}/{num_chunks} (Rows {i*chunk_size} to {(i+1)*chunk_size - 1})\")\n",
    "\n",
    "#     # Use index to filter rows for current chunk\n",
    "#     start = i * chunk_size\n",
    "#     end = start + chunk_size\n",
    "#     chunk_df = df_indexed.filter((col(\"index\") >= start) & (col(\"index\") < end)).drop(\"index\")\n",
    "\n",
    "#     # Convert to Pandas for downstream processing\n",
    "#     chunk_pd = chunk_df.toPandas()\n",
    "\n",
    "#     # Example processing: save as CSV\n",
    "#     # chunk_pd.to_csv(f\"output_chunk_{i+1}.csv\", index=False)\n",
    "#     print(f\"✅ Finished processing chunk {i+1}/{num_chunks} with {len(chunk_pd)} rows\")\n"
   ]
  },
  {
   "cell_type": "markdown",
   "id": "cde2d4da",
   "metadata": {},
   "source": [
    "Opting for direct PySpark aggregation and Visualization instead"
   ]
  },
  {
   "cell_type": "code",
   "execution_count": 42,
   "id": "99cc0118",
   "metadata": {},
   "outputs": [
    {
     "data": {
      "text/html": [
       "<div>\n",
       "<style scoped>\n",
       "    .dataframe tbody tr th:only-of-type {\n",
       "        vertical-align: middle;\n",
       "    }\n",
       "\n",
       "    .dataframe tbody tr th {\n",
       "        vertical-align: top;\n",
       "    }\n",
       "\n",
       "    .dataframe thead th {\n",
       "        text-align: right;\n",
       "    }\n",
       "</style>\n",
       "<table border=\"1\" class=\"dataframe\">\n",
       "  <thead>\n",
       "    <tr style=\"text-align: right;\">\n",
       "      <th></th>\n",
       "      <th>Unnamed: 0</th>\n",
       "      <th>amt</th>\n",
       "      <th>category</th>\n",
       "      <th>cc_bic</th>\n",
       "      <th>cc_num</th>\n",
       "      <th>is_fraud</th>\n",
       "      <th>merch_eff_time</th>\n",
       "      <th>merch_last_update_time</th>\n",
       "      <th>merch_lat</th>\n",
       "      <th>merch_long</th>\n",
       "      <th>merch_zipcode</th>\n",
       "      <th>merchant</th>\n",
       "      <th>trans_date_trans_time</th>\n",
       "      <th>trans_num</th>\n",
       "      <th>person_name</th>\n",
       "      <th>dob</th>\n",
       "      <th>gender</th>\n",
       "      <th>job</th>\n",
       "      <th>lat</th>\n",
       "      <th>long</th>\n",
       "      <th>city_pop</th>\n",
       "      <th>street</th>\n",
       "      <th>city</th>\n",
       "      <th>state</th>\n",
       "      <th>zip</th>\n",
       "      <th>first_name</th>\n",
       "      <th>last_name</th>\n",
       "      <th>trans_date_trans_time_ts_formatted</th>\n",
       "      <th>merch_eff_time_fixed_ts_formatted</th>\n",
       "      <th>merch_last_update_time_fixed_ts_formatted</th>\n",
       "    </tr>\n",
       "  </thead>\n",
       "  <tbody>\n",
       "    <tr>\n",
       "      <th>0</th>\n",
       "      <td>0</td>\n",
       "      <td>4.97</td>\n",
       "      <td>misc_net</td>\n",
       "      <td>CITIUS33CHI</td>\n",
       "      <td>2703186189652095</td>\n",
       "      <td>0</td>\n",
       "      <td>1325376018798532</td>\n",
       "      <td>1325376018666</td>\n",
       "      <td>36.011293</td>\n",
       "      <td>-82.048315</td>\n",
       "      <td>28705</td>\n",
       "      <td>fraud_Rippin, Kub and Mann</td>\n",
       "      <td>2019-01-01 00:00:18</td>\n",
       "      <td>0b242abb623afc578575680df30655b9</td>\n",
       "      <td>Jennifer,Banks,eeeee</td>\n",
       "      <td>1988-03-09</td>\n",
       "      <td>F</td>\n",
       "      <td>Psychologist, counselling</td>\n",
       "      <td>36.0788</td>\n",
       "      <td>-81.1781</td>\n",
       "      <td>3495</td>\n",
       "      <td>561 Perry Cove</td>\n",
       "      <td>Moravian Falls</td>\n",
       "      <td>NC</td>\n",
       "      <td>28654</td>\n",
       "      <td>Jennifer</td>\n",
       "      <td>Banks</td>\n",
       "      <td>2019-01-01 05:00:18.000000 +08:00</td>\n",
       "      <td>2019-01-01 05:00:18.798532 +08:00</td>\n",
       "      <td>2019-01-01 05:00:18.666000 +08:00</td>\n",
       "    </tr>\n",
       "    <tr>\n",
       "      <th>1</th>\n",
       "      <td>1</td>\n",
       "      <td>107.23</td>\n",
       "      <td>grocery_pos</td>\n",
       "      <td>ADMDUS41</td>\n",
       "      <td>630423337322</td>\n",
       "      <td>0</td>\n",
       "      <td>1325376044867960</td>\n",
       "      <td>132537604479</td>\n",
       "      <td>49.159047</td>\n",
       "      <td>-118.186462</td>\n",
       "      <td>None</td>\n",
       "      <td>fraud_Heller, Gutmann and Zieme</td>\n",
       "      <td>2019-01-01 00:00:44</td>\n",
       "      <td>1f76529f8574734946361c461b024d99</td>\n",
       "      <td>Stephanie,Gill,eeeee</td>\n",
       "      <td>1978-06-21</td>\n",
       "      <td>F</td>\n",
       "      <td>Special educational needs teacher</td>\n",
       "      <td>48.8878</td>\n",
       "      <td>-118.2105</td>\n",
       "      <td>149</td>\n",
       "      <td>43039 Riley Greens Suite 393</td>\n",
       "      <td>Orient</td>\n",
       "      <td>WA</td>\n",
       "      <td>99160</td>\n",
       "      <td>Stephanie</td>\n",
       "      <td>Gill</td>\n",
       "      <td>2019-01-01 05:00:44.000000 +08:00</td>\n",
       "      <td>2019-01-01 05:00:44.867960 +08:00</td>\n",
       "      <td>2019-01-01 05:00:44.790000 +08:00</td>\n",
       "    </tr>\n",
       "    <tr>\n",
       "      <th>2</th>\n",
       "      <td>2</td>\n",
       "      <td>220.11</td>\n",
       "      <td>entertainment</td>\n",
       "      <td>Null</td>\n",
       "      <td>38859492057661</td>\n",
       "      <td>0</td>\n",
       "      <td>1325376051506840</td>\n",
       "      <td>1325376051286</td>\n",
       "      <td>43.150704</td>\n",
       "      <td>-112.154481</td>\n",
       "      <td>83236</td>\n",
       "      <td>fraud_Lind-Buckridge</td>\n",
       "      <td>2019-01-01 00:00:51</td>\n",
       "      <td>a1a22d70485983eac12b5b88dad1cf95</td>\n",
       "      <td>Edward@Sanchez</td>\n",
       "      <td>1962-01-19</td>\n",
       "      <td>M</td>\n",
       "      <td>Nature conservation officer</td>\n",
       "      <td>42.1808</td>\n",
       "      <td>-112.262</td>\n",
       "      <td>4154</td>\n",
       "      <td>594 White Dale Suite 530</td>\n",
       "      <td>Malad City</td>\n",
       "      <td>ID</td>\n",
       "      <td>83252</td>\n",
       "      <td>Edward</td>\n",
       "      <td>Sanchez</td>\n",
       "      <td>2019-01-01 05:00:51.000000 +08:00</td>\n",
       "      <td>2019-01-01 05:00:51.506840 +08:00</td>\n",
       "      <td>2019-01-01 05:00:51.286000 +08:00</td>\n",
       "    </tr>\n",
       "    <tr>\n",
       "      <th>3</th>\n",
       "      <td>3</td>\n",
       "      <td>45.00</td>\n",
       "      <td>gas_transport</td>\n",
       "      <td>DEUTUS33TRF</td>\n",
       "      <td>3534093764340240</td>\n",
       "      <td>0</td>\n",
       "      <td>1325376076794698</td>\n",
       "      <td>1325376076365</td>\n",
       "      <td>47.034331</td>\n",
       "      <td>-112.561071</td>\n",
       "      <td>None</td>\n",
       "      <td>fraud_Kutch, Hermiston and Farrell</td>\n",
       "      <td>2019-01-01 00:01:16</td>\n",
       "      <td>6b849c168bdad6f867558c3793159a81</td>\n",
       "      <td>Jeremy/White, !</td>\n",
       "      <td>1967-01-12</td>\n",
       "      <td>M</td>\n",
       "      <td>Patent attorney</td>\n",
       "      <td>46.2306</td>\n",
       "      <td>-112.1138</td>\n",
       "      <td>1939</td>\n",
       "      <td>9443 Cynthia Court Apt. 038</td>\n",
       "      <td>Boulder</td>\n",
       "      <td>MT</td>\n",
       "      <td>59632</td>\n",
       "      <td>Jeremy</td>\n",
       "      <td>White</td>\n",
       "      <td>2019-01-01 05:01:16.000000 +08:00</td>\n",
       "      <td>2019-01-01 05:01:16.794698 +08:00</td>\n",
       "      <td>2019-01-01 05:01:16.365000 +08:00</td>\n",
       "    </tr>\n",
       "    <tr>\n",
       "      <th>4</th>\n",
       "      <td>4</td>\n",
       "      <td>41.96</td>\n",
       "      <td>misc_pos</td>\n",
       "      <td>APBCUS61</td>\n",
       "      <td>375534208663984</td>\n",
       "      <td>0</td>\n",
       "      <td>1325376186746376</td>\n",
       "      <td>132537618681</td>\n",
       "      <td>38.674999</td>\n",
       "      <td>-78.632459</td>\n",
       "      <td>22844</td>\n",
       "      <td>fraud_Keeling-Crist</td>\n",
       "      <td>2019-01-01 00:03:06</td>\n",
       "      <td>a41d7549acf90789359a9aa5346dcb46</td>\n",
       "      <td>Tyler@Garcia</td>\n",
       "      <td>1986-03-28</td>\n",
       "      <td>M</td>\n",
       "      <td>Dance movement psychotherapist</td>\n",
       "      <td>38.4207</td>\n",
       "      <td>-79.4629</td>\n",
       "      <td>99</td>\n",
       "      <td>408 Bradley Rest</td>\n",
       "      <td>Doe Hill</td>\n",
       "      <td>VA</td>\n",
       "      <td>24433</td>\n",
       "      <td>Tyler</td>\n",
       "      <td>Garcia</td>\n",
       "      <td>2019-01-01 05:03:06.000000 +08:00</td>\n",
       "      <td>2019-01-01 05:03:06.746376 +08:00</td>\n",
       "      <td>2019-01-01 05:03:06.810000 +08:00</td>\n",
       "    </tr>\n",
       "  </tbody>\n",
       "</table>\n",
       "</div>"
      ],
      "text/plain": [
       "   Unnamed: 0     amt       category       cc_bic            cc_num  is_fraud    merch_eff_time  merch_last_update_time  merch_lat  merch_long merch_zipcode                            merchant trans_date_trans_time                         trans_num           person_name         dob gender                                job      lat       long city_pop                        street            city state    zip first_name last_name trans_date_trans_time_ts_formatted  merch_eff_time_fixed_ts_formatted merch_last_update_time_fixed_ts_formatted\n",
       "0           0    4.97       misc_net  CITIUS33CHI  2703186189652095         0  1325376018798532           1325376018666  36.011293  -82.048315         28705          fraud_Rippin, Kub and Mann   2019-01-01 00:00:18  0b242abb623afc578575680df30655b9  Jennifer,Banks,eeeee  1988-03-09      F          Psychologist, counselling  36.0788   -81.1781     3495                561 Perry Cove  Moravian Falls    NC  28654   Jennifer     Banks  2019-01-01 05:00:18.000000 +08:00  2019-01-01 05:00:18.798532 +08:00         2019-01-01 05:00:18.666000 +08:00\n",
       "1           1  107.23    grocery_pos     ADMDUS41      630423337322         0  1325376044867960            132537604479  49.159047 -118.186462          None     fraud_Heller, Gutmann and Zieme   2019-01-01 00:00:44  1f76529f8574734946361c461b024d99  Stephanie,Gill,eeeee  1978-06-21      F  Special educational needs teacher  48.8878  -118.2105      149  43039 Riley Greens Suite 393          Orient    WA  99160  Stephanie      Gill  2019-01-01 05:00:44.000000 +08:00  2019-01-01 05:00:44.867960 +08:00         2019-01-01 05:00:44.790000 +08:00\n",
       "2           2  220.11  entertainment         Null    38859492057661         0  1325376051506840           1325376051286  43.150704 -112.154481         83236                fraud_Lind-Buckridge   2019-01-01 00:00:51  a1a22d70485983eac12b5b88dad1cf95        Edward@Sanchez  1962-01-19      M        Nature conservation officer  42.1808   -112.262     4154      594 White Dale Suite 530      Malad City    ID  83252     Edward   Sanchez  2019-01-01 05:00:51.000000 +08:00  2019-01-01 05:00:51.506840 +08:00         2019-01-01 05:00:51.286000 +08:00\n",
       "3           3   45.00  gas_transport  DEUTUS33TRF  3534093764340240         0  1325376076794698           1325376076365  47.034331 -112.561071          None  fraud_Kutch, Hermiston and Farrell   2019-01-01 00:01:16  6b849c168bdad6f867558c3793159a81       Jeremy/White, !  1967-01-12      M                    Patent attorney  46.2306  -112.1138     1939   9443 Cynthia Court Apt. 038         Boulder    MT  59632     Jeremy     White  2019-01-01 05:01:16.000000 +08:00  2019-01-01 05:01:16.794698 +08:00         2019-01-01 05:01:16.365000 +08:00\n",
       "4           4   41.96       misc_pos     APBCUS61   375534208663984         0  1325376186746376            132537618681  38.674999  -78.632459         22844                 fraud_Keeling-Crist   2019-01-01 00:03:06  a41d7549acf90789359a9aa5346dcb46          Tyler@Garcia  1986-03-28      M     Dance movement psychotherapist  38.4207   -79.4629       99              408 Bradley Rest        Doe Hill    VA  24433      Tyler    Garcia  2019-01-01 05:03:06.000000 +08:00  2019-01-01 05:03:06.746376 +08:00         2019-01-01 05:03:06.810000 +08:00"
      ]
     },
     "execution_count": 42,
     "metadata": {},
     "output_type": "execute_result"
    }
   ],
   "source": [
    "# Test pandas dataframe view\n",
    "ps_df = df_cleaned.pandas_api()\n",
    "ps_df.head(5)"
   ]
  },
  {
   "cell_type": "code",
   "execution_count": 21,
   "id": "871e7b6e",
   "metadata": {},
   "outputs": [
    {
     "data": {
      "text/plain": [
       "Unnamed: 0                                   1296675\n",
       "amt                                          1296675\n",
       "category                                     1296675\n",
       "cc_bic                                       1296675\n",
       "cc_num                                       1296675\n",
       "is_fraud                                     1296675\n",
       "merch_eff_time                               1296675\n",
       "merch_last_update_time                       1296675\n",
       "merch_lat                                    1296675\n",
       "merch_long                                   1296675\n",
       "merch_zipcode                                1100702\n",
       "merchant                                     1296675\n",
       "trans_date_trans_time                        1296675\n",
       "trans_num                                    1296675\n",
       "person_name                                  1296675\n",
       "dob                                          1296675\n",
       "gender                                       1296675\n",
       "job                                          1296675\n",
       "lat                                          1296675\n",
       "long                                         1296675\n",
       "city_pop                                     1296675\n",
       "street                                       1296675\n",
       "city                                         1296675\n",
       "state                                        1296675\n",
       "zip                                          1296675\n",
       "first_name                                   1296675\n",
       "last_name                                    1296675\n",
       "trans_date_trans_time_ts_formatted           1296675\n",
       "merch_eff_time_fixed_ts_formatted            1285047\n",
       "merch_last_update_time_fixed_ts_formatted    1283740\n",
       "dtype: int64"
      ]
     },
     "execution_count": 21,
     "metadata": {},
     "output_type": "execute_result"
    }
   ],
   "source": [
    "ps_df = df_cleaned.pandas_api()\n",
    "ps_df.count()"
   ]
  },
  {
   "cell_type": "markdown",
   "id": "918c7a49",
   "metadata": {},
   "source": [
    "1st Visualization & Insights: Category vs Total Amount and Transaction Count"
   ]
  },
  {
   "cell_type": "code",
   "execution_count": 22,
   "id": "1df0fbe2",
   "metadata": {},
   "outputs": [
    {
     "data": {
      "application/vnd.plotly.v1+json": {
       "config": {
        "plotlyServerURL": "https://plot.ly"
       },
       "data": [
        {
         "hovertemplate": "variable=total_amt<br>category=%{x}<br>value=%{y}<extra></extra>",
         "legendgroup": "total_amt",
         "marker": {
          "color": "#636efa",
          "pattern": {
           "shape": ""
          }
         },
         "name": "total_amt",
         "orientation": "v",
         "showlegend": true,
         "textposition": "auto",
         "type": "bar",
         "x": [
          "grocery_pos",
          "shopping_pos",
          "shopping_net",
          "gas_transport",
          "home",
          "kids_pets",
          "entertainment",
          "misc_net",
          "misc_pos",
          "food_dining",
          "health_fitness",
          "travel",
          "personal_care",
          "grocery_net"
         ],
         "xaxis": "x",
         "y": {
          "bdata": "yPUozPKUa0G6HoUz68BhQV+PwrV/c2BBI1yPEv3bX0FyPQoHyl1bQZtwPQpAz1hBOwrXozEHV0EI16NQw4VTQf///58rHFNBvPUo3PLSUUEcrkcBDcBRQbcehWvcOlFBGoXroWqbUEFyPQpXepxCQQ==",
          "dtype": "f8"
         },
         "yaxis": "y"
        },
        {
         "hovertemplate": "variable=transaction_count<br>category=%{x}<br>value=%{y}<extra></extra>",
         "legendgroup": "transaction_count",
         "marker": {
          "color": "#EF553B",
          "pattern": {
           "shape": ""
          }
         },
         "name": "transaction_count",
         "orientation": "v",
         "showlegend": true,
         "textposition": "auto",
         "type": "bar",
         "x": [
          "grocery_pos",
          "shopping_pos",
          "shopping_net",
          "gas_transport",
          "home",
          "kids_pets",
          "entertainment",
          "misc_net",
          "misc_pos",
          "food_dining",
          "health_fitness",
          "travel",
          "personal_care",
          "grocery_net"
         ],
         "xaxis": "x",
         "y": {
          "bdata": "AAAAAGAv/kAAAAAAAHz8QAAAAABw0PdAAAAAAFgSAEEAAAAAsA7+QAAAAACwmPtAAAAAAODz9kAAAAAA4ObuQAAAAABwcvNAAAAAAFBU9kAAAAAAcPf0QAAAAABgx+NAAAAAAGAo9kAAAAAAgDHmQA==",
          "dtype": "f8"
         },
         "yaxis": "y"
        }
       ],
       "layout": {
        "barmode": "relative",
        "legend": {
         "title": {
          "text": "variable"
         },
         "tracegroupgap": 0
        },
        "margin": {
         "t": 60
        },
        "template": {
         "data": {
          "bar": [
           {
            "error_x": {
             "color": "#2a3f5f"
            },
            "error_y": {
             "color": "#2a3f5f"
            },
            "marker": {
             "line": {
              "color": "#E5ECF6",
              "width": 0.5
             },
             "pattern": {
              "fillmode": "overlay",
              "size": 10,
              "solidity": 0.2
             }
            },
            "type": "bar"
           }
          ],
          "barpolar": [
           {
            "marker": {
             "line": {
              "color": "#E5ECF6",
              "width": 0.5
             },
             "pattern": {
              "fillmode": "overlay",
              "size": 10,
              "solidity": 0.2
             }
            },
            "type": "barpolar"
           }
          ],
          "carpet": [
           {
            "aaxis": {
             "endlinecolor": "#2a3f5f",
             "gridcolor": "white",
             "linecolor": "white",
             "minorgridcolor": "white",
             "startlinecolor": "#2a3f5f"
            },
            "baxis": {
             "endlinecolor": "#2a3f5f",
             "gridcolor": "white",
             "linecolor": "white",
             "minorgridcolor": "white",
             "startlinecolor": "#2a3f5f"
            },
            "type": "carpet"
           }
          ],
          "choropleth": [
           {
            "colorbar": {
             "outlinewidth": 0,
             "ticks": ""
            },
            "type": "choropleth"
           }
          ],
          "contour": [
           {
            "colorbar": {
             "outlinewidth": 0,
             "ticks": ""
            },
            "colorscale": [
             [
              0,
              "#0d0887"
             ],
             [
              0.1111111111111111,
              "#46039f"
             ],
             [
              0.2222222222222222,
              "#7201a8"
             ],
             [
              0.3333333333333333,
              "#9c179e"
             ],
             [
              0.4444444444444444,
              "#bd3786"
             ],
             [
              0.5555555555555556,
              "#d8576b"
             ],
             [
              0.6666666666666666,
              "#ed7953"
             ],
             [
              0.7777777777777778,
              "#fb9f3a"
             ],
             [
              0.8888888888888888,
              "#fdca26"
             ],
             [
              1,
              "#f0f921"
             ]
            ],
            "type": "contour"
           }
          ],
          "contourcarpet": [
           {
            "colorbar": {
             "outlinewidth": 0,
             "ticks": ""
            },
            "type": "contourcarpet"
           }
          ],
          "heatmap": [
           {
            "colorbar": {
             "outlinewidth": 0,
             "ticks": ""
            },
            "colorscale": [
             [
              0,
              "#0d0887"
             ],
             [
              0.1111111111111111,
              "#46039f"
             ],
             [
              0.2222222222222222,
              "#7201a8"
             ],
             [
              0.3333333333333333,
              "#9c179e"
             ],
             [
              0.4444444444444444,
              "#bd3786"
             ],
             [
              0.5555555555555556,
              "#d8576b"
             ],
             [
              0.6666666666666666,
              "#ed7953"
             ],
             [
              0.7777777777777778,
              "#fb9f3a"
             ],
             [
              0.8888888888888888,
              "#fdca26"
             ],
             [
              1,
              "#f0f921"
             ]
            ],
            "type": "heatmap"
           }
          ],
          "histogram": [
           {
            "marker": {
             "pattern": {
              "fillmode": "overlay",
              "size": 10,
              "solidity": 0.2
             }
            },
            "type": "histogram"
           }
          ],
          "histogram2d": [
           {
            "colorbar": {
             "outlinewidth": 0,
             "ticks": ""
            },
            "colorscale": [
             [
              0,
              "#0d0887"
             ],
             [
              0.1111111111111111,
              "#46039f"
             ],
             [
              0.2222222222222222,
              "#7201a8"
             ],
             [
              0.3333333333333333,
              "#9c179e"
             ],
             [
              0.4444444444444444,
              "#bd3786"
             ],
             [
              0.5555555555555556,
              "#d8576b"
             ],
             [
              0.6666666666666666,
              "#ed7953"
             ],
             [
              0.7777777777777778,
              "#fb9f3a"
             ],
             [
              0.8888888888888888,
              "#fdca26"
             ],
             [
              1,
              "#f0f921"
             ]
            ],
            "type": "histogram2d"
           }
          ],
          "histogram2dcontour": [
           {
            "colorbar": {
             "outlinewidth": 0,
             "ticks": ""
            },
            "colorscale": [
             [
              0,
              "#0d0887"
             ],
             [
              0.1111111111111111,
              "#46039f"
             ],
             [
              0.2222222222222222,
              "#7201a8"
             ],
             [
              0.3333333333333333,
              "#9c179e"
             ],
             [
              0.4444444444444444,
              "#bd3786"
             ],
             [
              0.5555555555555556,
              "#d8576b"
             ],
             [
              0.6666666666666666,
              "#ed7953"
             ],
             [
              0.7777777777777778,
              "#fb9f3a"
             ],
             [
              0.8888888888888888,
              "#fdca26"
             ],
             [
              1,
              "#f0f921"
             ]
            ],
            "type": "histogram2dcontour"
           }
          ],
          "mesh3d": [
           {
            "colorbar": {
             "outlinewidth": 0,
             "ticks": ""
            },
            "type": "mesh3d"
           }
          ],
          "parcoords": [
           {
            "line": {
             "colorbar": {
              "outlinewidth": 0,
              "ticks": ""
             }
            },
            "type": "parcoords"
           }
          ],
          "pie": [
           {
            "automargin": true,
            "type": "pie"
           }
          ],
          "scatter": [
           {
            "fillpattern": {
             "fillmode": "overlay",
             "size": 10,
             "solidity": 0.2
            },
            "type": "scatter"
           }
          ],
          "scatter3d": [
           {
            "line": {
             "colorbar": {
              "outlinewidth": 0,
              "ticks": ""
             }
            },
            "marker": {
             "colorbar": {
              "outlinewidth": 0,
              "ticks": ""
             }
            },
            "type": "scatter3d"
           }
          ],
          "scattercarpet": [
           {
            "marker": {
             "colorbar": {
              "outlinewidth": 0,
              "ticks": ""
             }
            },
            "type": "scattercarpet"
           }
          ],
          "scattergeo": [
           {
            "marker": {
             "colorbar": {
              "outlinewidth": 0,
              "ticks": ""
             }
            },
            "type": "scattergeo"
           }
          ],
          "scattergl": [
           {
            "marker": {
             "colorbar": {
              "outlinewidth": 0,
              "ticks": ""
             }
            },
            "type": "scattergl"
           }
          ],
          "scattermap": [
           {
            "marker": {
             "colorbar": {
              "outlinewidth": 0,
              "ticks": ""
             }
            },
            "type": "scattermap"
           }
          ],
          "scattermapbox": [
           {
            "marker": {
             "colorbar": {
              "outlinewidth": 0,
              "ticks": ""
             }
            },
            "type": "scattermapbox"
           }
          ],
          "scatterpolar": [
           {
            "marker": {
             "colorbar": {
              "outlinewidth": 0,
              "ticks": ""
             }
            },
            "type": "scatterpolar"
           }
          ],
          "scatterpolargl": [
           {
            "marker": {
             "colorbar": {
              "outlinewidth": 0,
              "ticks": ""
             }
            },
            "type": "scatterpolargl"
           }
          ],
          "scatterternary": [
           {
            "marker": {
             "colorbar": {
              "outlinewidth": 0,
              "ticks": ""
             }
            },
            "type": "scatterternary"
           }
          ],
          "surface": [
           {
            "colorbar": {
             "outlinewidth": 0,
             "ticks": ""
            },
            "colorscale": [
             [
              0,
              "#0d0887"
             ],
             [
              0.1111111111111111,
              "#46039f"
             ],
             [
              0.2222222222222222,
              "#7201a8"
             ],
             [
              0.3333333333333333,
              "#9c179e"
             ],
             [
              0.4444444444444444,
              "#bd3786"
             ],
             [
              0.5555555555555556,
              "#d8576b"
             ],
             [
              0.6666666666666666,
              "#ed7953"
             ],
             [
              0.7777777777777778,
              "#fb9f3a"
             ],
             [
              0.8888888888888888,
              "#fdca26"
             ],
             [
              1,
              "#f0f921"
             ]
            ],
            "type": "surface"
           }
          ],
          "table": [
           {
            "cells": {
             "fill": {
              "color": "#EBF0F8"
             },
             "line": {
              "color": "white"
             }
            },
            "header": {
             "fill": {
              "color": "#C8D4E3"
             },
             "line": {
              "color": "white"
             }
            },
            "type": "table"
           }
          ]
         },
         "layout": {
          "annotationdefaults": {
           "arrowcolor": "#2a3f5f",
           "arrowhead": 0,
           "arrowwidth": 1
          },
          "autotypenumbers": "strict",
          "coloraxis": {
           "colorbar": {
            "outlinewidth": 0,
            "ticks": ""
           }
          },
          "colorscale": {
           "diverging": [
            [
             0,
             "#8e0152"
            ],
            [
             0.1,
             "#c51b7d"
            ],
            [
             0.2,
             "#de77ae"
            ],
            [
             0.3,
             "#f1b6da"
            ],
            [
             0.4,
             "#fde0ef"
            ],
            [
             0.5,
             "#f7f7f7"
            ],
            [
             0.6,
             "#e6f5d0"
            ],
            [
             0.7,
             "#b8e186"
            ],
            [
             0.8,
             "#7fbc41"
            ],
            [
             0.9,
             "#4d9221"
            ],
            [
             1,
             "#276419"
            ]
           ],
           "sequential": [
            [
             0,
             "#0d0887"
            ],
            [
             0.1111111111111111,
             "#46039f"
            ],
            [
             0.2222222222222222,
             "#7201a8"
            ],
            [
             0.3333333333333333,
             "#9c179e"
            ],
            [
             0.4444444444444444,
             "#bd3786"
            ],
            [
             0.5555555555555556,
             "#d8576b"
            ],
            [
             0.6666666666666666,
             "#ed7953"
            ],
            [
             0.7777777777777778,
             "#fb9f3a"
            ],
            [
             0.8888888888888888,
             "#fdca26"
            ],
            [
             1,
             "#f0f921"
            ]
           ],
           "sequentialminus": [
            [
             0,
             "#0d0887"
            ],
            [
             0.1111111111111111,
             "#46039f"
            ],
            [
             0.2222222222222222,
             "#7201a8"
            ],
            [
             0.3333333333333333,
             "#9c179e"
            ],
            [
             0.4444444444444444,
             "#bd3786"
            ],
            [
             0.5555555555555556,
             "#d8576b"
            ],
            [
             0.6666666666666666,
             "#ed7953"
            ],
            [
             0.7777777777777778,
             "#fb9f3a"
            ],
            [
             0.8888888888888888,
             "#fdca26"
            ],
            [
             1,
             "#f0f921"
            ]
           ]
          },
          "colorway": [
           "#636efa",
           "#EF553B",
           "#00cc96",
           "#ab63fa",
           "#FFA15A",
           "#19d3f3",
           "#FF6692",
           "#B6E880",
           "#FF97FF",
           "#FECB52"
          ],
          "font": {
           "color": "#2a3f5f"
          },
          "geo": {
           "bgcolor": "white",
           "lakecolor": "white",
           "landcolor": "#E5ECF6",
           "showlakes": true,
           "showland": true,
           "subunitcolor": "white"
          },
          "hoverlabel": {
           "align": "left"
          },
          "hovermode": "closest",
          "mapbox": {
           "style": "light"
          },
          "paper_bgcolor": "white",
          "plot_bgcolor": "#E5ECF6",
          "polar": {
           "angularaxis": {
            "gridcolor": "white",
            "linecolor": "white",
            "ticks": ""
           },
           "bgcolor": "#E5ECF6",
           "radialaxis": {
            "gridcolor": "white",
            "linecolor": "white",
            "ticks": ""
           }
          },
          "scene": {
           "xaxis": {
            "backgroundcolor": "#E5ECF6",
            "gridcolor": "white",
            "gridwidth": 2,
            "linecolor": "white",
            "showbackground": true,
            "ticks": "",
            "zerolinecolor": "white"
           },
           "yaxis": {
            "backgroundcolor": "#E5ECF6",
            "gridcolor": "white",
            "gridwidth": 2,
            "linecolor": "white",
            "showbackground": true,
            "ticks": "",
            "zerolinecolor": "white"
           },
           "zaxis": {
            "backgroundcolor": "#E5ECF6",
            "gridcolor": "white",
            "gridwidth": 2,
            "linecolor": "white",
            "showbackground": true,
            "ticks": "",
            "zerolinecolor": "white"
           }
          },
          "shapedefaults": {
           "line": {
            "color": "#2a3f5f"
           }
          },
          "ternary": {
           "aaxis": {
            "gridcolor": "white",
            "linecolor": "white",
            "ticks": ""
           },
           "baxis": {
            "gridcolor": "white",
            "linecolor": "white",
            "ticks": ""
           },
           "bgcolor": "#E5ECF6",
           "caxis": {
            "gridcolor": "white",
            "linecolor": "white",
            "ticks": ""
           }
          },
          "title": {
           "x": 0.05
          },
          "xaxis": {
           "automargin": true,
           "gridcolor": "white",
           "linecolor": "white",
           "ticks": "",
           "title": {
            "standoff": 15
           },
           "zerolinecolor": "white",
           "zerolinewidth": 2
          },
          "yaxis": {
           "automargin": true,
           "gridcolor": "white",
           "linecolor": "white",
           "ticks": "",
           "title": {
            "standoff": 15
           },
           "zerolinecolor": "white",
           "zerolinewidth": 2
          }
         }
        },
        "xaxis": {
         "anchor": "y",
         "domain": [
          0,
          1
         ],
         "title": {
          "text": "category"
         }
        },
        "yaxis": {
         "anchor": "x",
         "domain": [
          0,
          1
         ],
         "title": {
          "text": "value"
         }
        }
       }
      }
     },
     "metadata": {},
     "output_type": "display_data"
    }
   ],
   "source": [
    "import pyspark.pandas as ps\n",
    "from pyspark.sql import functions as F\n",
    "\n",
    "# 1. Group by 'category' and compute sum and count\n",
    "df_grouped = df_cleaned.groupBy(\"category\").agg(\n",
    "    F.sum(\"amt\").alias(\"total_amt\"),\n",
    "    F.count(\"*\").alias(\"transaction_count\")\n",
    ")\n",
    "\n",
    "# 2. Convert to pandas-on-Spark DataFrame\n",
    "ps_df = df_grouped.pandas_api()\n",
    "\n",
    "# 3. Sort by total_amt (optional)\n",
    "ps_df_sorted = ps_df.sort_values('total_amt', ascending=False)\n",
    "\n",
    "# 4. Set index to 'category' and plot side-by-side bars\n",
    "ps_df_sorted.set_index('category')[['total_amt', 'transaction_count']].plot(kind='bar')\n",
    "\n",
    "\n",
    "# MY RAW ANALYSIS ANSWER\n",
    "# From below bar plot figure, we can see that grocery_pos had the highest sum aggregate of $14.46082M. However, gas_transport wins with the highest transaction counts of 131.659k.\n",
    "# Depending on the offered payment model of the payment gateway, these insights should bring profit for targeting the merchant's nature of business\n",
    "\n",
    "\n",
    "# AI-POWERED ANSWER BASED ON MY ANALYSIS (I'm not afraid of exposing myself using AI for my answers, we should ride(utilize) with them, not compete with them)\n",
    "# From the bar plot, we observe that grocery_pos had the highest total transaction amount, aggregating to approximately $14.46M.\n",
    "# On the other hand, gas_transport recorded the highest number of transactions, totaling around 131.66k.\n",
    "\n",
    "# These insights are significant when considering payment gateway pricing models.\n",
    "#    If the gateway charges based on transaction volume (count), merchants in the gas_transport category would generate more fees.\n",
    "#   Conversely, if the pricing is based on transaction value, grocery_pos would be more lucrative for the gateway.\n",
    "\n",
    "# Thus, understanding the merchant's nature of business can help in optimizing profit strategies, \n",
    "# both for the payment gateway provider and for negotiating rates with high-volume or high-value merchants.\n"
   ]
  },
  {
   "cell_type": "markdown",
   "id": "e48bbc3b",
   "metadata": {},
   "source": [
    "2nd Visualization & Insights: Finding Time difference between merchant eff_time and merchant las_update_time"
   ]
  },
  {
   "cell_type": "code",
   "execution_count": 43,
   "id": "d5f9ffc1",
   "metadata": {},
   "outputs": [
    {
     "name": "stdout",
     "output_type": "stream",
     "text": [
      "+--------------+---------------------------------+-----------------------------------------+------------------+\n",
      "|category      |merch_eff_time_fixed_ts_formatted|merch_last_update_time_fixed_ts_formatted|time_diff_sec     |\n",
      "+--------------+---------------------------------+-----------------------------------------+------------------+\n",
      "|grocery_pos   |2019-02-02 15:24:36.100351 +08:00|2019-02-02 15:24:36.998000 +08:00        |0.897648811340332 |\n",
      "|personal_care |2019-10-10 16:49:37.100663 +08:00|2019-10-10 16:49:37.998000 +08:00        |0.8973369598388672|\n",
      "|kids_pets     |2019-11-23 23:40:13.100198 +08:00|2019-11-23 23:40:13.997000 +08:00        |0.8968019485473633|\n",
      "|food_dining   |2020-05-26 01:26:14.100532 +08:00|2020-05-26 01:26:14.997000 +08:00        |0.896467924118042 |\n",
      "|misc_net      |2019-11-15 14:16:40.100542 +08:00|2019-11-15 14:16:40.997000 +08:00        |0.8964579105377197|\n",
      "|entertainment |2019-07-18 16:41:58.100922 +08:00|2019-07-18 16:41:58.997000 +08:00        |0.8960778713226318|\n",
      "|gas_transport |2019-04-10 07:11:18.101252 +08:00|2019-04-10 07:11:18.997000 +08:00        |0.8957479000091553|\n",
      "|kids_pets     |2019-12-18 23:16:29.102345 +08:00|2019-12-18 23:16:29.998000 +08:00        |0.8956549167633057|\n",
      "|kids_pets     |2019-03-24 16:24:46.100352 +08:00|2019-03-24 16:24:46.996000 +08:00        |0.8956480026245117|\n",
      "|health_fitness|2019-09-24 02:14:48.101425 +08:00|2019-09-24 02:14:48.997000 +08:00        |0.8955750465393066|\n",
      "|entertainment |2020-06-02 17:55:10.100970 +08:00|2020-06-02 17:55:10.996000 +08:00        |0.8950300216674805|\n",
      "|shopping_pos  |2019-07-25 19:44:26.103071 +08:00|2019-07-25 19:44:26.998000 +08:00        |0.8949289321899414|\n",
      "|entertainment |2019-12-01 04:54:55.100078 +08:00|2019-12-01 04:54:55.995000 +08:00        |0.8949217796325684|\n",
      "|grocery_net   |2020-03-10 07:44:42.101322 +08:00|2020-03-10 07:44:42.996000 +08:00        |0.8946781158447266|\n",
      "|gas_transport |2019-07-31 12:17:51.100448 +08:00|2019-07-31 12:17:51.995000 +08:00        |0.8945519924163818|\n",
      "|grocery_pos   |2019-07-15 09:53:03.101772 +08:00|2019-07-15 09:53:03.996000 +08:00        |0.8942279815673828|\n",
      "|shopping_pos  |2019-12-30 21:23:24.103812 +08:00|2019-12-30 21:23:24.998000 +08:00        |0.8941879272460938|\n",
      "|gas_transport |2019-06-23 13:41:34.102847 +08:00|2019-06-23 13:41:34.997000 +08:00        |0.8941528797149658|\n",
      "|misc_pos      |2019-06-01 04:17:21.103130 +08:00|2019-06-01 04:17:21.997000 +08:00        |0.8938698768615723|\n",
      "|grocery_pos   |2019-12-09 14:33:29.101147 +08:00|2019-12-09 14:33:29.995000 +08:00        |0.893852949142456 |\n",
      "+--------------+---------------------------------+-----------------------------------------+------------------+\n",
      "only showing top 20 rows\n"
     ]
    }
   ],
   "source": [
    "from pyspark.sql.functions import col\n",
    "\n",
    "df_with_diff = df_cleaned.withColumn(\n",
    "    \"time_diff_sec\",\n",
    "    (col(\"merch_last_update_time_fixed_ts_formatted\").cast(\"timestamp\").cast(\"double\") -\n",
    "     col(\"merch_eff_time_fixed_ts_formatted\").cast(\"timestamp\").cast(\"double\"))\n",
    ")\n",
    "\n",
    "df_with_diff.orderBy(col(\"time_diff_sec\").desc()).select(\n",
    "    \"category\",\n",
    "    \"merch_eff_time_fixed_ts_formatted\",\n",
    "    \"merch_last_update_time_fixed_ts_formatted\",\n",
    "    \"time_diff_sec\"\n",
    ").show(20, truncate=False)\n",
    "\n",
    "# since the highest time difference is only 0.89 seconds, i wouldn't dive deeper as i think this is already a good time difference (i may be very wrong, please don't hurt me)"
   ]
  },
  {
   "cell_type": "markdown",
   "id": "3061a58f",
   "metadata": {},
   "source": [
    "3rd Visualization & Insights: Frauds, its targeted category, preferred time to hit, & top hit states"
   ]
  },
  {
   "cell_type": "code",
   "execution_count": null,
   "id": "97abecfa",
   "metadata": {},
   "outputs": [
    {
     "data": {
      "application/vnd.plotly.v1+json": {
       "config": {
        "plotlyServerURL": "https://plot.ly"
       },
       "data": [
        {
         "alignmentgroup": "True",
         "hovertemplate": "is_fraud_label=Non-Fraud<br>category=%{x}<br>txn_count=%{y}<extra></extra>",
         "legendgroup": "Non-Fraud",
         "marker": {
          "color": "#636efa",
          "pattern": {
           "shape": ""
          }
         },
         "name": "Non-Fraud",
         "offsetgroup": "Non-Fraud",
         "orientation": "v",
         "showlegend": true,
         "textposition": "auto",
         "type": "bar",
         "x": [
          "gas_transport",
          "home",
          "grocery_pos",
          "shopping_pos",
          "kids_pets",
          "shopping_net",
          "entertainment",
          "food_dining",
          "personal_care",
          "health_fitness",
          "misc_pos",
          "misc_net",
          "grocery_net",
          "travel"
         ],
         "xaxis": "x",
         "y": {
          "bdata": "4f8BACXgAQAn3AEAdcQBAJy4AQBWdgEAVW4BAK5kAQCqYQEA8k4BAC02AQCk8wAABrEAAMedAAA=",
          "dtype": "i4"
         },
         "yaxis": "y"
        },
        {
         "alignmentgroup": "True",
         "hovertemplate": "is_fraud_label=Fraud<br>category=%{x}<br>txn_count=%{y}<extra></extra>",
         "legendgroup": "Fraud",
         "marker": {
          "color": "#EF553B",
          "pattern": {
           "shape": ""
          }
         },
         "name": "Fraud",
         "offsetgroup": "Fraud",
         "orientation": "v",
         "showlegend": true,
         "textposition": "auto",
         "type": "bar",
         "x": [
          "grocery_pos",
          "shopping_net",
          "misc_net",
          "shopping_pos",
          "gas_transport",
          "misc_pos",
          "kids_pets",
          "entertainment",
          "personal_care",
          "home",
          "food_dining",
          "grocery_net",
          "health_fitness",
          "travel"
         ],
         "xaxis": "x",
         "y": {
          "bdata": "zwaxBpMDSwNqAvoA7wDpANwAxgCXAIYAhQB0AA==",
          "dtype": "i2"
         },
         "yaxis": "y"
        }
       ],
       "layout": {
        "barmode": "group",
        "legend": {
         "title": {
          "text": "is_fraud_label"
         },
         "tracegroupgap": 0
        },
        "template": {
         "data": {
          "bar": [
           {
            "error_x": {
             "color": "#2a3f5f"
            },
            "error_y": {
             "color": "#2a3f5f"
            },
            "marker": {
             "line": {
              "color": "#E5ECF6",
              "width": 0.5
             },
             "pattern": {
              "fillmode": "overlay",
              "size": 10,
              "solidity": 0.2
             }
            },
            "type": "bar"
           }
          ],
          "barpolar": [
           {
            "marker": {
             "line": {
              "color": "#E5ECF6",
              "width": 0.5
             },
             "pattern": {
              "fillmode": "overlay",
              "size": 10,
              "solidity": 0.2
             }
            },
            "type": "barpolar"
           }
          ],
          "carpet": [
           {
            "aaxis": {
             "endlinecolor": "#2a3f5f",
             "gridcolor": "white",
             "linecolor": "white",
             "minorgridcolor": "white",
             "startlinecolor": "#2a3f5f"
            },
            "baxis": {
             "endlinecolor": "#2a3f5f",
             "gridcolor": "white",
             "linecolor": "white",
             "minorgridcolor": "white",
             "startlinecolor": "#2a3f5f"
            },
            "type": "carpet"
           }
          ],
          "choropleth": [
           {
            "colorbar": {
             "outlinewidth": 0,
             "ticks": ""
            },
            "type": "choropleth"
           }
          ],
          "contour": [
           {
            "colorbar": {
             "outlinewidth": 0,
             "ticks": ""
            },
            "colorscale": [
             [
              0,
              "#0d0887"
             ],
             [
              0.1111111111111111,
              "#46039f"
             ],
             [
              0.2222222222222222,
              "#7201a8"
             ],
             [
              0.3333333333333333,
              "#9c179e"
             ],
             [
              0.4444444444444444,
              "#bd3786"
             ],
             [
              0.5555555555555556,
              "#d8576b"
             ],
             [
              0.6666666666666666,
              "#ed7953"
             ],
             [
              0.7777777777777778,
              "#fb9f3a"
             ],
             [
              0.8888888888888888,
              "#fdca26"
             ],
             [
              1,
              "#f0f921"
             ]
            ],
            "type": "contour"
           }
          ],
          "contourcarpet": [
           {
            "colorbar": {
             "outlinewidth": 0,
             "ticks": ""
            },
            "type": "contourcarpet"
           }
          ],
          "heatmap": [
           {
            "colorbar": {
             "outlinewidth": 0,
             "ticks": ""
            },
            "colorscale": [
             [
              0,
              "#0d0887"
             ],
             [
              0.1111111111111111,
              "#46039f"
             ],
             [
              0.2222222222222222,
              "#7201a8"
             ],
             [
              0.3333333333333333,
              "#9c179e"
             ],
             [
              0.4444444444444444,
              "#bd3786"
             ],
             [
              0.5555555555555556,
              "#d8576b"
             ],
             [
              0.6666666666666666,
              "#ed7953"
             ],
             [
              0.7777777777777778,
              "#fb9f3a"
             ],
             [
              0.8888888888888888,
              "#fdca26"
             ],
             [
              1,
              "#f0f921"
             ]
            ],
            "type": "heatmap"
           }
          ],
          "histogram": [
           {
            "marker": {
             "pattern": {
              "fillmode": "overlay",
              "size": 10,
              "solidity": 0.2
             }
            },
            "type": "histogram"
           }
          ],
          "histogram2d": [
           {
            "colorbar": {
             "outlinewidth": 0,
             "ticks": ""
            },
            "colorscale": [
             [
              0,
              "#0d0887"
             ],
             [
              0.1111111111111111,
              "#46039f"
             ],
             [
              0.2222222222222222,
              "#7201a8"
             ],
             [
              0.3333333333333333,
              "#9c179e"
             ],
             [
              0.4444444444444444,
              "#bd3786"
             ],
             [
              0.5555555555555556,
              "#d8576b"
             ],
             [
              0.6666666666666666,
              "#ed7953"
             ],
             [
              0.7777777777777778,
              "#fb9f3a"
             ],
             [
              0.8888888888888888,
              "#fdca26"
             ],
             [
              1,
              "#f0f921"
             ]
            ],
            "type": "histogram2d"
           }
          ],
          "histogram2dcontour": [
           {
            "colorbar": {
             "outlinewidth": 0,
             "ticks": ""
            },
            "colorscale": [
             [
              0,
              "#0d0887"
             ],
             [
              0.1111111111111111,
              "#46039f"
             ],
             [
              0.2222222222222222,
              "#7201a8"
             ],
             [
              0.3333333333333333,
              "#9c179e"
             ],
             [
              0.4444444444444444,
              "#bd3786"
             ],
             [
              0.5555555555555556,
              "#d8576b"
             ],
             [
              0.6666666666666666,
              "#ed7953"
             ],
             [
              0.7777777777777778,
              "#fb9f3a"
             ],
             [
              0.8888888888888888,
              "#fdca26"
             ],
             [
              1,
              "#f0f921"
             ]
            ],
            "type": "histogram2dcontour"
           }
          ],
          "mesh3d": [
           {
            "colorbar": {
             "outlinewidth": 0,
             "ticks": ""
            },
            "type": "mesh3d"
           }
          ],
          "parcoords": [
           {
            "line": {
             "colorbar": {
              "outlinewidth": 0,
              "ticks": ""
             }
            },
            "type": "parcoords"
           }
          ],
          "pie": [
           {
            "automargin": true,
            "type": "pie"
           }
          ],
          "scatter": [
           {
            "fillpattern": {
             "fillmode": "overlay",
             "size": 10,
             "solidity": 0.2
            },
            "type": "scatter"
           }
          ],
          "scatter3d": [
           {
            "line": {
             "colorbar": {
              "outlinewidth": 0,
              "ticks": ""
             }
            },
            "marker": {
             "colorbar": {
              "outlinewidth": 0,
              "ticks": ""
             }
            },
            "type": "scatter3d"
           }
          ],
          "scattercarpet": [
           {
            "marker": {
             "colorbar": {
              "outlinewidth": 0,
              "ticks": ""
             }
            },
            "type": "scattercarpet"
           }
          ],
          "scattergeo": [
           {
            "marker": {
             "colorbar": {
              "outlinewidth": 0,
              "ticks": ""
             }
            },
            "type": "scattergeo"
           }
          ],
          "scattergl": [
           {
            "marker": {
             "colorbar": {
              "outlinewidth": 0,
              "ticks": ""
             }
            },
            "type": "scattergl"
           }
          ],
          "scattermap": [
           {
            "marker": {
             "colorbar": {
              "outlinewidth": 0,
              "ticks": ""
             }
            },
            "type": "scattermap"
           }
          ],
          "scattermapbox": [
           {
            "marker": {
             "colorbar": {
              "outlinewidth": 0,
              "ticks": ""
             }
            },
            "type": "scattermapbox"
           }
          ],
          "scatterpolar": [
           {
            "marker": {
             "colorbar": {
              "outlinewidth": 0,
              "ticks": ""
             }
            },
            "type": "scatterpolar"
           }
          ],
          "scatterpolargl": [
           {
            "marker": {
             "colorbar": {
              "outlinewidth": 0,
              "ticks": ""
             }
            },
            "type": "scatterpolargl"
           }
          ],
          "scatterternary": [
           {
            "marker": {
             "colorbar": {
              "outlinewidth": 0,
              "ticks": ""
             }
            },
            "type": "scatterternary"
           }
          ],
          "surface": [
           {
            "colorbar": {
             "outlinewidth": 0,
             "ticks": ""
            },
            "colorscale": [
             [
              0,
              "#0d0887"
             ],
             [
              0.1111111111111111,
              "#46039f"
             ],
             [
              0.2222222222222222,
              "#7201a8"
             ],
             [
              0.3333333333333333,
              "#9c179e"
             ],
             [
              0.4444444444444444,
              "#bd3786"
             ],
             [
              0.5555555555555556,
              "#d8576b"
             ],
             [
              0.6666666666666666,
              "#ed7953"
             ],
             [
              0.7777777777777778,
              "#fb9f3a"
             ],
             [
              0.8888888888888888,
              "#fdca26"
             ],
             [
              1,
              "#f0f921"
             ]
            ],
            "type": "surface"
           }
          ],
          "table": [
           {
            "cells": {
             "fill": {
              "color": "#EBF0F8"
             },
             "line": {
              "color": "white"
             }
            },
            "header": {
             "fill": {
              "color": "#C8D4E3"
             },
             "line": {
              "color": "white"
             }
            },
            "type": "table"
           }
          ]
         },
         "layout": {
          "annotationdefaults": {
           "arrowcolor": "#2a3f5f",
           "arrowhead": 0,
           "arrowwidth": 1
          },
          "autotypenumbers": "strict",
          "coloraxis": {
           "colorbar": {
            "outlinewidth": 0,
            "ticks": ""
           }
          },
          "colorscale": {
           "diverging": [
            [
             0,
             "#8e0152"
            ],
            [
             0.1,
             "#c51b7d"
            ],
            [
             0.2,
             "#de77ae"
            ],
            [
             0.3,
             "#f1b6da"
            ],
            [
             0.4,
             "#fde0ef"
            ],
            [
             0.5,
             "#f7f7f7"
            ],
            [
             0.6,
             "#e6f5d0"
            ],
            [
             0.7,
             "#b8e186"
            ],
            [
             0.8,
             "#7fbc41"
            ],
            [
             0.9,
             "#4d9221"
            ],
            [
             1,
             "#276419"
            ]
           ],
           "sequential": [
            [
             0,
             "#0d0887"
            ],
            [
             0.1111111111111111,
             "#46039f"
            ],
            [
             0.2222222222222222,
             "#7201a8"
            ],
            [
             0.3333333333333333,
             "#9c179e"
            ],
            [
             0.4444444444444444,
             "#bd3786"
            ],
            [
             0.5555555555555556,
             "#d8576b"
            ],
            [
             0.6666666666666666,
             "#ed7953"
            ],
            [
             0.7777777777777778,
             "#fb9f3a"
            ],
            [
             0.8888888888888888,
             "#fdca26"
            ],
            [
             1,
             "#f0f921"
            ]
           ],
           "sequentialminus": [
            [
             0,
             "#0d0887"
            ],
            [
             0.1111111111111111,
             "#46039f"
            ],
            [
             0.2222222222222222,
             "#7201a8"
            ],
            [
             0.3333333333333333,
             "#9c179e"
            ],
            [
             0.4444444444444444,
             "#bd3786"
            ],
            [
             0.5555555555555556,
             "#d8576b"
            ],
            [
             0.6666666666666666,
             "#ed7953"
            ],
            [
             0.7777777777777778,
             "#fb9f3a"
            ],
            [
             0.8888888888888888,
             "#fdca26"
            ],
            [
             1,
             "#f0f921"
            ]
           ]
          },
          "colorway": [
           "#636efa",
           "#EF553B",
           "#00cc96",
           "#ab63fa",
           "#FFA15A",
           "#19d3f3",
           "#FF6692",
           "#B6E880",
           "#FF97FF",
           "#FECB52"
          ],
          "font": {
           "color": "#2a3f5f"
          },
          "geo": {
           "bgcolor": "white",
           "lakecolor": "white",
           "landcolor": "#E5ECF6",
           "showlakes": true,
           "showland": true,
           "subunitcolor": "white"
          },
          "hoverlabel": {
           "align": "left"
          },
          "hovermode": "closest",
          "mapbox": {
           "style": "light"
          },
          "paper_bgcolor": "white",
          "plot_bgcolor": "#E5ECF6",
          "polar": {
           "angularaxis": {
            "gridcolor": "white",
            "linecolor": "white",
            "ticks": ""
           },
           "bgcolor": "#E5ECF6",
           "radialaxis": {
            "gridcolor": "white",
            "linecolor": "white",
            "ticks": ""
           }
          },
          "scene": {
           "xaxis": {
            "backgroundcolor": "#E5ECF6",
            "gridcolor": "white",
            "gridwidth": 2,
            "linecolor": "white",
            "showbackground": true,
            "ticks": "",
            "zerolinecolor": "white"
           },
           "yaxis": {
            "backgroundcolor": "#E5ECF6",
            "gridcolor": "white",
            "gridwidth": 2,
            "linecolor": "white",
            "showbackground": true,
            "ticks": "",
            "zerolinecolor": "white"
           },
           "zaxis": {
            "backgroundcolor": "#E5ECF6",
            "gridcolor": "white",
            "gridwidth": 2,
            "linecolor": "white",
            "showbackground": true,
            "ticks": "",
            "zerolinecolor": "white"
           }
          },
          "shapedefaults": {
           "line": {
            "color": "#2a3f5f"
           }
          },
          "ternary": {
           "aaxis": {
            "gridcolor": "white",
            "linecolor": "white",
            "ticks": ""
           },
           "baxis": {
            "gridcolor": "white",
            "linecolor": "white",
            "ticks": ""
           },
           "bgcolor": "#E5ECF6",
           "caxis": {
            "gridcolor": "white",
            "linecolor": "white",
            "ticks": ""
           }
          },
          "title": {
           "x": 0.05
          },
          "xaxis": {
           "automargin": true,
           "gridcolor": "white",
           "linecolor": "white",
           "ticks": "",
           "title": {
            "standoff": 15
           },
           "zerolinecolor": "white",
           "zerolinewidth": 2
          },
          "yaxis": {
           "automargin": true,
           "gridcolor": "white",
           "linecolor": "white",
           "ticks": "",
           "title": {
            "standoff": 15
           },
           "zerolinecolor": "white",
           "zerolinewidth": 2
          }
         }
        },
        "title": {
         "text": "Transaction Count by Category and Fraud"
        },
        "xaxis": {
         "anchor": "y",
         "domain": [
          0,
          1
         ],
         "tickangle": -45,
         "title": {
          "text": "category"
         }
        },
        "yaxis": {
         "anchor": "x",
         "domain": [
          0,
          1
         ],
         "title": {
          "text": "txn_count"
         }
        }
       }
      }
     },
     "metadata": {},
     "output_type": "display_data"
    }
   ],
   "source": [
    "from pyspark.sql.functions import col, when, hour, avg, count, expr\n",
    "import plotly.express as px\n",
    "\n",
    "# 1. Add time-related and fraud-label columns\n",
    "df = df_cleaned.withColumn(\"trans_hour\", hour(\"trans_date_trans_time_ts_formatted\")) \\\n",
    "               .withColumn(\"is_fraud_label\", when(col(\"is_fraud\") == 1, \"Fraud\").otherwise(\"Non-Fraud\"))\n",
    "\n",
    "# 3. Transaction Count by Category & Fraud\n",
    "category_stats = df.groupBy(\"category\", \"is_fraud_label\") \\\n",
    "                   .agg(count(\"*\").alias(\"txn_count\")) \\\n",
    "                   .orderBy(\"txn_count\", ascending=False)\n",
    "\n",
    "category_stats_pd = category_stats.pandas_api()\n",
    "category_stats_pd = category_stats_pd.to_pandas()\n",
    "\n",
    "# 2. Transaction Count by Category and Fraud\n",
    "fig2 = px.bar(category_stats_pd, x=\"category\", y=\"txn_count\", color=\"is_fraud_label\",\n",
    "              title=\"Transaction Count by Category and Fraud\", barmode=\"group\")\n",
    "fig2.update_layout(xaxis_tickangle=-45)\n",
    "fig2.show()\n",
    "\n",
    "# When showing Fraud transactions, we can see that grocery_pos and shopping_net often been hit. So, let's filter in to those categories only"
   ]
  },
  {
   "cell_type": "code",
   "execution_count": null,
   "id": "0d5ce7dc",
   "metadata": {},
   "outputs": [
    {
     "name": "stderr",
     "output_type": "stream",
     "text": [
      "c:\\Users\\uadrian\\AppData\\Local\\Programs\\Python\\Python310\\lib\\site-packages\\pyspark\\pandas\\utils.py:1037: PandasAPIOnSparkAdviceWarning:\n",
      "\n",
      "`to_pandas` loads all data into the driver's memory. It should only be used if the resulting pandas DataFrame is expected to be small.\n",
      "\n"
     ]
    },
    {
     "data": {
      "application/vnd.plotly.v1+json": {
       "config": {
        "plotlyServerURL": "https://plot.ly"
       },
       "data": [
        {
         "hovertemplate": "is_fraud_label=Fraud<br>trans_hour=%{x}<br>txn_count=%{y}<extra></extra>",
         "legendgroup": "Fraud",
         "line": {
          "color": "#636efa",
          "dash": "solid"
         },
         "marker": {
          "symbol": "circle"
         },
         "mode": "lines+markers",
         "name": "Fraud",
         "orientation": "v",
         "showlegend": true,
         "type": "scatter",
         "x": {
          "bdata": "AAAAAAEAAAACAAAAAwAAAAQAAAAFAAAABgAAAAcAAAAIAAAACQAAAAoAAAALAAAADAAAAA0AAAAOAAAADwAAABAAAAARAAAAEgAAABMAAAAUAAAAFQAAABYAAAAXAAAA",
          "dtype": "i4"
         },
         "xaxis": "x",
         "y": {
          "bdata": "HgAXABcCDAPFAWoBZwFOAZ0AHgAcABYAHwAYABcAGQAXABoAIwAjABwAHQAiAB4A",
          "dtype": "i2"
         },
         "yaxis": "y"
        },
        {
         "hovertemplate": "is_fraud_label=Non-Fraud<br>trans_hour=%{x}<br>txn_count=%{y}<extra></extra>",
         "legendgroup": "Non-Fraud",
         "line": {
          "color": "#EF553B",
          "dash": "solid"
         },
         "marker": {
          "symbol": "circle"
         },
         "mode": "lines+markers",
         "name": "Non-Fraud",
         "orientation": "v",
         "showlegend": true,
         "type": "scatter",
         "x": {
          "bdata": "AAAAAAEAAAACAAAAAwAAAAQAAAAFAAAABgAAAAcAAAAIAAAACQAAAAoAAAALAAAADAAAAA0AAAAOAAAADwAAABAAAAARAAAAEgAAABMAAAAUAAAAFQAAABYAAAAXAAAA",
          "dtype": "i4"
         },
         "xaxis": "x",
         "y": {
          "bdata": "LxITEgoStBIZKCk0CDVgNFw0qjQWNGw0EDXINAA0STTMHSgS5hJYEsQS4hKzEp8S",
          "dtype": "i2"
         },
         "yaxis": "y"
        }
       ],
       "layout": {
        "legend": {
         "title": {
          "text": "is_fraud_label"
         },
         "tracegroupgap": 0
        },
        "template": {
         "data": {
          "bar": [
           {
            "error_x": {
             "color": "#2a3f5f"
            },
            "error_y": {
             "color": "#2a3f5f"
            },
            "marker": {
             "line": {
              "color": "#E5ECF6",
              "width": 0.5
             },
             "pattern": {
              "fillmode": "overlay",
              "size": 10,
              "solidity": 0.2
             }
            },
            "type": "bar"
           }
          ],
          "barpolar": [
           {
            "marker": {
             "line": {
              "color": "#E5ECF6",
              "width": 0.5
             },
             "pattern": {
              "fillmode": "overlay",
              "size": 10,
              "solidity": 0.2
             }
            },
            "type": "barpolar"
           }
          ],
          "carpet": [
           {
            "aaxis": {
             "endlinecolor": "#2a3f5f",
             "gridcolor": "white",
             "linecolor": "white",
             "minorgridcolor": "white",
             "startlinecolor": "#2a3f5f"
            },
            "baxis": {
             "endlinecolor": "#2a3f5f",
             "gridcolor": "white",
             "linecolor": "white",
             "minorgridcolor": "white",
             "startlinecolor": "#2a3f5f"
            },
            "type": "carpet"
           }
          ],
          "choropleth": [
           {
            "colorbar": {
             "outlinewidth": 0,
             "ticks": ""
            },
            "type": "choropleth"
           }
          ],
          "contour": [
           {
            "colorbar": {
             "outlinewidth": 0,
             "ticks": ""
            },
            "colorscale": [
             [
              0,
              "#0d0887"
             ],
             [
              0.1111111111111111,
              "#46039f"
             ],
             [
              0.2222222222222222,
              "#7201a8"
             ],
             [
              0.3333333333333333,
              "#9c179e"
             ],
             [
              0.4444444444444444,
              "#bd3786"
             ],
             [
              0.5555555555555556,
              "#d8576b"
             ],
             [
              0.6666666666666666,
              "#ed7953"
             ],
             [
              0.7777777777777778,
              "#fb9f3a"
             ],
             [
              0.8888888888888888,
              "#fdca26"
             ],
             [
              1,
              "#f0f921"
             ]
            ],
            "type": "contour"
           }
          ],
          "contourcarpet": [
           {
            "colorbar": {
             "outlinewidth": 0,
             "ticks": ""
            },
            "type": "contourcarpet"
           }
          ],
          "heatmap": [
           {
            "colorbar": {
             "outlinewidth": 0,
             "ticks": ""
            },
            "colorscale": [
             [
              0,
              "#0d0887"
             ],
             [
              0.1111111111111111,
              "#46039f"
             ],
             [
              0.2222222222222222,
              "#7201a8"
             ],
             [
              0.3333333333333333,
              "#9c179e"
             ],
             [
              0.4444444444444444,
              "#bd3786"
             ],
             [
              0.5555555555555556,
              "#d8576b"
             ],
             [
              0.6666666666666666,
              "#ed7953"
             ],
             [
              0.7777777777777778,
              "#fb9f3a"
             ],
             [
              0.8888888888888888,
              "#fdca26"
             ],
             [
              1,
              "#f0f921"
             ]
            ],
            "type": "heatmap"
           }
          ],
          "histogram": [
           {
            "marker": {
             "pattern": {
              "fillmode": "overlay",
              "size": 10,
              "solidity": 0.2
             }
            },
            "type": "histogram"
           }
          ],
          "histogram2d": [
           {
            "colorbar": {
             "outlinewidth": 0,
             "ticks": ""
            },
            "colorscale": [
             [
              0,
              "#0d0887"
             ],
             [
              0.1111111111111111,
              "#46039f"
             ],
             [
              0.2222222222222222,
              "#7201a8"
             ],
             [
              0.3333333333333333,
              "#9c179e"
             ],
             [
              0.4444444444444444,
              "#bd3786"
             ],
             [
              0.5555555555555556,
              "#d8576b"
             ],
             [
              0.6666666666666666,
              "#ed7953"
             ],
             [
              0.7777777777777778,
              "#fb9f3a"
             ],
             [
              0.8888888888888888,
              "#fdca26"
             ],
             [
              1,
              "#f0f921"
             ]
            ],
            "type": "histogram2d"
           }
          ],
          "histogram2dcontour": [
           {
            "colorbar": {
             "outlinewidth": 0,
             "ticks": ""
            },
            "colorscale": [
             [
              0,
              "#0d0887"
             ],
             [
              0.1111111111111111,
              "#46039f"
             ],
             [
              0.2222222222222222,
              "#7201a8"
             ],
             [
              0.3333333333333333,
              "#9c179e"
             ],
             [
              0.4444444444444444,
              "#bd3786"
             ],
             [
              0.5555555555555556,
              "#d8576b"
             ],
             [
              0.6666666666666666,
              "#ed7953"
             ],
             [
              0.7777777777777778,
              "#fb9f3a"
             ],
             [
              0.8888888888888888,
              "#fdca26"
             ],
             [
              1,
              "#f0f921"
             ]
            ],
            "type": "histogram2dcontour"
           }
          ],
          "mesh3d": [
           {
            "colorbar": {
             "outlinewidth": 0,
             "ticks": ""
            },
            "type": "mesh3d"
           }
          ],
          "parcoords": [
           {
            "line": {
             "colorbar": {
              "outlinewidth": 0,
              "ticks": ""
             }
            },
            "type": "parcoords"
           }
          ],
          "pie": [
           {
            "automargin": true,
            "type": "pie"
           }
          ],
          "scatter": [
           {
            "fillpattern": {
             "fillmode": "overlay",
             "size": 10,
             "solidity": 0.2
            },
            "type": "scatter"
           }
          ],
          "scatter3d": [
           {
            "line": {
             "colorbar": {
              "outlinewidth": 0,
              "ticks": ""
             }
            },
            "marker": {
             "colorbar": {
              "outlinewidth": 0,
              "ticks": ""
             }
            },
            "type": "scatter3d"
           }
          ],
          "scattercarpet": [
           {
            "marker": {
             "colorbar": {
              "outlinewidth": 0,
              "ticks": ""
             }
            },
            "type": "scattercarpet"
           }
          ],
          "scattergeo": [
           {
            "marker": {
             "colorbar": {
              "outlinewidth": 0,
              "ticks": ""
             }
            },
            "type": "scattergeo"
           }
          ],
          "scattergl": [
           {
            "marker": {
             "colorbar": {
              "outlinewidth": 0,
              "ticks": ""
             }
            },
            "type": "scattergl"
           }
          ],
          "scattermap": [
           {
            "marker": {
             "colorbar": {
              "outlinewidth": 0,
              "ticks": ""
             }
            },
            "type": "scattermap"
           }
          ],
          "scattermapbox": [
           {
            "marker": {
             "colorbar": {
              "outlinewidth": 0,
              "ticks": ""
             }
            },
            "type": "scattermapbox"
           }
          ],
          "scatterpolar": [
           {
            "marker": {
             "colorbar": {
              "outlinewidth": 0,
              "ticks": ""
             }
            },
            "type": "scatterpolar"
           }
          ],
          "scatterpolargl": [
           {
            "marker": {
             "colorbar": {
              "outlinewidth": 0,
              "ticks": ""
             }
            },
            "type": "scatterpolargl"
           }
          ],
          "scatterternary": [
           {
            "marker": {
             "colorbar": {
              "outlinewidth": 0,
              "ticks": ""
             }
            },
            "type": "scatterternary"
           }
          ],
          "surface": [
           {
            "colorbar": {
             "outlinewidth": 0,
             "ticks": ""
            },
            "colorscale": [
             [
              0,
              "#0d0887"
             ],
             [
              0.1111111111111111,
              "#46039f"
             ],
             [
              0.2222222222222222,
              "#7201a8"
             ],
             [
              0.3333333333333333,
              "#9c179e"
             ],
             [
              0.4444444444444444,
              "#bd3786"
             ],
             [
              0.5555555555555556,
              "#d8576b"
             ],
             [
              0.6666666666666666,
              "#ed7953"
             ],
             [
              0.7777777777777778,
              "#fb9f3a"
             ],
             [
              0.8888888888888888,
              "#fdca26"
             ],
             [
              1,
              "#f0f921"
             ]
            ],
            "type": "surface"
           }
          ],
          "table": [
           {
            "cells": {
             "fill": {
              "color": "#EBF0F8"
             },
             "line": {
              "color": "white"
             }
            },
            "header": {
             "fill": {
              "color": "#C8D4E3"
             },
             "line": {
              "color": "white"
             }
            },
            "type": "table"
           }
          ]
         },
         "layout": {
          "annotationdefaults": {
           "arrowcolor": "#2a3f5f",
           "arrowhead": 0,
           "arrowwidth": 1
          },
          "autotypenumbers": "strict",
          "coloraxis": {
           "colorbar": {
            "outlinewidth": 0,
            "ticks": ""
           }
          },
          "colorscale": {
           "diverging": [
            [
             0,
             "#8e0152"
            ],
            [
             0.1,
             "#c51b7d"
            ],
            [
             0.2,
             "#de77ae"
            ],
            [
             0.3,
             "#f1b6da"
            ],
            [
             0.4,
             "#fde0ef"
            ],
            [
             0.5,
             "#f7f7f7"
            ],
            [
             0.6,
             "#e6f5d0"
            ],
            [
             0.7,
             "#b8e186"
            ],
            [
             0.8,
             "#7fbc41"
            ],
            [
             0.9,
             "#4d9221"
            ],
            [
             1,
             "#276419"
            ]
           ],
           "sequential": [
            [
             0,
             "#0d0887"
            ],
            [
             0.1111111111111111,
             "#46039f"
            ],
            [
             0.2222222222222222,
             "#7201a8"
            ],
            [
             0.3333333333333333,
             "#9c179e"
            ],
            [
             0.4444444444444444,
             "#bd3786"
            ],
            [
             0.5555555555555556,
             "#d8576b"
            ],
            [
             0.6666666666666666,
             "#ed7953"
            ],
            [
             0.7777777777777778,
             "#fb9f3a"
            ],
            [
             0.8888888888888888,
             "#fdca26"
            ],
            [
             1,
             "#f0f921"
            ]
           ],
           "sequentialminus": [
            [
             0,
             "#0d0887"
            ],
            [
             0.1111111111111111,
             "#46039f"
            ],
            [
             0.2222222222222222,
             "#7201a8"
            ],
            [
             0.3333333333333333,
             "#9c179e"
            ],
            [
             0.4444444444444444,
             "#bd3786"
            ],
            [
             0.5555555555555556,
             "#d8576b"
            ],
            [
             0.6666666666666666,
             "#ed7953"
            ],
            [
             0.7777777777777778,
             "#fb9f3a"
            ],
            [
             0.8888888888888888,
             "#fdca26"
            ],
            [
             1,
             "#f0f921"
            ]
           ]
          },
          "colorway": [
           "#636efa",
           "#EF553B",
           "#00cc96",
           "#ab63fa",
           "#FFA15A",
           "#19d3f3",
           "#FF6692",
           "#B6E880",
           "#FF97FF",
           "#FECB52"
          ],
          "font": {
           "color": "#2a3f5f"
          },
          "geo": {
           "bgcolor": "white",
           "lakecolor": "white",
           "landcolor": "#E5ECF6",
           "showlakes": true,
           "showland": true,
           "subunitcolor": "white"
          },
          "hoverlabel": {
           "align": "left"
          },
          "hovermode": "closest",
          "mapbox": {
           "style": "light"
          },
          "paper_bgcolor": "white",
          "plot_bgcolor": "#E5ECF6",
          "polar": {
           "angularaxis": {
            "gridcolor": "white",
            "linecolor": "white",
            "ticks": ""
           },
           "bgcolor": "#E5ECF6",
           "radialaxis": {
            "gridcolor": "white",
            "linecolor": "white",
            "ticks": ""
           }
          },
          "scene": {
           "xaxis": {
            "backgroundcolor": "#E5ECF6",
            "gridcolor": "white",
            "gridwidth": 2,
            "linecolor": "white",
            "showbackground": true,
            "ticks": "",
            "zerolinecolor": "white"
           },
           "yaxis": {
            "backgroundcolor": "#E5ECF6",
            "gridcolor": "white",
            "gridwidth": 2,
            "linecolor": "white",
            "showbackground": true,
            "ticks": "",
            "zerolinecolor": "white"
           },
           "zaxis": {
            "backgroundcolor": "#E5ECF6",
            "gridcolor": "white",
            "gridwidth": 2,
            "linecolor": "white",
            "showbackground": true,
            "ticks": "",
            "zerolinecolor": "white"
           }
          },
          "shapedefaults": {
           "line": {
            "color": "#2a3f5f"
           }
          },
          "ternary": {
           "aaxis": {
            "gridcolor": "white",
            "linecolor": "white",
            "ticks": ""
           },
           "baxis": {
            "gridcolor": "white",
            "linecolor": "white",
            "ticks": ""
           },
           "bgcolor": "#E5ECF6",
           "caxis": {
            "gridcolor": "white",
            "linecolor": "white",
            "ticks": ""
           }
          },
          "title": {
           "x": 0.05
          },
          "xaxis": {
           "automargin": true,
           "gridcolor": "white",
           "linecolor": "white",
           "ticks": "",
           "title": {
            "standoff": 15
           },
           "zerolinecolor": "white",
           "zerolinewidth": 2
          },
          "yaxis": {
           "automargin": true,
           "gridcolor": "white",
           "linecolor": "white",
           "ticks": "",
           "title": {
            "standoff": 15
           },
           "zerolinecolor": "white",
           "zerolinewidth": 2
          }
         }
        },
        "title": {
         "text": "Hourly Transaction Volume (Filtered: Grocery POS & Shopping Net)"
        },
        "xaxis": {
         "anchor": "y",
         "domain": [
          0,
          1
         ],
         "dtick": 1,
         "title": {
          "text": "trans_hour"
         }
        },
        "yaxis": {
         "anchor": "x",
         "domain": [
          0,
          1
         ],
         "title": {
          "text": "txn_count"
         }
        }
       }
      }
     },
     "metadata": {},
     "output_type": "display_data"
    }
   ],
   "source": [
    "from pyspark.sql.functions import col, count\n",
    "\n",
    "# 1. Filter to relevant merchant categories before aggregation\n",
    "filtered_df = df.filter(col(\"category\").isin(\"grocery_pos\", \"shopping_net\"))\n",
    "\n",
    "# 2. Group by transaction hour and fraud label\n",
    "hourly_stats = filtered_df.groupBy(\"trans_hour\", \"is_fraud_label\") \\\n",
    "                          .agg(count(\"*\").alias(\"txn_count\")) \\\n",
    "                          .orderBy(\"trans_hour\", \"is_fraud_label\")\n",
    "\n",
    "# 3. Convert to pandas for visualization\n",
    "hourly_stats_pd = hourly_stats.pandas_api().to_pandas()\n",
    "\n",
    "# 4. Plot using Plotly\n",
    "import plotly.express as px\n",
    "\n",
    "fig3 = px.line(hourly_stats_pd, \n",
    "               x=\"trans_hour\", \n",
    "               y=\"txn_count\", \n",
    "               color=\"is_fraud_label\",\n",
    "               title=\"Hourly Transaction Volume (Filtered: Grocery POS & Shopping Net)\",\n",
    "               markers=True)\n",
    "\n",
    "fig3.update_layout(xaxis=dict(dtick=1))\n",
    "fig3.show()\n",
    "\n",
    "# From here, we can see that a spike of frauds happening between 2AM - 7AM with 3AM at its peak. \n",
    "# Human monitoring/alertness may be low as this time of the day is usually when people go to sleep. \n",
    "# People naturally pay lesser attention at this time of day"
   ]
  },
  {
   "cell_type": "code",
   "execution_count": null,
   "id": "fc240c39",
   "metadata": {},
   "outputs": [
    {
     "data": {
      "application/vnd.plotly.v1+json": {
       "config": {
        "plotlyServerURL": "https://plot.ly"
       },
       "data": [
        {
         "geo": "geo",
         "hovertemplate": "state=Unknown<br>txn_count=%{marker.size}<br>merch_zipcode=%{text}<br>latitude=%{lat}<br>longitude=%{lon}<extra></extra>",
         "lat": {
          "bdata": "yvyjb9KxQ0DggJauYI1FQKeyKOyiokNAJQfsavKWQkCezU8WY11IQGMZLOYxUERA5MNHH05mQEDHbCRke8REQN++s+LAFERA",
          "dtype": "f8"
         },
         "legendgroup": "Unknown",
         "lon": {
          "bdata": "F12DY7vMVMAbLJyk+eJewCe8BKc+jVbAp/9RQH9rVsBlrfyNUatdwAjRtYpZe1XAU2eklMZ8VMA6RDdWvchUwJpw+Vl2Y1TA",
          "dtype": "f8"
         },
         "marker": {
          "color": "#636efa",
          "size": {
           "bdata": "XAAnADwAOwBHAEgAwwCoAMEA",
           "dtype": "i2"
          },
          "sizemode": "area",
          "sizeref": 0.4875,
          "symbol": "circle"
         },
         "mode": "markers+text",
         "name": "Unknown",
         "showlegend": true,
         "text": [
          "45628",
          "97481",
          "62081",
          "63740",
          "99166",
          "46911",
          "30442",
          "43449",
          "43749"
         ],
         "type": "scattergeo"
        }
       ],
       "layout": {
        "geo": {
         "center": {},
         "domain": {
          "x": [
           0,
           1
          ],
          "y": [
           0,
           1
          ]
         },
         "projection": {
          "type": "albers usa"
         },
         "scope": "usa"
        },
        "legend": {
         "itemsizing": "constant",
         "title": {
          "text": "State"
         },
         "tracegroupgap": 0
        },
        "template": {
         "data": {
          "bar": [
           {
            "error_x": {
             "color": "#2a3f5f"
            },
            "error_y": {
             "color": "#2a3f5f"
            },
            "marker": {
             "line": {
              "color": "#E5ECF6",
              "width": 0.5
             },
             "pattern": {
              "fillmode": "overlay",
              "size": 10,
              "solidity": 0.2
             }
            },
            "type": "bar"
           }
          ],
          "barpolar": [
           {
            "marker": {
             "line": {
              "color": "#E5ECF6",
              "width": 0.5
             },
             "pattern": {
              "fillmode": "overlay",
              "size": 10,
              "solidity": 0.2
             }
            },
            "type": "barpolar"
           }
          ],
          "carpet": [
           {
            "aaxis": {
             "endlinecolor": "#2a3f5f",
             "gridcolor": "white",
             "linecolor": "white",
             "minorgridcolor": "white",
             "startlinecolor": "#2a3f5f"
            },
            "baxis": {
             "endlinecolor": "#2a3f5f",
             "gridcolor": "white",
             "linecolor": "white",
             "minorgridcolor": "white",
             "startlinecolor": "#2a3f5f"
            },
            "type": "carpet"
           }
          ],
          "choropleth": [
           {
            "colorbar": {
             "outlinewidth": 0,
             "ticks": ""
            },
            "type": "choropleth"
           }
          ],
          "contour": [
           {
            "colorbar": {
             "outlinewidth": 0,
             "ticks": ""
            },
            "colorscale": [
             [
              0,
              "#0d0887"
             ],
             [
              0.1111111111111111,
              "#46039f"
             ],
             [
              0.2222222222222222,
              "#7201a8"
             ],
             [
              0.3333333333333333,
              "#9c179e"
             ],
             [
              0.4444444444444444,
              "#bd3786"
             ],
             [
              0.5555555555555556,
              "#d8576b"
             ],
             [
              0.6666666666666666,
              "#ed7953"
             ],
             [
              0.7777777777777778,
              "#fb9f3a"
             ],
             [
              0.8888888888888888,
              "#fdca26"
             ],
             [
              1,
              "#f0f921"
             ]
            ],
            "type": "contour"
           }
          ],
          "contourcarpet": [
           {
            "colorbar": {
             "outlinewidth": 0,
             "ticks": ""
            },
            "type": "contourcarpet"
           }
          ],
          "heatmap": [
           {
            "colorbar": {
             "outlinewidth": 0,
             "ticks": ""
            },
            "colorscale": [
             [
              0,
              "#0d0887"
             ],
             [
              0.1111111111111111,
              "#46039f"
             ],
             [
              0.2222222222222222,
              "#7201a8"
             ],
             [
              0.3333333333333333,
              "#9c179e"
             ],
             [
              0.4444444444444444,
              "#bd3786"
             ],
             [
              0.5555555555555556,
              "#d8576b"
             ],
             [
              0.6666666666666666,
              "#ed7953"
             ],
             [
              0.7777777777777778,
              "#fb9f3a"
             ],
             [
              0.8888888888888888,
              "#fdca26"
             ],
             [
              1,
              "#f0f921"
             ]
            ],
            "type": "heatmap"
           }
          ],
          "histogram": [
           {
            "marker": {
             "pattern": {
              "fillmode": "overlay",
              "size": 10,
              "solidity": 0.2
             }
            },
            "type": "histogram"
           }
          ],
          "histogram2d": [
           {
            "colorbar": {
             "outlinewidth": 0,
             "ticks": ""
            },
            "colorscale": [
             [
              0,
              "#0d0887"
             ],
             [
              0.1111111111111111,
              "#46039f"
             ],
             [
              0.2222222222222222,
              "#7201a8"
             ],
             [
              0.3333333333333333,
              "#9c179e"
             ],
             [
              0.4444444444444444,
              "#bd3786"
             ],
             [
              0.5555555555555556,
              "#d8576b"
             ],
             [
              0.6666666666666666,
              "#ed7953"
             ],
             [
              0.7777777777777778,
              "#fb9f3a"
             ],
             [
              0.8888888888888888,
              "#fdca26"
             ],
             [
              1,
              "#f0f921"
             ]
            ],
            "type": "histogram2d"
           }
          ],
          "histogram2dcontour": [
           {
            "colorbar": {
             "outlinewidth": 0,
             "ticks": ""
            },
            "colorscale": [
             [
              0,
              "#0d0887"
             ],
             [
              0.1111111111111111,
              "#46039f"
             ],
             [
              0.2222222222222222,
              "#7201a8"
             ],
             [
              0.3333333333333333,
              "#9c179e"
             ],
             [
              0.4444444444444444,
              "#bd3786"
             ],
             [
              0.5555555555555556,
              "#d8576b"
             ],
             [
              0.6666666666666666,
              "#ed7953"
             ],
             [
              0.7777777777777778,
              "#fb9f3a"
             ],
             [
              0.8888888888888888,
              "#fdca26"
             ],
             [
              1,
              "#f0f921"
             ]
            ],
            "type": "histogram2dcontour"
           }
          ],
          "mesh3d": [
           {
            "colorbar": {
             "outlinewidth": 0,
             "ticks": ""
            },
            "type": "mesh3d"
           }
          ],
          "parcoords": [
           {
            "line": {
             "colorbar": {
              "outlinewidth": 0,
              "ticks": ""
             }
            },
            "type": "parcoords"
           }
          ],
          "pie": [
           {
            "automargin": true,
            "type": "pie"
           }
          ],
          "scatter": [
           {
            "fillpattern": {
             "fillmode": "overlay",
             "size": 10,
             "solidity": 0.2
            },
            "type": "scatter"
           }
          ],
          "scatter3d": [
           {
            "line": {
             "colorbar": {
              "outlinewidth": 0,
              "ticks": ""
             }
            },
            "marker": {
             "colorbar": {
              "outlinewidth": 0,
              "ticks": ""
             }
            },
            "type": "scatter3d"
           }
          ],
          "scattercarpet": [
           {
            "marker": {
             "colorbar": {
              "outlinewidth": 0,
              "ticks": ""
             }
            },
            "type": "scattercarpet"
           }
          ],
          "scattergeo": [
           {
            "marker": {
             "colorbar": {
              "outlinewidth": 0,
              "ticks": ""
             }
            },
            "type": "scattergeo"
           }
          ],
          "scattergl": [
           {
            "marker": {
             "colorbar": {
              "outlinewidth": 0,
              "ticks": ""
             }
            },
            "type": "scattergl"
           }
          ],
          "scattermap": [
           {
            "marker": {
             "colorbar": {
              "outlinewidth": 0,
              "ticks": ""
             }
            },
            "type": "scattermap"
           }
          ],
          "scattermapbox": [
           {
            "marker": {
             "colorbar": {
              "outlinewidth": 0,
              "ticks": ""
             }
            },
            "type": "scattermapbox"
           }
          ],
          "scatterpolar": [
           {
            "marker": {
             "colorbar": {
              "outlinewidth": 0,
              "ticks": ""
             }
            },
            "type": "scatterpolar"
           }
          ],
          "scatterpolargl": [
           {
            "marker": {
             "colorbar": {
              "outlinewidth": 0,
              "ticks": ""
             }
            },
            "type": "scatterpolargl"
           }
          ],
          "scatterternary": [
           {
            "marker": {
             "colorbar": {
              "outlinewidth": 0,
              "ticks": ""
             }
            },
            "type": "scatterternary"
           }
          ],
          "surface": [
           {
            "colorbar": {
             "outlinewidth": 0,
             "ticks": ""
            },
            "colorscale": [
             [
              0,
              "#0d0887"
             ],
             [
              0.1111111111111111,
              "#46039f"
             ],
             [
              0.2222222222222222,
              "#7201a8"
             ],
             [
              0.3333333333333333,
              "#9c179e"
             ],
             [
              0.4444444444444444,
              "#bd3786"
             ],
             [
              0.5555555555555556,
              "#d8576b"
             ],
             [
              0.6666666666666666,
              "#ed7953"
             ],
             [
              0.7777777777777778,
              "#fb9f3a"
             ],
             [
              0.8888888888888888,
              "#fdca26"
             ],
             [
              1,
              "#f0f921"
             ]
            ],
            "type": "surface"
           }
          ],
          "table": [
           {
            "cells": {
             "fill": {
              "color": "#EBF0F8"
             },
             "line": {
              "color": "white"
             }
            },
            "header": {
             "fill": {
              "color": "#C8D4E3"
             },
             "line": {
              "color": "white"
             }
            },
            "type": "table"
           }
          ]
         },
         "layout": {
          "annotationdefaults": {
           "arrowcolor": "#2a3f5f",
           "arrowhead": 0,
           "arrowwidth": 1
          },
          "autotypenumbers": "strict",
          "coloraxis": {
           "colorbar": {
            "outlinewidth": 0,
            "ticks": ""
           }
          },
          "colorscale": {
           "diverging": [
            [
             0,
             "#8e0152"
            ],
            [
             0.1,
             "#c51b7d"
            ],
            [
             0.2,
             "#de77ae"
            ],
            [
             0.3,
             "#f1b6da"
            ],
            [
             0.4,
             "#fde0ef"
            ],
            [
             0.5,
             "#f7f7f7"
            ],
            [
             0.6,
             "#e6f5d0"
            ],
            [
             0.7,
             "#b8e186"
            ],
            [
             0.8,
             "#7fbc41"
            ],
            [
             0.9,
             "#4d9221"
            ],
            [
             1,
             "#276419"
            ]
           ],
           "sequential": [
            [
             0,
             "#0d0887"
            ],
            [
             0.1111111111111111,
             "#46039f"
            ],
            [
             0.2222222222222222,
             "#7201a8"
            ],
            [
             0.3333333333333333,
             "#9c179e"
            ],
            [
             0.4444444444444444,
             "#bd3786"
            ],
            [
             0.5555555555555556,
             "#d8576b"
            ],
            [
             0.6666666666666666,
             "#ed7953"
            ],
            [
             0.7777777777777778,
             "#fb9f3a"
            ],
            [
             0.8888888888888888,
             "#fdca26"
            ],
            [
             1,
             "#f0f921"
            ]
           ],
           "sequentialminus": [
            [
             0,
             "#0d0887"
            ],
            [
             0.1111111111111111,
             "#46039f"
            ],
            [
             0.2222222222222222,
             "#7201a8"
            ],
            [
             0.3333333333333333,
             "#9c179e"
            ],
            [
             0.4444444444444444,
             "#bd3786"
            ],
            [
             0.5555555555555556,
             "#d8576b"
            ],
            [
             0.6666666666666666,
             "#ed7953"
            ],
            [
             0.7777777777777778,
             "#fb9f3a"
            ],
            [
             0.8888888888888888,
             "#fdca26"
            ],
            [
             1,
             "#f0f921"
            ]
           ]
          },
          "colorway": [
           "#636efa",
           "#EF553B",
           "#00cc96",
           "#ab63fa",
           "#FFA15A",
           "#19d3f3",
           "#FF6692",
           "#B6E880",
           "#FF97FF",
           "#FECB52"
          ],
          "font": {
           "color": "#2a3f5f"
          },
          "geo": {
           "bgcolor": "white",
           "lakecolor": "white",
           "landcolor": "#E5ECF6",
           "showlakes": true,
           "showland": true,
           "subunitcolor": "white"
          },
          "hoverlabel": {
           "align": "left"
          },
          "hovermode": "closest",
          "mapbox": {
           "style": "light"
          },
          "paper_bgcolor": "white",
          "plot_bgcolor": "#E5ECF6",
          "polar": {
           "angularaxis": {
            "gridcolor": "white",
            "linecolor": "white",
            "ticks": ""
           },
           "bgcolor": "#E5ECF6",
           "radialaxis": {
            "gridcolor": "white",
            "linecolor": "white",
            "ticks": ""
           }
          },
          "scene": {
           "xaxis": {
            "backgroundcolor": "#E5ECF6",
            "gridcolor": "white",
            "gridwidth": 2,
            "linecolor": "white",
            "showbackground": true,
            "ticks": "",
            "zerolinecolor": "white"
           },
           "yaxis": {
            "backgroundcolor": "#E5ECF6",
            "gridcolor": "white",
            "gridwidth": 2,
            "linecolor": "white",
            "showbackground": true,
            "ticks": "",
            "zerolinecolor": "white"
           },
           "zaxis": {
            "backgroundcolor": "#E5ECF6",
            "gridcolor": "white",
            "gridwidth": 2,
            "linecolor": "white",
            "showbackground": true,
            "ticks": "",
            "zerolinecolor": "white"
           }
          },
          "shapedefaults": {
           "line": {
            "color": "#2a3f5f"
           }
          },
          "ternary": {
           "aaxis": {
            "gridcolor": "white",
            "linecolor": "white",
            "ticks": ""
           },
           "baxis": {
            "gridcolor": "white",
            "linecolor": "white",
            "ticks": ""
           },
           "bgcolor": "#E5ECF6",
           "caxis": {
            "gridcolor": "white",
            "linecolor": "white",
            "ticks": ""
           }
          },
          "title": {
           "x": 0.05
          },
          "xaxis": {
           "automargin": true,
           "gridcolor": "white",
           "linecolor": "white",
           "ticks": "",
           "title": {
            "standoff": 15
           },
           "zerolinecolor": "white",
           "zerolinewidth": 2
          },
          "yaxis": {
           "automargin": true,
           "gridcolor": "white",
           "linecolor": "white",
           "ticks": "",
           "title": {
            "standoff": 15
           },
           "zerolinecolor": "white",
           "zerolinewidth": 2
          }
         }
        },
        "title": {
         "text": "Top 10 Fraud Merchant Zipcodes on US Map"
        }
       }
      }
     },
     "metadata": {},
     "output_type": "display_data"
    }
   ],
   "source": [
    "import pandas as pd\n",
    "import plotly.express as px\n",
    "from geopy.geocoders import Nominatim\n",
    "from geopy.extra.rate_limiter import RateLimiter\n",
    "\n",
    "# Geocode the zipcodes\n",
    "geolocator = Nominatim(user_agent=\"geoapi\")\n",
    "geocode = RateLimiter(geolocator.geocode, min_delay_seconds=1)\n",
    "reverse = RateLimiter(geolocator.reverse, min_delay_seconds=1)\n",
    "\n",
    "zipcode_df = pd.DataFrame(top_zipcodes_list, columns=[\"merch_zipcode\"])\n",
    "zipcode_df[\"merch_zipcode\"] = zipcode_df[\"merch_zipcode\"].astype(str)\n",
    "zipcode_df[\"location\"] = zipcode_df[\"merch_zipcode\"].apply(lambda x: geolocator.geocode({\"postalcode\": x, \"country\": \"USA\"}))\n",
    "\n",
    "# Filter out None\n",
    "zipcode_df = zipcode_df[zipcode_df[\"location\"].notnull()]\n",
    "\n",
    "# Extract lat/lon and state\n",
    "zipcode_df[\"latitude\"] = zipcode_df[\"location\"].apply(lambda loc: loc.latitude)\n",
    "zipcode_df[\"longitude\"] = zipcode_df[\"location\"].apply(lambda loc: loc.longitude)\n",
    "zipcode_df[\"state\"] = zipcode_df[\"location\"].apply(lambda loc: loc.raw.get(\"address\", {}).get(\"state\", \"Unknown\"))\n",
    "\n",
    "# Merge with fraud counts\n",
    "zipcode_counts = zipcode_stats_pd.groupby(\"merch_zipcode\")[\"txn_count\"].sum().reset_index()\n",
    "zipcode_df = zipcode_df.merge(zipcode_counts, on=\"merch_zipcode\", how=\"left\")\n",
    "\n",
    "# Plot\n",
    "fig = px.scatter_geo(zipcode_df,\n",
    "                     lat=\"latitude\",\n",
    "                     lon=\"longitude\",\n",
    "                     text=\"merch_zipcode\",\n",
    "                     color=\"state\",\n",
    "                     size=\"txn_count\",\n",
    "                     title=\"Top 10 Fraud Merchant Zipcodes on US Map\",\n",
    "                     scope=\"usa\",\n",
    "                     projection=\"albers usa\")\n",
    "\n",
    "fig.update_layout(legend_title_text='State')\n",
    "fig.show()\n",
    "\n",
    "# additional insights, top 10 frauds happens mostly at states in mid-west regions"
   ]
  },
  {
   "cell_type": "markdown",
   "id": "b044f5b0",
   "metadata": {},
   "source": [
    "PII DATA Handlings"
   ]
  },
  {
   "cell_type": "code",
   "execution_count": null,
   "id": "4a855a36",
   "metadata": {},
   "outputs": [
    {
     "name": "stdout",
     "output_type": "stream",
     "text": [
      "+------+-------------+-----------+-------------------+--------+------------------+------------------+-------------+----------------------------------------+------+---------+-------------+----------------------------------------------------------------+------------------------+-----+-----+----------------------------------+---------------------------------+-----------------------------------------+\n",
      "|amt   |category     |cc_bic     |cc_num_masked      |is_fraud|merch_lat         |merch_long        |merch_zipcode|merchant                                |gender|age_group|name_initials|trans_num_hash                                                  |city                    |state|zip  |trans_date_trans_time_ts_formatted|merch_eff_time_fixed_ts_formatted|merch_last_update_time_fixed_ts_formatted|\n",
      "+------+-------------+-----------+-------------------+--------+------------------+------------------+-------------+----------------------------------------+------+---------+-------------+----------------------------------------------------------------+------------------------+-----+-----+----------------------------------+---------------------------------+-----------------------------------------+\n",
      "|4.97  |misc_net     |CITIUS33CHI|XXXX-XXXX-XXXX-2095|0       |36.011293         |-82.048315        |28705        |fraud_Rippin, Kub and Mann              |F     |30-39    |JB           |d11f0b110a676dca672f06e1b4331293f34bad4787d3cd678918de9ae42d8c27|Moravian Falls          |NC   |28654|2019-01-01 05:00:18.000000 +08:00 |2019-01-01 05:00:18.798532 +08:00|2019-01-01 05:00:18.666000 +08:00        |\n",
      "|107.23|grocery_pos  |ADMDUS41   |XXXX-XXXX-XXXX-7322|0       |49.159046999999994|-118.186462       |NULL         |fraud_Heller, Gutmann and Zieme         |F     |40-49    |SG           |00861bc278de220dd319500c2f0a5ecd39f6cf81e4232fc0f7444d83d6d2ec2b|Orient                  |WA   |99160|2019-01-01 05:00:44.000000 +08:00 |2019-01-01 05:00:44.867960 +08:00|2019-01-01 05:00:44.790000 +08:00        |\n",
      "|220.11|entertainment|Null       |XXXX-XXXX-XXXX-7661|0       |43.150704         |-112.154481       |83236        |fraud_Lind-Buckridge                    |M     |60+      |ES           |94399d0af3f2bd98e540c44fd65b53d4a5a112cb4b3274025a8b5565575dada9|Malad City              |ID   |83252|2019-01-01 05:00:51.000000 +08:00 |2019-01-01 05:00:51.506840 +08:00|2019-01-01 05:00:51.286000 +08:00        |\n",
      "|45.0  |gas_transport|DEUTUS33TRF|XXXX-XXXX-XXXX-0240|0       |47.034331         |-112.561071       |NULL         |fraud_Kutch, Hermiston and Farrell      |M     |50-59    |JW           |04a1d26d9fa39c02a073cd3f59053399de73da2f98a4891947ead4b4e5bd886d|Boulder                 |MT   |59632|2019-01-01 05:01:16.000000 +08:00 |2019-01-01 05:01:16.794698 +08:00|2019-01-01 05:01:16.365000 +08:00        |\n",
      "|41.96 |misc_pos     |APBCUS61   |XXXX-XXXX-XXXX-3984|0       |38.674999         |-78.632459        |22844        |fraud_Keeling-Crist                     |M     |30-39    |TG           |3781bf2b8e8707de32ed85d8330b079de9a09f38f35c1f81829eec48e2105423|Doe Hill                |VA   |24433|2019-01-01 05:03:06.000000 +08:00 |2019-01-01 05:03:06.746376 +08:00|2019-01-01 05:03:06.810000 +08:00        |\n",
      "|94.63 |gas_transport|APBCUS61   |XXXX-XXXX-XXXX-4500|0       |40.653382         |-76.15266700000001|17972        |fraud_Stroman, Hudson and Erdman        |F     |60+      |JC           |f9fe137ce70722fa98196772d216a1ca01c5447f1cbb304feecb264dffed5b84|Dublin                  |PA   |18917|2019-01-01 05:04:08.000000 +08:00 |2019-01-01 05:04:08.271406 +08:00|2019-01-01 05:04:08.483000 +08:00        |\n",
      "|44.54 |grocery_net  |APBCUS61   |XXXX-XXXX-XXXX-0476|0       |37.162704999999995|-100.15337        |NULL         |fraud_Rowe-Vandervort                   |F     |30-39    |KR           |ee9e9a1be0d95b359a42f120b7b0f6ff5c3197532414ded07b4494bc973b7feb|Holcomb                 |KS   |67851|2019-01-01 05:04:42.000000 +08:00 |2019-01-01 05:04:42.274130 +08:00|2019-01-01 05:04:42.247000 +08:00        |\n",
      "|71.65 |gas_transport|NA         |XXXX-XXXX-XXXX-5864|0       |38.948089         |-78.540296        |22644        |fraud_Corwin-Collins                    |M     |60+      |SW           |705b686a64c739c960df6883f9cadf7dbdd69ca5bae5a5df26bfc39baac0e00f|Edinburg                |VA   |22824|2019-01-01 05:05:08.000000 +08:00 |2019-01-01 05:05:08.837349 +08:00|2019-01-01 05:05:08.152000 +08:00        |\n",
      "|4.27  |misc_pos     |ACEEUS31   |XXXX-XXXX-XXXX-1201|0       |40.351813         |-79.958146        |15236        |fraud_Herzog Ltd                        |F     |60+      |HC           |ecbd237eb99342e409605733db9ebbbd3bc36eed0c6fe50e2a8ad4aa448bf62d|Manor                   |PA   |15665|2019-01-01 05:05:18.000000 +08:00 |2019-01-01 05:05:18.245892 +08:00|2019-01-01 05:05:18.278000 +08:00        |\n",
      "|198.39|grocery_pos  |DEUTUS33TRF|XXXX-XXXX-XXXX-1674|0       |37.179198         |-87.485381        |42442        |fraud_Schoen, Kuphal and Nitzsche       |F     |50-59    |MA           |6ce5284c05375b8c3b5475f884067885dc5c97bcdf7f03316492ab827a5e417e|Clarksville             |TN   |37040|2019-01-01 05:06:01.000000 +08:00 |2019-01-01 05:06:01.965234 +08:00|2019-01-01 05:06:01.857000 +08:00        |\n",
      "|24.74 |grocery_pos  |           |XXXX-XXXX-XXXX-0163|0       |40.275890999999994|-96.011548        |68348        |fraud_Rutherford-Mertz                  |M     |30-39    |EM           |92b295e7552c42a3a3f1dbbbf7e358adf2ebfdfc29b9da6cabb322bae2a2f2e9|Clarinda                |IA   |51632|2019-01-01 05:06:23.000000 +08:00 |2019-01-01 05:06:23.967287 +08:00|2019-01-01 05:06:23.455000 +08:00        |\n",
      "|7.77  |shopping_net |DEUTUS33TRF|XXXX-XXXX-XXXX-3447|0       |40.103866         |-78.624459        |15554        |fraud_Kerluke-Abshire                   |F     |50-59    |TB           |f5ec15cfb8b8d08f51c53c3e7130bfa390b074b71b12e26f30862d8f4cf010b0|Shenandoah Junction     |WV   |25442|2019-01-01 05:06:53.000000 +08:00 |2019-01-01 05:06:53.912233 +08:00|2019-01-01 05:06:53.859000 +08:00        |\n",
      "|71.22 |grocery_pos  |DEUTUS33TRF|XXXX-XXXX-XXXX-1150|0       |27.630593         |-82.308891        |33598        |fraud_Lockman Ltd                       |M     |30-39    |CR           |e2b32ff8fd38e9e59203b709ecdf147abc2ba6534d90077bd4404882b7897574|Saint Petersburg        |FL   |33710|2019-01-01 05:06:56.000000 +08:00 |2019-01-01 05:06:56.569264 +08:00|2019-01-01 05:06:56.443000 +08:00        |\n",
      "|96.29 |grocery_pos  |ACEEUS31   |XXXX-XXXX-XXXX-5248|0       |41.65752          |-122.230347       |NULL         |fraud_Kiehn Inc                         |M     |60+      |JH           |8af0aa2e6f9cdbf1532ba878ddae660535d9813d80a3588a7eeba3b9e7a534ee|Grenada                 |CA   |96038|2019-01-01 05:07:27.000000 +08:00 |2019-01-01 05:07:27.442465 +08:00|2019-01-01 05:07:27.771000 +08:00        |\n",
      "|7.77  |shopping_pos |ACEEUS31   |XXXX-XXXX-XXXX-4695|0       |32.863258         |-106.520205       |NULL         |fraud_Beier-Hyatt                       |M     |50-59    |CC           |13ce18374cf54db9c795de3efbdea3807a9241dc65011ae149689155fce80472|High Rolls Mountain Park|NM   |88325|2019-01-01 05:09:03.000000 +08:00 |2019-01-01 05:09:03.991530 +08:00|2019-01-01 05:09:03.282000 +08:00        |\n",
      "|3.26  |shopping_net |CITIUS33CHI|XXXX-XXXX-XXXX-5827|0       |41.831174         |-74.335559        |12446        |fraud_Schmidt and Sons                  |M     |60+      |RC           |cf4ec843ce0e6fcd2ff6f1f3b96ac0a424e7bd9d1bc218d809034c9964b6f5cd|Harrington Park         |NJ   |7640 |2019-01-01 05:09:20.000000 +08:00 |2019-01-01 05:09:20.448213 +08:00|2019-01-01 05:09:20.435000 +08:00        |\n",
      "|327.0 |misc_net     |CITIUS33CHI|XXXX-XXXX-XXXX-7910|0       |36.384091999999995|-99.048472        |73852        |fraud_Lebsack and Sons                  |F     |60+      |LM           |63ee79ef2f611e67808b0ab36476770019ab8879b5016b3fdca2c6425912f785|Lahoma                  |OK   |73754|2019-01-01 05:10:49.000000 +08:00 |2019-01-01 05:10:49.779770 +08:00|2019-01-01 05:10:49.369000 +08:00        |\n",
      "|341.67|shopping_pos |           |XXXX-XXXX-XXXX-6143|0       |38.674491         |-88.305767        |62824        |fraud_Mayert Group                      |M     |60+      |NT           |7bc2431b7fdbc3099e1e734a20a1626bcc4a3bca568772f557707acc78922300|Carlisle                |IN   |47838|2019-01-01 05:10:58.000000 +08:00 |2019-01-01 05:10:58.780653 +08:00|2019-01-01 05:10:58.125000 +08:00        |\n",
      "|63.07 |food_dining  |APBCUS61   |XXXX-XXXX-XXXX-6329|0       |41.430274         |-79.492553        |16364        |fraud_Konopelski, Schneider and Hartmann|M     |60+      |JG           |2c1d942f0e51bfcd67ee4b33f80840515c14cad3ccfb315e96af67f125fbd047|Harborcreek             |PA   |16421|2019-01-01 05:11:14.000000 +08:00 |2019-01-01 05:11:14.645606 +08:00|2019-01-01 05:11:14.800000 +08:00        |\n",
      "|44.71 |grocery_pos  |           |XXXX-XXXX-XXXX-1019|0       |40.079588         |-74.84808699999999|08016        |fraud_Schultz, Simonis and Little       |M     |40-49    |KR           |43569429a2e9136d343f9f2e1e692a695b06fe77c6100a863674d098da1a977b|Elizabeth               |NJ   |7208 |2019-01-01 05:12:34.000000 +08:00 |2019-01-01 05:12:34.332240 +08:00|2019-01-01 05:12:34.863000 +08:00        |\n",
      "+------+-------------+-----------+-------------------+--------+------------------+------------------+-------------+----------------------------------------+------+---------+-------------+----------------------------------------------------------------+------------------------+-----+-----+----------------------------------+---------------------------------+-----------------------------------------+\n",
      "only showing top 20 rows\n"
     ]
    }
   ],
   "source": [
    "from pyspark.sql.functions import col, sha2, concat_ws, lit, year, to_date\n",
    "\n",
    "# 1. Mask credit card number (keep last 4 digits only)\n",
    "df_anonymized = df_cleaned.withColumn(\"cc_num_masked\", concat_ws(\"\", lit(\"XXXX-XXXX-XXXX-\"), col(\"cc_num\").substr(-4, 4)))\n",
    "\n",
    "# 2. Mask full name (keep initials or drop)\n",
    "df_anonymized = df_anonymized.withColumn(\"name_initials\", \n",
    "    concat_ws(\"\", col(\"first_name\").substr(1, 1), col(\"last_name\").substr(1, 1)))\n",
    "\n",
    "# 3. Age bucket from date of birth\n",
    "df_anonymized = df_anonymized.withColumn(\"dob\", to_date(\"dob\"))\n",
    "df_anonymized = df_anonymized.withColumn(\"age\", 2025 - year(col(\"dob\")))\n",
    "df_anonymized = df_anonymized.withColumn(\"age_group\",\n",
    "    when(col(\"age\") < 20, \"<20\")\n",
    "    .when((col(\"age\") >= 20) & (col(\"age\") < 30), \"20-29\")\n",
    "    .when((col(\"age\") >= 30) & (col(\"age\") < 40), \"30-39\")\n",
    "    .when((col(\"age\") >= 40) & (col(\"age\") < 50), \"40-49\")\n",
    "    .when((col(\"age\") >= 50) & (col(\"age\") < 60), \"50-59\")\n",
    "    .otherwise(\"60+\")\n",
    ")\n",
    "\n",
    "# 4. Hash transaction ID (optional, keeps uniqueness)\n",
    "df_anonymized = df_anonymized.withColumn(\"trans_num_hash\", sha2(col(\"trans_num\"), 256))\n",
    "\n",
    "# 5. Drop sensitive PII columns\n",
    "pii_columns_to_drop = [\n",
    "    \"person_name\", \"first_name\", \"last_name\", \"dob\", \"cc_num\", \"trans_num\", \"job\", \"street\"\n",
    "]\n",
    "\n",
    "df_anonymized = df_anonymized.drop(*pii_columns_to_drop)\n",
    "\n",
    "# 6. Final selection of relevant and anonymized columns\n",
    "df_anonymized = df_anonymized.select(\n",
    "    \"amt\", \"category\", \"cc_bic\", \"cc_num_masked\", \"is_fraud\",\n",
    "    \"merch_lat\", \"merch_long\", \"merch_zipcode\", \"merchant\",\n",
    "    \"gender\", \"age_group\", \"name_initials\",\n",
    "    \"trans_num_hash\", \"city\", \"state\", \"zip\",\n",
    "    \"trans_date_trans_time_ts_formatted\",\"merch_eff_time_fixed_ts_formatted\",\"merch_last_update_time_fixed_ts_formatted\"\n",
    ")\n",
    "df_anonymized.show(truncate=False)\n",
    "\n",
    "\n",
    "# For PII Data Handling, i did it last because i thought there's some useful information i can analyze before i do any data redaction (lol, in the end, no difference if i handled it earlier)\n",
    "# PII Data Handling approach for:\n",
    "# Credit Card No: masking the numbers and showing only the last 4 digits\n",
    "# First/Last Name: Capture the Initials only\n",
    "# Age: group by age bucket\n",
    "# Transaction ID: Apply SHA-256 hashing, but prefer using a custom key-based encryption method for better control and potential reversibility.\n",
    "# Drop other sensitive PII Columns"
   ]
  },
  {
   "cell_type": "markdown",
   "id": "6c0db445",
   "metadata": {},
   "source": [
    "Testing Grounds"
   ]
  },
  {
   "cell_type": "code",
   "execution_count": 25,
   "id": "e067d8a7",
   "metadata": {},
   "outputs": [],
   "source": [
    "# to test JAVA_HOME\n",
    "# import os\n",
    "# print(\"JAVA_HOME:\", os.environ.get(\"JAVA_HOME\"))\n"
   ]
  }
 ],
 "metadata": {
  "kernelspec": {
   "display_name": "Python 3",
   "language": "python",
   "name": "python3"
  },
  "language_info": {
   "codemirror_mode": {
    "name": "ipython",
    "version": 3
   },
   "file_extension": ".py",
   "mimetype": "text/x-python",
   "name": "python",
   "nbconvert_exporter": "python",
   "pygments_lexer": "ipython3",
   "version": "3.10.9"
  }
 },
 "nbformat": 4,
 "nbformat_minor": 5
}
